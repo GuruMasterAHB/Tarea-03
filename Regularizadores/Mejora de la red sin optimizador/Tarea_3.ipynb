{
  "nbformat": 4,
  "nbformat_minor": 0,
  "metadata": {
    "colab": {
      "provenance": []
    },
    "kernelspec": {
      "name": "python3",
      "display_name": "Python 3"
    },
    "language_info": {
      "name": "python"
    }
  },
  "cells": [
    {
      "cell_type": "code",
      "execution_count": 11,
      "metadata": {
        "id": "PLwl1LzBl3A5"
      },
      "outputs": [],
      "source": [
        "# Para llevar un registro de los cambios\n",
        "%pip install -q comet_ml\n",
        "import comet_ml\n",
        "comet_ml.init(project_name='Tarea 03')"
      ]
    },
    {
      "cell_type": "code",
      "source": [
        "# Librerías\n",
        "import tensorflow as tf\n",
        "from tensorflow import keras\n",
        "from tensorflow.keras.datasets import mnist\n",
        "from tensorflow.keras.models import Sequential\n",
        "from tensorflow.keras.layers import Dense, Dropout, Activation, Flatten, Input\n",
        "from tensorflow.keras.optimizers import RMSprop, SGD\n",
        "from tensorflow.keras import regularizers\n",
        "from keras.callbacks import ModelCheckpoint"
      ],
      "metadata": {
        "id": "khfjh-UbkyZX"
      },
      "execution_count": 12,
      "outputs": []
    },
    {
      "cell_type": "code",
      "source": [
        "experiment = comet_ml.Experiment(\n",
        "    auto_histogram_weight_logging=True,\n",
        "    auto_histogram_gradient_logging=True,\n",
        "    auto_histogram_activation_logging=True,\n",
        "    log_code=True,\n",
        ")\n",
        "experiment.set_name(\"Sobre_ajuste_1\")"
      ],
      "metadata": {
        "colab": {
          "base_uri": "https://localhost:8080/"
        },
        "id": "3u9sQxMLsAst",
        "outputId": "3fa09a16-d589-4ea8-e12e-372370a7bd58"
      },
      "execution_count": 13,
      "outputs": [
        {
          "output_type": "stream",
          "name": "stderr",
          "text": [
            "\u001b[1;38;5;39mCOMET INFO:\u001b[0m ---------------------------------------------------------------------------------------\n",
            "\u001b[1;38;5;39mCOMET INFO:\u001b[0m Comet.ml Experiment Summary\n",
            "\u001b[1;38;5;39mCOMET INFO:\u001b[0m ---------------------------------------------------------------------------------------\n",
            "\u001b[1;38;5;39mCOMET INFO:\u001b[0m   Data:\n",
            "\u001b[1;38;5;39mCOMET INFO:\u001b[0m     display_summary_level : 1\n",
            "\u001b[1;38;5;39mCOMET INFO:\u001b[0m     url                   : https://www.comet.com/gurumasterahb/tarea-03/a1e87c4f8a024e49a3f223a5c6111468\n",
            "\u001b[1;38;5;39mCOMET INFO:\u001b[0m   Metrics [count] (min, max):\n",
            "\u001b[1;38;5;39mCOMET INFO:\u001b[0m     accuracy [3]                  : (0.902816653251648, 0.9641000032424927)\n",
            "\u001b[1;38;5;39mCOMET INFO:\u001b[0m     batch_accuracy [3702]         : (0.12727272510528564, 1.0)\n",
            "\u001b[1;38;5;39mCOMET INFO:\u001b[0m     batch_loss [3702]             : (0.048914890736341476, 2.5921216011047363)\n",
            "\u001b[1;38;5;39mCOMET INFO:\u001b[0m     epoch_duration [3]            : (117.92520224799995, 126.33244855100003)\n",
            "\u001b[1;38;5;39mCOMET INFO:\u001b[0m     loss [3]                      : (0.11817961186170578, 0.31512555480003357)\n",
            "\u001b[1;38;5;39mCOMET INFO:\u001b[0m     val_accuracy [3]              : (0.9581999778747559, 0.9729999899864197)\n",
            "\u001b[1;38;5;39mCOMET INFO:\u001b[0m     val_loss [3]                  : (0.0966426357626915, 0.13423500955104828)\n",
            "\u001b[1;38;5;39mCOMET INFO:\u001b[0m     validate_batch_accuracy [600] : (0.9433106780052185, 1.0)\n",
            "\u001b[1;38;5;39mCOMET INFO:\u001b[0m     validate_batch_loss [600]     : (0.000194255611859262, 0.17682260274887085)\n",
            "\u001b[1;38;5;39mCOMET INFO:\u001b[0m   Others:\n",
            "\u001b[1;38;5;39mCOMET INFO:\u001b[0m     Name             : SObre_ajuste_1\n",
            "\u001b[1;38;5;39mCOMET INFO:\u001b[0m     trainable_params : 639300\n",
            "\u001b[1;38;5;39mCOMET INFO:\u001b[0m   Parameters:\n",
            "\u001b[1;38;5;39mCOMET INFO:\u001b[0m     Adam_amsgrad                 : False\n",
            "\u001b[1;38;5;39mCOMET INFO:\u001b[0m     Adam_beta_1                  : 0.9\n",
            "\u001b[1;38;5;39mCOMET INFO:\u001b[0m     Adam_beta_2                  : 0.999\n",
            "\u001b[1;38;5;39mCOMET INFO:\u001b[0m     Adam_clipnorm                : 1\n",
            "\u001b[1;38;5;39mCOMET INFO:\u001b[0m     Adam_clipvalue               : 1\n",
            "\u001b[1;38;5;39mCOMET INFO:\u001b[0m     Adam_ema_momentum            : 0.99\n",
            "\u001b[1;38;5;39mCOMET INFO:\u001b[0m     Adam_ema_overwrite_frequency : 1\n",
            "\u001b[1;38;5;39mCOMET INFO:\u001b[0m     Adam_epsilon                 : 1e-07\n",
            "\u001b[1;38;5;39mCOMET INFO:\u001b[0m     Adam_global_clipnorm         : 1\n",
            "\u001b[1;38;5;39mCOMET INFO:\u001b[0m     Adam_is_legacy_optimizer     : False\n",
            "\u001b[1;38;5;39mCOMET INFO:\u001b[0m     Adam_jit_compile             : False\n",
            "\u001b[1;38;5;39mCOMET INFO:\u001b[0m     Adam_learning_rate           : 0.0010000000474974513\n",
            "\u001b[1;38;5;39mCOMET INFO:\u001b[0m     Adam_name                    : Adam\n",
            "\u001b[1;38;5;39mCOMET INFO:\u001b[0m     Adam_use_ema                 : False\n",
            "\u001b[1;38;5;39mCOMET INFO:\u001b[0m     Adam_weight_decay            : 1\n",
            "\u001b[1;38;5;39mCOMET INFO:\u001b[0m     batch_size                   : 5\n",
            "\u001b[1;38;5;39mCOMET INFO:\u001b[0m     epochs                       : 20\n",
            "\u001b[1;38;5;39mCOMET INFO:\u001b[0m     learning_rate                : 0.01\n",
            "\u001b[1;38;5;39mCOMET INFO:\u001b[0m     loss                         : categorical_crossentropy\n",
            "\u001b[1;38;5;39mCOMET INFO:\u001b[0m     optimizer                    : adam\n",
            "\u001b[1;38;5;39mCOMET INFO:\u001b[0m     steps                        : 12000\n",
            "\u001b[1;38;5;39mCOMET INFO:\u001b[0m   Uploads:\n",
            "\u001b[1;38;5;39mCOMET INFO:\u001b[0m     environment details : 1\n",
            "\u001b[1;38;5;39mCOMET INFO:\u001b[0m     filename            : 1\n",
            "\u001b[1;38;5;39mCOMET INFO:\u001b[0m     histogram3d         : 36\n",
            "\u001b[1;38;5;39mCOMET INFO:\u001b[0m     installed packages  : 1\n",
            "\u001b[1;38;5;39mCOMET INFO:\u001b[0m     model graph         : 1\n",
            "\u001b[1;38;5;39mCOMET INFO:\u001b[0m     notebook            : 2\n",
            "\u001b[1;38;5;39mCOMET INFO:\u001b[0m     os packages         : 1\n",
            "\u001b[1;38;5;39mCOMET INFO:\u001b[0m     source_code         : 1\n",
            "\u001b[1;38;5;39mCOMET INFO:\u001b[0m \n",
            "\u001b[1;38;5;214mCOMET WARNING:\u001b[0m As you are running in a Jupyter environment, you will need to call `experiment.end()` when finished to ensure all metrics and code are logged before exiting.\n",
            "\u001b[1;38;5;39mCOMET INFO:\u001b[0m Couldn't find a Git repository in '/content' nor in any parent directory. Set `COMET_GIT_DIRECTORY` if your Git Repository is elsewhere.\n",
            "\u001b[1;38;5;39mCOMET INFO:\u001b[0m Experiment is live on comet.com https://www.comet.com/gurumasterahb/tarea-03/2dc93145db244648aca7daacd96f56e3\n",
            "\n"
          ]
        }
      ]
    },
    {
      "cell_type": "code",
      "source": [
        "# Carga el dataset de MNIST\n",
        "(x_train, y_train), (x_test, y_test) = mnist.load_data()"
      ],
      "metadata": {
        "id": "5GhobFrzsKp0"
      },
      "execution_count": 14,
      "outputs": []
    },
    {
      "cell_type": "code",
      "source": [
        "# Convierte y normaliza los datos de entrada\n",
        "x_train = x_train.astype('float32')\n",
        "x_test = x_test.astype('float32')\n",
        "x_train /= 255\n",
        "x_test /= 255"
      ],
      "metadata": {
        "id": "7GpqRRmGuDve"
      },
      "execution_count": 15,
      "outputs": []
    },
    {
      "cell_type": "code",
      "source": [
        "# to_categorical convierte las etiquetas (train, test) en matrices one-hot\n",
        "num_classes = 10\n",
        "y_trainc = keras.utils.to_categorical(y_train, num_classes)\n",
        "y_testc = keras.utils.to_categorical(y_test, num_classes)"
      ],
      "metadata": {
        "id": "K0df0m67vFHQ"
      },
      "execution_count": 16,
      "outputs": []
    },
    {
      "cell_type": "code",
      "source": [
        "  # Diccionario con los parámetros que se registrarán en comet\n",
        "  parameters = {\n",
        "      'epochs' : 20,\n",
        "      'batch_size' : 10,\n",
        "      'learning_rate' : 0.010,\n",
        "      'loss' : 'categorical_crossentropy',\n",
        "      'optimizer' : 'adam'\n",
        "  }\n",
        "  experiment.log_parameters(parameters)"
      ],
      "metadata": {
        "id": "Nt6SR_7Cv-8g"
      },
      "execution_count": 17,
      "outputs": []
    },
    {
      "cell_type": "code",
      "source": [
        "# Creación del modelo\n",
        "model = Sequential()\n",
        "# Es como una \"primera capa\" de tres capas\n",
        "model.add(Input(shape = (28,28))) # Matrices de entrada de 28x28 (imáegenes)\n",
        "model.add(Flatten()) # Convierte las matrices de 28x28 en matrices de 784x1\n",
        "model.add(Dense(784, activation = 'sigmoid'))\n",
        "model.add(Dropout(0.5))\n",
        "model.add(Dense(30, activation = 'relu')) # Segunda capa\n",
        "model.add(Dense(10, activation = 'softmax')) # Tercera capa\n",
        "\n",
        "model.summary()"
      ],
      "metadata": {
        "colab": {
          "base_uri": "https://localhost:8080/"
        },
        "id": "AP1jXJ7Mx5N2",
        "outputId": "98bc089f-bdfe-431a-af39-45868bb1b008"
      },
      "execution_count": 18,
      "outputs": [
        {
          "output_type": "stream",
          "name": "stdout",
          "text": [
            "Model: \"sequential_1\"\n",
            "_________________________________________________________________\n",
            " Layer (type)                Output Shape              Param #   \n",
            "=================================================================\n",
            " flatten_1 (Flatten)         (None, 784)               0         \n",
            "                                                                 \n",
            " dense_3 (Dense)             (None, 784)               615440    \n",
            "                                                                 \n",
            " dropout_1 (Dropout)         (None, 784)               0         \n",
            "                                                                 \n",
            " dense_4 (Dense)             (None, 30)                23550     \n",
            "                                                                 \n",
            " dense_5 (Dense)             (None, 10)                310       \n",
            "                                                                 \n",
            "=================================================================\n",
            "Total params: 639300 (2.44 MB)\n",
            "Trainable params: 639300 (2.44 MB)\n",
            "Non-trainable params: 0 (0.00 Byte)\n",
            "_________________________________________________________________\n"
          ]
        }
      ]
    },
    {
      "cell_type": "code",
      "source": [
        "# Checkpoint que guarda el mejor modelo (cuando la función de costo alcanza un mínimo)\n",
        "checkpoint = ModelCheckpoint(filepath = 'best_model.hdf5', monitor = 'val_loss', verbose = 1, save_best_only = True, mode = 'min')"
      ],
      "metadata": {
        "id": "6X-WyYYzBjQI"
      },
      "execution_count": 19,
      "outputs": []
    },
    {
      "cell_type": "code",
      "source": [
        "# optimizer = RMSprop(learning_rate = 0.0005)\n",
        "optimizer = 'adam'\n",
        "model.compile(loss = parameters['loss'], optimizer = optimizer, metrics = ['accuracy'])\n",
        "model.fit(x_train, y_trainc, batch_size = parameters['batch_size'], epochs = parameters['epochs'], verbose = 1, validation_data = (x_test, y_testc), callbacks = [checkpoint])"
      ],
      "metadata": {
        "colab": {
          "base_uri": "https://localhost:8080/"
        },
        "id": "tI9RGkPFCLSH",
        "outputId": "8c0f7517-0235-49b4-a216-033758ab67b8"
      },
      "execution_count": 20,
      "outputs": [
        {
          "output_type": "stream",
          "name": "stdout",
          "text": [
            "Epoch 1/20\n",
            "6000/6000 [==============================] - ETA: 0s - loss: 0.3388 - accuracy: 0.8963\n",
            "Epoch 1: val_loss improved from inf to 0.14820, saving model to best_model.hdf5\n",
            "6000/6000 [==============================] - 72s 12ms/step - loss: 0.3388 - accuracy: 0.8963 - val_loss: 0.1482 - val_accuracy: 0.9552\n",
            "Epoch 2/20\n",
            "5999/6000 [============================>.] - ETA: 0s - loss: 0.1587 - accuracy: 0.9527\n",
            "Epoch 2: val_loss improved from 0.14820 to 0.09813, saving model to best_model.hdf5\n",
            "6000/6000 [==============================] - 65s 11ms/step - loss: 0.1587 - accuracy: 0.9527 - val_loss: 0.0981 - val_accuracy: 0.9704\n",
            "Epoch 3/20\n",
            "5995/6000 [============================>.] - ETA: 0s - loss: 0.1172 - accuracy: 0.9652\n",
            "Epoch 3: val_loss improved from 0.09813 to 0.08460, saving model to best_model.hdf5\n",
            "6000/6000 [==============================] - 63s 10ms/step - loss: 0.1172 - accuracy: 0.9653 - val_loss: 0.0846 - val_accuracy: 0.9753\n",
            "Epoch 4/20\n",
            "5996/6000 [============================>.] - ETA: 0s - loss: 0.0991 - accuracy: 0.9695\n",
            "Epoch 4: val_loss improved from 0.08460 to 0.08119, saving model to best_model.hdf5\n",
            "6000/6000 [==============================] - 62s 10ms/step - loss: 0.0992 - accuracy: 0.9695 - val_loss: 0.0812 - val_accuracy: 0.9751\n",
            "Epoch 5/20\n",
            "5997/6000 [============================>.] - ETA: 0s - loss: 0.0811 - accuracy: 0.9743\n",
            "Epoch 5: val_loss improved from 0.08119 to 0.07308, saving model to best_model.hdf5\n",
            "6000/6000 [==============================] - 63s 10ms/step - loss: 0.0811 - accuracy: 0.9743 - val_loss: 0.0731 - val_accuracy: 0.9781\n",
            "Epoch 6/20\n",
            "5999/6000 [============================>.] - ETA: 0s - loss: 0.0727 - accuracy: 0.9769\n",
            "Epoch 6: val_loss did not improve from 0.07308\n",
            "6000/6000 [==============================] - 65s 11ms/step - loss: 0.0727 - accuracy: 0.9769 - val_loss: 0.0757 - val_accuracy: 0.9770\n",
            "Epoch 7/20\n",
            "5998/6000 [============================>.] - ETA: 0s - loss: 0.0650 - accuracy: 0.9792\n",
            "Epoch 7: val_loss improved from 0.07308 to 0.06378, saving model to best_model.hdf5\n",
            "6000/6000 [==============================] - 62s 10ms/step - loss: 0.0650 - accuracy: 0.9792 - val_loss: 0.0638 - val_accuracy: 0.9811\n",
            "Epoch 8/20\n",
            "5998/6000 [============================>.] - ETA: 0s - loss: 0.0563 - accuracy: 0.9824\n",
            "Epoch 8: val_loss did not improve from 0.06378\n",
            "6000/6000 [==============================] - 63s 10ms/step - loss: 0.0565 - accuracy: 0.9824 - val_loss: 0.0681 - val_accuracy: 0.9806\n",
            "Epoch 9/20\n",
            "5997/6000 [============================>.] - ETA: 0s - loss: 0.0535 - accuracy: 0.9829\n",
            "Epoch 9: val_loss did not improve from 0.06378\n",
            "6000/6000 [==============================] - 65s 11ms/step - loss: 0.0535 - accuracy: 0.9829 - val_loss: 0.0699 - val_accuracy: 0.9799\n",
            "Epoch 10/20\n",
            "5995/6000 [============================>.] - ETA: 0s - loss: 0.0513 - accuracy: 0.9841\n",
            "Epoch 10: val_loss did not improve from 0.06378\n",
            "6000/6000 [==============================] - 62s 10ms/step - loss: 0.0513 - accuracy: 0.9841 - val_loss: 0.0670 - val_accuracy: 0.9805\n",
            "Epoch 11/20\n",
            "6000/6000 [==============================] - ETA: 0s - loss: 0.0475 - accuracy: 0.9850\n",
            "Epoch 11: val_loss did not improve from 0.06378\n",
            "6000/6000 [==============================] - 63s 11ms/step - loss: 0.0475 - accuracy: 0.9850 - val_loss: 0.0719 - val_accuracy: 0.9802\n",
            "Epoch 12/20\n",
            "5999/6000 [============================>.] - ETA: 0s - loss: 0.0435 - accuracy: 0.9864\n",
            "Epoch 12: val_loss improved from 0.06378 to 0.06176, saving model to best_model.hdf5\n",
            "6000/6000 [==============================] - 62s 10ms/step - loss: 0.0435 - accuracy: 0.9864 - val_loss: 0.0618 - val_accuracy: 0.9835\n",
            "Epoch 13/20\n",
            "5999/6000 [============================>.] - ETA: 0s - loss: 0.0403 - accuracy: 0.9869\n",
            "Epoch 13: val_loss did not improve from 0.06176\n",
            "6000/6000 [==============================] - 59s 10ms/step - loss: 0.0403 - accuracy: 0.9869 - val_loss: 0.0658 - val_accuracy: 0.9832\n",
            "Epoch 14/20\n",
            "5998/6000 [============================>.] - ETA: 0s - loss: 0.0401 - accuracy: 0.9868\n",
            "Epoch 14: val_loss did not improve from 0.06176\n",
            "6000/6000 [==============================] - 63s 10ms/step - loss: 0.0401 - accuracy: 0.9868 - val_loss: 0.0748 - val_accuracy: 0.9824\n",
            "Epoch 15/20\n",
            "5997/6000 [============================>.] - ETA: 0s - loss: 0.0368 - accuracy: 0.9884\n",
            "Epoch 15: val_loss did not improve from 0.06176\n",
            "6000/6000 [==============================] - 59s 10ms/step - loss: 0.0368 - accuracy: 0.9884 - val_loss: 0.0696 - val_accuracy: 0.9823\n",
            "Epoch 16/20\n",
            "5997/6000 [============================>.] - ETA: 0s - loss: 0.0347 - accuracy: 0.9886\n",
            "Epoch 16: val_loss did not improve from 0.06176\n",
            "6000/6000 [==============================] - 63s 10ms/step - loss: 0.0347 - accuracy: 0.9886 - val_loss: 0.0764 - val_accuracy: 0.9817\n",
            "Epoch 17/20\n",
            "5999/6000 [============================>.] - ETA: 0s - loss: 0.0331 - accuracy: 0.9891\n",
            "Epoch 17: val_loss did not improve from 0.06176\n",
            "6000/6000 [==============================] - 60s 10ms/step - loss: 0.0331 - accuracy: 0.9891 - val_loss: 0.0753 - val_accuracy: 0.9821\n",
            "Epoch 18/20\n",
            "5996/6000 [============================>.] - ETA: 0s - loss: 0.0344 - accuracy: 0.9890\n",
            "Epoch 18: val_loss did not improve from 0.06176\n",
            "6000/6000 [==============================] - 59s 10ms/step - loss: 0.0344 - accuracy: 0.9890 - val_loss: 0.0819 - val_accuracy: 0.9803\n",
            "Epoch 19/20\n",
            "5999/6000 [============================>.] - ETA: 0s - loss: 0.0308 - accuracy: 0.9903\n",
            "Epoch 19: val_loss did not improve from 0.06176\n",
            "6000/6000 [==============================] - 64s 11ms/step - loss: 0.0308 - accuracy: 0.9903 - val_loss: 0.0670 - val_accuracy: 0.9844\n",
            "Epoch 20/20\n",
            "5998/6000 [============================>.] - ETA: 0s - loss: 0.0297 - accuracy: 0.9906\n",
            "Epoch 20: val_loss did not improve from 0.06176\n",
            "6000/6000 [==============================] - 60s 10ms/step - loss: 0.0297 - accuracy: 0.9906 - val_loss: 0.0794 - val_accuracy: 0.9828\n"
          ]
        },
        {
          "output_type": "execute_result",
          "data": {
            "text/plain": [
              "<keras.src.callbacks.History at 0x7f9da423f1c0>"
            ]
          },
          "metadata": {},
          "execution_count": 20
        }
      ]
    },
    {
      "cell_type": "code",
      "source": [],
      "metadata": {
        "id": "lwnKSuYqPNxH"
      },
      "execution_count": 20,
      "outputs": []
    },
    {
      "cell_type": "code",
      "source": [
        "experiment.log_model('MNIST1', 'best_model.hdf5')\n",
        "experiment.end()"
      ],
      "metadata": {
        "colab": {
          "base_uri": "https://localhost:8080/"
        },
        "id": "QUyEuyczEF6s",
        "outputId": "1e820089-6c0b-4a24-c357-9e8a11f55c9b"
      },
      "execution_count": 21,
      "outputs": [
        {
          "output_type": "stream",
          "name": "stderr",
          "text": [
            "\u001b[1;38;5;39mCOMET INFO:\u001b[0m ---------------------------------------------------------------------------------------\n",
            "\u001b[1;38;5;39mCOMET INFO:\u001b[0m Comet.ml Experiment Summary\n",
            "\u001b[1;38;5;39mCOMET INFO:\u001b[0m ---------------------------------------------------------------------------------------\n",
            "\u001b[1;38;5;39mCOMET INFO:\u001b[0m   Data:\n",
            "\u001b[1;38;5;39mCOMET INFO:\u001b[0m     display_summary_level : 1\n",
            "\u001b[1;38;5;39mCOMET INFO:\u001b[0m     url                   : https://www.comet.com/gurumasterahb/tarea-03/2dc93145db244648aca7daacd96f56e3\n",
            "\u001b[1;38;5;39mCOMET INFO:\u001b[0m   Metrics [count] (min, max):\n",
            "\u001b[1;38;5;39mCOMET INFO:\u001b[0m     accuracy [20]                  : (0.896316647529602, 0.9906499981880188)\n",
            "\u001b[1;38;5;39mCOMET INFO:\u001b[0m     batch_accuracy [12000]         : (0.12727272510528564, 1.0)\n",
            "\u001b[1;38;5;39mCOMET INFO:\u001b[0m     batch_loss [12000]             : (1.1598736818996258e-05, 2.563690662384033)\n",
            "\u001b[1;38;5;39mCOMET INFO:\u001b[0m     epoch_duration [20]            : (58.972847939000076, 72.03461622099996)\n",
            "\u001b[1;38;5;39mCOMET INFO:\u001b[0m     loss [20]                      : (0.029687199741601944, 0.338828980922699)\n",
            "\u001b[1;38;5;39mCOMET INFO:\u001b[0m     val_accuracy [20]              : (0.9552000164985657, 0.9843999743461609)\n",
            "\u001b[1;38;5;39mCOMET INFO:\u001b[0m     val_loss [20]                  : (0.06176372244954109, 0.14819811284542084)\n",
            "\u001b[1;38;5;39mCOMET INFO:\u001b[0m     validate_batch_accuracy [2000] : (0.8999999761581421, 1.0)\n",
            "\u001b[1;38;5;39mCOMET INFO:\u001b[0m     validate_batch_loss [2000]     : (0.00012178573524579406, 0.19706302881240845)\n",
            "\u001b[1;38;5;39mCOMET INFO:\u001b[0m   Others:\n",
            "\u001b[1;38;5;39mCOMET INFO:\u001b[0m     Name             : Sobre_ajuste_1\n",
            "\u001b[1;38;5;39mCOMET INFO:\u001b[0m     trainable_params : 639300\n",
            "\u001b[1;38;5;39mCOMET INFO:\u001b[0m   Parameters:\n",
            "\u001b[1;38;5;39mCOMET INFO:\u001b[0m     Adam_amsgrad                 : False\n",
            "\u001b[1;38;5;39mCOMET INFO:\u001b[0m     Adam_beta_1                  : 0.9\n",
            "\u001b[1;38;5;39mCOMET INFO:\u001b[0m     Adam_beta_2                  : 0.999\n",
            "\u001b[1;38;5;39mCOMET INFO:\u001b[0m     Adam_clipnorm                : 1\n",
            "\u001b[1;38;5;39mCOMET INFO:\u001b[0m     Adam_clipvalue               : 1\n",
            "\u001b[1;38;5;39mCOMET INFO:\u001b[0m     Adam_ema_momentum            : 0.99\n",
            "\u001b[1;38;5;39mCOMET INFO:\u001b[0m     Adam_ema_overwrite_frequency : 1\n",
            "\u001b[1;38;5;39mCOMET INFO:\u001b[0m     Adam_epsilon                 : 1e-07\n",
            "\u001b[1;38;5;39mCOMET INFO:\u001b[0m     Adam_global_clipnorm         : 1\n",
            "\u001b[1;38;5;39mCOMET INFO:\u001b[0m     Adam_is_legacy_optimizer     : False\n",
            "\u001b[1;38;5;39mCOMET INFO:\u001b[0m     Adam_jit_compile             : False\n",
            "\u001b[1;38;5;39mCOMET INFO:\u001b[0m     Adam_learning_rate           : 0.0010000000474974513\n",
            "\u001b[1;38;5;39mCOMET INFO:\u001b[0m     Adam_name                    : Adam\n",
            "\u001b[1;38;5;39mCOMET INFO:\u001b[0m     Adam_use_ema                 : False\n",
            "\u001b[1;38;5;39mCOMET INFO:\u001b[0m     Adam_weight_decay            : 1\n",
            "\u001b[1;38;5;39mCOMET INFO:\u001b[0m     batch_size                   : 10\n",
            "\u001b[1;38;5;39mCOMET INFO:\u001b[0m     epochs                       : 20\n",
            "\u001b[1;38;5;39mCOMET INFO:\u001b[0m     learning_rate                : 0.01\n",
            "\u001b[1;38;5;39mCOMET INFO:\u001b[0m     loss                         : categorical_crossentropy\n",
            "\u001b[1;38;5;39mCOMET INFO:\u001b[0m     optimizer                    : adam\n",
            "\u001b[1;38;5;39mCOMET INFO:\u001b[0m     steps                        : 6000\n",
            "\u001b[1;38;5;39mCOMET INFO:\u001b[0m   Uploads:\n",
            "\u001b[1;38;5;39mCOMET INFO:\u001b[0m     environment details : 1\n",
            "\u001b[1;38;5;39mCOMET INFO:\u001b[0m     filename            : 1\n",
            "\u001b[1;38;5;39mCOMET INFO:\u001b[0m     histogram3d         : 189\n",
            "\u001b[1;38;5;39mCOMET INFO:\u001b[0m     installed packages  : 1\n",
            "\u001b[1;38;5;39mCOMET INFO:\u001b[0m     model graph         : 1\n",
            "\u001b[1;38;5;39mCOMET INFO:\u001b[0m     model-element       : 1 (7.35 MB)\n",
            "\u001b[1;38;5;39mCOMET INFO:\u001b[0m     notebook            : 2\n",
            "\u001b[1;38;5;39mCOMET INFO:\u001b[0m     os packages         : 1\n",
            "\u001b[1;38;5;39mCOMET INFO:\u001b[0m     source_code         : 1\n",
            "\u001b[1;38;5;39mCOMET INFO:\u001b[0m \n",
            "\u001b[1;38;5;39mCOMET INFO:\u001b[0m Please wait for metadata to finish uploading (timeout is 3600 seconds)\n"
          ]
        }
      ]
    }
  ]
}