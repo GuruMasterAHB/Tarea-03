{
  "nbformat": 4,
  "nbformat_minor": 0,
  "metadata": {
    "colab": {
      "provenance": []
    },
    "kernelspec": {
      "name": "python3",
      "display_name": "Python 3"
    },
    "language_info": {
      "name": "python"
    }
  },
  "cells": [
    {
      "cell_type": "code",
      "execution_count": 52,
      "metadata": {
        "id": "PLwl1LzBl3A5"
      },
      "outputs": [],
      "source": [
        "# Para llevar un registro de los cambios\n",
        "%pip install -q comet_ml\n",
        "import comet_ml\n",
        "comet_ml.init(project_name='Tarea 03')"
      ]
    },
    {
      "cell_type": "code",
      "source": [
        "# Librerías\n",
        "import tensorflow as tf\n",
        "from tensorflow import keras\n",
        "from tensorflow.keras.datasets import mnist\n",
        "from tensorflow.keras.models import Sequential\n",
        "from tensorflow.keras.layers import Dense, Dropout, Activation, Flatten, Input\n",
        "from tensorflow.keras.optimizers import RMSprop, SGD\n",
        "from tensorflow.keras import regularizers\n",
        "from keras.callbacks import ModelCheckpoint"
      ],
      "metadata": {
        "id": "khfjh-UbkyZX"
      },
      "execution_count": 53,
      "outputs": []
    },
    {
      "cell_type": "code",
      "source": [
        "experiment = comet_ml.Experiment(\n",
        "    auto_histogram_weight_logging=True,\n",
        "    auto_histogram_gradient_logging=True,\n",
        "    auto_histogram_activation_logging=True,\n",
        "    log_code=True,\n",
        ")\n",
        "experiment.set_name(\"Regularización_L2\")"
      ],
      "metadata": {
        "colab": {
          "base_uri": "https://localhost:8080/"
        },
        "id": "3u9sQxMLsAst",
        "outputId": "95b73f24-34e0-47e7-d8bd-d080de7fe457"
      },
      "execution_count": 54,
      "outputs": [
        {
          "output_type": "stream",
          "name": "stderr",
          "text": [
            "\u001b[1;38;5;214mCOMET WARNING:\u001b[0m As you are running in a Jupyter environment, you will need to call `experiment.end()` when finished to ensure all metrics and code are logged before exiting.\n",
            "\u001b[1;38;5;39mCOMET INFO:\u001b[0m Couldn't find a Git repository in '/content' nor in any parent directory. Set `COMET_GIT_DIRECTORY` if your Git Repository is elsewhere.\n",
            "\u001b[1;38;5;39mCOMET INFO:\u001b[0m Experiment is live on comet.com https://www.comet.com/gurumasterahb/tarea-03/7ee556e9e3f44e9bb30be0f2d7768654\n",
            "\n"
          ]
        }
      ]
    },
    {
      "cell_type": "code",
      "source": [
        "# Carga el dataset de MNIST\n",
        "(x_train, y_train), (x_test, y_test) = mnist.load_data()"
      ],
      "metadata": {
        "id": "5GhobFrzsKp0"
      },
      "execution_count": 55,
      "outputs": []
    },
    {
      "cell_type": "code",
      "source": [
        "# Convierte y normaliza los datos de entrada\n",
        "x_train = x_train.astype('float32')\n",
        "x_test = x_test.astype('float32')\n",
        "x_train /= 255\n",
        "x_test /= 255"
      ],
      "metadata": {
        "id": "7GpqRRmGuDve"
      },
      "execution_count": 56,
      "outputs": []
    },
    {
      "cell_type": "code",
      "source": [
        "# to_categorical convierte las etiquetas (train, test) en matrices one-hot\n",
        "num_classes = 10\n",
        "y_trainc = keras.utils.to_categorical(y_train, num_classes)\n",
        "y_testc = keras.utils.to_categorical(y_test, num_classes)"
      ],
      "metadata": {
        "id": "K0df0m67vFHQ"
      },
      "execution_count": 57,
      "outputs": []
    },
    {
      "cell_type": "code",
      "source": [
        "  # Diccionario con los parámetros que se registrarán en comet\n",
        "  parameters = {\n",
        "      'epochs' : 20,\n",
        "      'batch_size' : 10,\n",
        "      'learning_rate' : 0.010,\n",
        "      'loss' : 'categorical_crossentropy',\n",
        "      'optimizer' : 'adam'\n",
        "  }\n",
        "  experiment.log_parameters(parameters)"
      ],
      "metadata": {
        "id": "Nt6SR_7Cv-8g"
      },
      "execution_count": 58,
      "outputs": []
    },
    {
      "cell_type": "code",
      "source": [
        "# Creación del modelo\n",
        "model = Sequential()\n",
        "# Es como una \"primera capa\" de tres capas\n",
        "model.add(Input(shape = (28,28))) # Matrices de entrada de 28x28 (imáegenes)\n",
        "model.add(Flatten()) # Convierte las matrices de 28x28 en matrices de 784x1\n",
        "model.add(Dense(784, activation = 'sigmoid'))\n",
        "model.add(Dropout(0.5))\n",
        "model.add(Dense(30, activation = 'relu', kernel_regularizer = regularizers.L2(0.01))) # Segunda capa\n",
        "model.add(Dense(10, activation = 'softmax')) # Tercera capa\n",
        "\n",
        "model.summary()"
      ],
      "metadata": {
        "colab": {
          "base_uri": "https://localhost:8080/"
        },
        "id": "AP1jXJ7Mx5N2",
        "outputId": "94edc0c8-c6ee-4e25-d0fb-d8c96806e160"
      },
      "execution_count": 59,
      "outputs": [
        {
          "output_type": "stream",
          "name": "stdout",
          "text": [
            "Model: \"sequential_5\"\n",
            "_________________________________________________________________\n",
            " Layer (type)                Output Shape              Param #   \n",
            "=================================================================\n",
            " flatten_5 (Flatten)         (None, 784)               0         \n",
            "                                                                 \n",
            " dense_13 (Dense)            (None, 784)               615440    \n",
            "                                                                 \n",
            " dropout_5 (Dropout)         (None, 784)               0         \n",
            "                                                                 \n",
            " dense_14 (Dense)            (None, 30)                23550     \n",
            "                                                                 \n",
            " dense_15 (Dense)            (None, 10)                310       \n",
            "                                                                 \n",
            "=================================================================\n",
            "Total params: 639300 (2.44 MB)\n",
            "Trainable params: 639300 (2.44 MB)\n",
            "Non-trainable params: 0 (0.00 Byte)\n",
            "_________________________________________________________________\n"
          ]
        }
      ]
    },
    {
      "cell_type": "code",
      "source": [
        "# Checkpoint que guarda el mejor modelo (cuando la función de costo alcanza un mínimo)\n",
        "checkpoint = ModelCheckpoint(filepath = 'best_model.hdf5', monitor = 'val_loss', verbose = 1, save_best_only = True, mode = 'min')"
      ],
      "metadata": {
        "id": "6X-WyYYzBjQI"
      },
      "execution_count": 60,
      "outputs": []
    },
    {
      "cell_type": "code",
      "source": [
        "# optimizer = RMSprop(learning_rate = 0.0005)\n",
        "optimizer = 'adam'\n",
        "model.compile(loss = parameters['loss'], optimizer = optimizer, metrics = ['accuracy'])\n",
        "model.fit(x_train, y_trainc, batch_size = parameters['batch_size'], epochs = parameters['epochs'], verbose = 1, validation_data = (x_test, y_testc), callbacks = [checkpoint])"
      ],
      "metadata": {
        "colab": {
          "base_uri": "https://localhost:8080/"
        },
        "id": "tI9RGkPFCLSH",
        "outputId": "18d71e3b-7885-41e3-a102-efc1035a60f4"
      },
      "execution_count": 61,
      "outputs": [
        {
          "output_type": "stream",
          "name": "stdout",
          "text": [
            "Epoch 1/20\n",
            "5999/6000 [============================>.] - ETA: 0s - loss: 0.5285 - accuracy: 0.8859\n",
            "Epoch 1: val_loss improved from inf to 0.29192, saving model to best_model.hdf5\n",
            "6000/6000 [==============================] - 66s 11ms/step - loss: 0.5285 - accuracy: 0.8860 - val_loss: 0.2919 - val_accuracy: 0.9433\n",
            "Epoch 2/20\n"
          ]
        },
        {
          "output_type": "stream",
          "name": "stderr",
          "text": [
            "/usr/local/lib/python3.10/dist-packages/keras/src/engine/training.py:3000: UserWarning: You are saving your model as an HDF5 file via `model.save()`. This file format is considered legacy. We recommend using instead the native Keras format, e.g. `model.save('my_model.keras')`.\n",
            "  saving_api.save_model(\n"
          ]
        },
        {
          "output_type": "stream",
          "name": "stdout",
          "text": [
            "5997/6000 [============================>.] - ETA: 0s - loss: 0.3030 - accuracy: 0.9379\n",
            "Epoch 2: val_loss improved from 0.29192 to 0.24397, saving model to best_model.hdf5\n",
            "6000/6000 [==============================] - 59s 10ms/step - loss: 0.3030 - accuracy: 0.9379 - val_loss: 0.2440 - val_accuracy: 0.9529\n",
            "Epoch 3/20\n",
            "5997/6000 [============================>.] - ETA: 0s - loss: 0.2533 - accuracy: 0.9499\n",
            "Epoch 3: val_loss improved from 0.24397 to 0.20831, saving model to best_model.hdf5\n",
            "6000/6000 [==============================] - 60s 10ms/step - loss: 0.2532 - accuracy: 0.9499 - val_loss: 0.2083 - val_accuracy: 0.9624\n",
            "Epoch 4/20\n",
            "6000/6000 [==============================] - ETA: 0s - loss: 0.2243 - accuracy: 0.9581\n",
            "Epoch 4: val_loss improved from 0.20831 to 0.19148, saving model to best_model.hdf5\n",
            "6000/6000 [==============================] - 61s 10ms/step - loss: 0.2243 - accuracy: 0.9581 - val_loss: 0.1915 - val_accuracy: 0.9662\n",
            "Epoch 5/20\n",
            "5995/6000 [============================>.] - ETA: 0s - loss: 0.2053 - accuracy: 0.9615\n",
            "Epoch 5: val_loss improved from 0.19148 to 0.17891, saving model to best_model.hdf5\n",
            "6000/6000 [==============================] - 58s 10ms/step - loss: 0.2054 - accuracy: 0.9614 - val_loss: 0.1789 - val_accuracy: 0.9684\n",
            "Epoch 6/20\n",
            "6000/6000 [==============================] - ETA: 0s - loss: 0.1946 - accuracy: 0.9645\n",
            "Epoch 6: val_loss improved from 0.17891 to 0.17658, saving model to best_model.hdf5\n",
            "6000/6000 [==============================] - 61s 10ms/step - loss: 0.1946 - accuracy: 0.9645 - val_loss: 0.1766 - val_accuracy: 0.9698\n",
            "Epoch 7/20\n",
            "6000/6000 [==============================] - ETA: 0s - loss: 0.1823 - accuracy: 0.9671\n",
            "Epoch 7: val_loss improved from 0.17658 to 0.17563, saving model to best_model.hdf5\n",
            "6000/6000 [==============================] - 65s 11ms/step - loss: 0.1823 - accuracy: 0.9671 - val_loss: 0.1756 - val_accuracy: 0.9706\n",
            "Epoch 8/20\n",
            "5998/6000 [============================>.] - ETA: 0s - loss: 0.1740 - accuracy: 0.9691\n",
            "Epoch 8: val_loss improved from 0.17563 to 0.15473, saving model to best_model.hdf5\n",
            "6000/6000 [==============================] - 70s 12ms/step - loss: 0.1741 - accuracy: 0.9690 - val_loss: 0.1547 - val_accuracy: 0.9749\n",
            "Epoch 9/20\n",
            "5995/6000 [============================>.] - ETA: 0s - loss: 0.1658 - accuracy: 0.9705\n",
            "Epoch 9: val_loss did not improve from 0.15473\n",
            "6000/6000 [==============================] - 62s 10ms/step - loss: 0.1658 - accuracy: 0.9705 - val_loss: 0.1601 - val_accuracy: 0.9738\n",
            "Epoch 10/20\n",
            "5997/6000 [============================>.] - ETA: 0s - loss: 0.1608 - accuracy: 0.9719\n",
            "Epoch 10: val_loss improved from 0.15473 to 0.14303, saving model to best_model.hdf5\n",
            "6000/6000 [==============================] - 65s 11ms/step - loss: 0.1608 - accuracy: 0.9719 - val_loss: 0.1430 - val_accuracy: 0.9762\n",
            "Epoch 11/20\n",
            "5994/6000 [============================>.] - ETA: 0s - loss: 0.1547 - accuracy: 0.9731\n",
            "Epoch 11: val_loss did not improve from 0.14303\n",
            "6000/6000 [==============================] - 61s 10ms/step - loss: 0.1547 - accuracy: 0.9731 - val_loss: 0.1438 - val_accuracy: 0.9760\n",
            "Epoch 12/20\n",
            "5997/6000 [============================>.] - ETA: 0s - loss: 0.1510 - accuracy: 0.9744\n",
            "Epoch 12: val_loss did not improve from 0.14303\n",
            "6000/6000 [==============================] - 62s 10ms/step - loss: 0.1510 - accuracy: 0.9744 - val_loss: 0.1583 - val_accuracy: 0.9735\n",
            "Epoch 13/20\n",
            "5995/6000 [============================>.] - ETA: 0s - loss: 0.1472 - accuracy: 0.9756\n",
            "Epoch 13: val_loss did not improve from 0.14303\n",
            "6000/6000 [==============================] - 60s 10ms/step - loss: 0.1473 - accuracy: 0.9755 - val_loss: 0.1517 - val_accuracy: 0.9744\n",
            "Epoch 14/20\n",
            "5999/6000 [============================>.] - ETA: 0s - loss: 0.1431 - accuracy: 0.9763\n",
            "Epoch 14: val_loss improved from 0.14303 to 0.14275, saving model to best_model.hdf5\n",
            "6000/6000 [==============================] - 61s 10ms/step - loss: 0.1431 - accuracy: 0.9763 - val_loss: 0.1428 - val_accuracy: 0.9756\n",
            "Epoch 15/20\n",
            "5999/6000 [============================>.] - ETA: 0s - loss: 0.1405 - accuracy: 0.9768\n",
            "Epoch 15: val_loss improved from 0.14275 to 0.14182, saving model to best_model.hdf5\n",
            "6000/6000 [==============================] - 63s 10ms/step - loss: 0.1405 - accuracy: 0.9768 - val_loss: 0.1418 - val_accuracy: 0.9750\n",
            "Epoch 16/20\n",
            "5998/6000 [============================>.] - ETA: 0s - loss: 0.1387 - accuracy: 0.9772\n",
            "Epoch 16: val_loss did not improve from 0.14182\n",
            "6000/6000 [==============================] - 59s 10ms/step - loss: 0.1387 - accuracy: 0.9772 - val_loss: 0.1509 - val_accuracy: 0.9766\n",
            "Epoch 17/20\n",
            "5997/6000 [============================>.] - ETA: 0s - loss: 0.1353 - accuracy: 0.9780\n",
            "Epoch 17: val_loss did not improve from 0.14182\n",
            "6000/6000 [==============================] - 61s 10ms/step - loss: 0.1353 - accuracy: 0.9780 - val_loss: 0.1426 - val_accuracy: 0.9781\n",
            "Epoch 18/20\n",
            "5999/6000 [============================>.] - ETA: 0s - loss: 0.1355 - accuracy: 0.9775\n",
            "Epoch 18: val_loss improved from 0.14182 to 0.13760, saving model to best_model.hdf5\n",
            "6000/6000 [==============================] - 61s 10ms/step - loss: 0.1355 - accuracy: 0.9775 - val_loss: 0.1376 - val_accuracy: 0.9773\n",
            "Epoch 19/20\n",
            "5996/6000 [============================>.] - ETA: 0s - loss: 0.1305 - accuracy: 0.9790\n",
            "Epoch 19: val_loss did not improve from 0.13760\n",
            "6000/6000 [==============================] - 60s 10ms/step - loss: 0.1305 - accuracy: 0.9790 - val_loss: 0.1453 - val_accuracy: 0.9774\n",
            "Epoch 20/20\n",
            "5998/6000 [============================>.] - ETA: 0s - loss: 0.1303 - accuracy: 0.9793\n",
            "Epoch 20: val_loss did not improve from 0.13760\n",
            "6000/6000 [==============================] - 60s 10ms/step - loss: 0.1303 - accuracy: 0.9793 - val_loss: 0.1411 - val_accuracy: 0.9785\n"
          ]
        },
        {
          "output_type": "execute_result",
          "data": {
            "text/plain": [
              "<keras.src.callbacks.History at 0x7f9dc846ded0>"
            ]
          },
          "metadata": {},
          "execution_count": 61
        }
      ]
    },
    {
      "cell_type": "code",
      "source": [],
      "metadata": {
        "id": "lwnKSuYqPNxH"
      },
      "execution_count": 61,
      "outputs": []
    },
    {
      "cell_type": "code",
      "source": [
        "experiment.log_model('MNIST1', 'best_model.hdf5')\n",
        "experiment.end()"
      ],
      "metadata": {
        "colab": {
          "base_uri": "https://localhost:8080/"
        },
        "id": "QUyEuyczEF6s",
        "outputId": "8b623c72-36e7-4a2f-8ed0-d71749d38be1"
      },
      "execution_count": 62,
      "outputs": [
        {
          "output_type": "stream",
          "name": "stderr",
          "text": [
            "\u001b[1;38;5;39mCOMET INFO:\u001b[0m ---------------------------------------------------------------------------------------\n",
            "\u001b[1;38;5;39mCOMET INFO:\u001b[0m Comet.ml Experiment Summary\n",
            "\u001b[1;38;5;39mCOMET INFO:\u001b[0m ---------------------------------------------------------------------------------------\n",
            "\u001b[1;38;5;39mCOMET INFO:\u001b[0m   Data:\n",
            "\u001b[1;38;5;39mCOMET INFO:\u001b[0m     display_summary_level : 1\n",
            "\u001b[1;38;5;39mCOMET INFO:\u001b[0m     url                   : https://www.comet.com/gurumasterahb/tarea-03/7ee556e9e3f44e9bb30be0f2d7768654\n",
            "\u001b[1;38;5;39mCOMET INFO:\u001b[0m   Metrics [count] (min, max):\n",
            "\u001b[1;38;5;39mCOMET INFO:\u001b[0m     accuracy [20]                  : (0.8859666585922241, 0.9793166518211365)\n",
            "\u001b[1;38;5;39mCOMET INFO:\u001b[0m     batch_accuracy [12000]         : (0.0, 1.0)\n",
            "\u001b[1;38;5;39mCOMET INFO:\u001b[0m     batch_loss [12000]             : (0.07032331824302673, 3.1708664894104004)\n",
            "\u001b[1;38;5;39mCOMET INFO:\u001b[0m     epoch_duration [20]            : (57.92180841899972, 69.88847463000002)\n",
            "\u001b[1;38;5;39mCOMET INFO:\u001b[0m     loss [20]                      : (0.13031037151813507, 0.5284606218338013)\n",
            "\u001b[1;38;5;39mCOMET INFO:\u001b[0m     val_accuracy [20]              : (0.9433000087738037, 0.9785000085830688)\n",
            "\u001b[1;38;5;39mCOMET INFO:\u001b[0m     val_loss [20]                  : (0.1376044899225235, 0.2919169068336487)\n",
            "\u001b[1;38;5;39mCOMET INFO:\u001b[0m     validate_batch_accuracy [2000] : (0.8999999761581421, 1.0)\n",
            "\u001b[1;38;5;39mCOMET INFO:\u001b[0m     validate_batch_loss [2000]     : (0.07080622017383575, 0.3439709544181824)\n",
            "\u001b[1;38;5;39mCOMET INFO:\u001b[0m   Others:\n",
            "\u001b[1;38;5;39mCOMET INFO:\u001b[0m     Name             : Regularización_L2\n",
            "\u001b[1;38;5;39mCOMET INFO:\u001b[0m     trainable_params : 639300\n",
            "\u001b[1;38;5;39mCOMET INFO:\u001b[0m   Parameters:\n",
            "\u001b[1;38;5;39mCOMET INFO:\u001b[0m     Adam_amsgrad                 : False\n",
            "\u001b[1;38;5;39mCOMET INFO:\u001b[0m     Adam_beta_1                  : 0.9\n",
            "\u001b[1;38;5;39mCOMET INFO:\u001b[0m     Adam_beta_2                  : 0.999\n",
            "\u001b[1;38;5;39mCOMET INFO:\u001b[0m     Adam_clipnorm                : 1\n",
            "\u001b[1;38;5;39mCOMET INFO:\u001b[0m     Adam_clipvalue               : 1\n",
            "\u001b[1;38;5;39mCOMET INFO:\u001b[0m     Adam_ema_momentum            : 0.99\n",
            "\u001b[1;38;5;39mCOMET INFO:\u001b[0m     Adam_ema_overwrite_frequency : 1\n",
            "\u001b[1;38;5;39mCOMET INFO:\u001b[0m     Adam_epsilon                 : 1e-07\n",
            "\u001b[1;38;5;39mCOMET INFO:\u001b[0m     Adam_global_clipnorm         : 1\n",
            "\u001b[1;38;5;39mCOMET INFO:\u001b[0m     Adam_is_legacy_optimizer     : False\n",
            "\u001b[1;38;5;39mCOMET INFO:\u001b[0m     Adam_jit_compile             : False\n",
            "\u001b[1;38;5;39mCOMET INFO:\u001b[0m     Adam_learning_rate           : 0.0010000000474974513\n",
            "\u001b[1;38;5;39mCOMET INFO:\u001b[0m     Adam_name                    : Adam\n",
            "\u001b[1;38;5;39mCOMET INFO:\u001b[0m     Adam_use_ema                 : False\n",
            "\u001b[1;38;5;39mCOMET INFO:\u001b[0m     Adam_weight_decay            : 1\n",
            "\u001b[1;38;5;39mCOMET INFO:\u001b[0m     batch_size                   : 10\n",
            "\u001b[1;38;5;39mCOMET INFO:\u001b[0m     epochs                       : 20\n",
            "\u001b[1;38;5;39mCOMET INFO:\u001b[0m     learning_rate                : 0.01\n",
            "\u001b[1;38;5;39mCOMET INFO:\u001b[0m     loss                         : categorical_crossentropy\n",
            "\u001b[1;38;5;39mCOMET INFO:\u001b[0m     optimizer                    : adam\n",
            "\u001b[1;38;5;39mCOMET INFO:\u001b[0m     steps                        : 6000\n",
            "\u001b[1;38;5;39mCOMET INFO:\u001b[0m   Uploads:\n",
            "\u001b[1;38;5;39mCOMET INFO:\u001b[0m     environment details : 1\n",
            "\u001b[1;38;5;39mCOMET INFO:\u001b[0m     filename            : 1\n",
            "\u001b[1;38;5;39mCOMET INFO:\u001b[0m     histogram3d         : 189\n",
            "\u001b[1;38;5;39mCOMET INFO:\u001b[0m     installed packages  : 1\n",
            "\u001b[1;38;5;39mCOMET INFO:\u001b[0m     model graph         : 1\n",
            "\u001b[1;38;5;39mCOMET INFO:\u001b[0m     model-element       : 1 (7.35 MB)\n",
            "\u001b[1;38;5;39mCOMET INFO:\u001b[0m     notebook            : 2\n",
            "\u001b[1;38;5;39mCOMET INFO:\u001b[0m     os packages         : 1\n",
            "\u001b[1;38;5;39mCOMET INFO:\u001b[0m     source_code         : 1\n",
            "\u001b[1;38;5;39mCOMET INFO:\u001b[0m \n",
            "\u001b[1;38;5;39mCOMET INFO:\u001b[0m Uploading 1 metrics, params and output messages\n"
          ]
        }
      ]
    }
  ]
}