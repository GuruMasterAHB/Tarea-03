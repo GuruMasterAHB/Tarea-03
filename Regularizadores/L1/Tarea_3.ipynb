{
  "nbformat": 4,
  "nbformat_minor": 0,
  "metadata": {
    "colab": {
      "provenance": []
    },
    "kernelspec": {
      "name": "python3",
      "display_name": "Python 3"
    },
    "language_info": {
      "name": "python"
    }
  },
  "cells": [
    {
      "cell_type": "code",
      "execution_count": 30,
      "metadata": {
        "id": "PLwl1LzBl3A5"
      },
      "outputs": [],
      "source": [
        "# Para llevar un registro de los cambios\n",
        "%pip install -q comet_ml\n",
        "import comet_ml\n",
        "comet_ml.init(project_name='Tarea 03')"
      ]
    },
    {
      "cell_type": "code",
      "source": [
        "# Librerías\n",
        "import tensorflow as tf\n",
        "from tensorflow import keras\n",
        "from tensorflow.keras.datasets import mnist\n",
        "from tensorflow.keras.models import Sequential\n",
        "from tensorflow.keras.layers import Dense, Dropout, Activation, Flatten, Input\n",
        "from tensorflow.keras.optimizers import RMSprop, SGD\n",
        "from tensorflow.keras import regularizers\n",
        "from keras.callbacks import ModelCheckpoint"
      ],
      "metadata": {
        "id": "khfjh-UbkyZX"
      },
      "execution_count": 31,
      "outputs": []
    },
    {
      "cell_type": "code",
      "source": [
        "experiment = comet_ml.Experiment(\n",
        "    auto_histogram_weight_logging=True,\n",
        "    auto_histogram_gradient_logging=True,\n",
        "    auto_histogram_activation_logging=True,\n",
        "    log_code=True,\n",
        ")\n",
        "experiment.set_name(\"Regularización_L1\")"
      ],
      "metadata": {
        "colab": {
          "base_uri": "https://localhost:8080/"
        },
        "id": "3u9sQxMLsAst",
        "outputId": "79ed7251-8bba-4602-bb4e-b4da797adedf"
      },
      "execution_count": 32,
      "outputs": [
        {
          "output_type": "stream",
          "name": "stderr",
          "text": [
            "\u001b[1;38;5;39mCOMET INFO:\u001b[0m ---------------------------------------------------------------------------------------\n",
            "\u001b[1;38;5;39mCOMET INFO:\u001b[0m Comet.ml Experiment Summary\n",
            "\u001b[1;38;5;39mCOMET INFO:\u001b[0m ---------------------------------------------------------------------------------------\n",
            "\u001b[1;38;5;39mCOMET INFO:\u001b[0m   Data:\n",
            "\u001b[1;38;5;39mCOMET INFO:\u001b[0m     display_summary_level : 1\n",
            "\u001b[1;38;5;39mCOMET INFO:\u001b[0m     url                   : https://www.comet.com/gurumasterahb/tarea-03/6ef334a2f31047d2a007312ff210adb1\n",
            "\u001b[1;38;5;39mCOMET INFO:\u001b[0m   Others:\n",
            "\u001b[1;38;5;39mCOMET INFO:\u001b[0m     Name : Regularización_L1\n",
            "\u001b[1;38;5;39mCOMET INFO:\u001b[0m   Parameters:\n",
            "\u001b[1;38;5;39mCOMET INFO:\u001b[0m     batch_size    : 10\n",
            "\u001b[1;38;5;39mCOMET INFO:\u001b[0m     epochs        : 20\n",
            "\u001b[1;38;5;39mCOMET INFO:\u001b[0m     learning_rate : 0.01\n",
            "\u001b[1;38;5;39mCOMET INFO:\u001b[0m     loss          : categorical_crossentropy\n",
            "\u001b[1;38;5;39mCOMET INFO:\u001b[0m     optimizer     : adam\n",
            "\u001b[1;38;5;39mCOMET INFO:\u001b[0m   Uploads:\n",
            "\u001b[1;38;5;39mCOMET INFO:\u001b[0m     environment details : 1\n",
            "\u001b[1;38;5;39mCOMET INFO:\u001b[0m     filename            : 1\n",
            "\u001b[1;38;5;39mCOMET INFO:\u001b[0m     installed packages  : 1\n",
            "\u001b[1;38;5;39mCOMET INFO:\u001b[0m     notebook            : 2\n",
            "\u001b[1;38;5;39mCOMET INFO:\u001b[0m     os packages         : 1\n",
            "\u001b[1;38;5;39mCOMET INFO:\u001b[0m     source_code         : 1\n",
            "\u001b[1;38;5;39mCOMET INFO:\u001b[0m \n",
            "\u001b[1;38;5;214mCOMET WARNING:\u001b[0m As you are running in a Jupyter environment, you will need to call `experiment.end()` when finished to ensure all metrics and code are logged before exiting.\n",
            "\u001b[1;38;5;39mCOMET INFO:\u001b[0m Couldn't find a Git repository in '/content' nor in any parent directory. Set `COMET_GIT_DIRECTORY` if your Git Repository is elsewhere.\n",
            "\u001b[1;38;5;39mCOMET INFO:\u001b[0m Experiment is live on comet.com https://www.comet.com/gurumasterahb/tarea-03/97660c807ff5458799e94714612a779d\n",
            "\n"
          ]
        }
      ]
    },
    {
      "cell_type": "code",
      "source": [
        "# Carga el dataset de MNIST\n",
        "(x_train, y_train), (x_test, y_test) = mnist.load_data()"
      ],
      "metadata": {
        "id": "5GhobFrzsKp0"
      },
      "execution_count": 33,
      "outputs": []
    },
    {
      "cell_type": "code",
      "source": [
        "# Convierte y normaliza los datos de entrada\n",
        "x_train = x_train.astype('float32')\n",
        "x_test = x_test.astype('float32')\n",
        "x_train /= 255\n",
        "x_test /= 255"
      ],
      "metadata": {
        "id": "7GpqRRmGuDve"
      },
      "execution_count": 34,
      "outputs": []
    },
    {
      "cell_type": "code",
      "source": [
        "# to_categorical convierte las etiquetas (train, test) en matrices one-hot\n",
        "num_classes = 10\n",
        "y_trainc = keras.utils.to_categorical(y_train, num_classes)\n",
        "y_testc = keras.utils.to_categorical(y_test, num_classes)"
      ],
      "metadata": {
        "id": "K0df0m67vFHQ"
      },
      "execution_count": 35,
      "outputs": []
    },
    {
      "cell_type": "code",
      "source": [
        "  # Diccionario con los parámetros que se registrarán en comet\n",
        "  parameters = {\n",
        "      'epochs' : 20,\n",
        "      'batch_size' : 10,\n",
        "      'learning_rate' : 0.010,\n",
        "      'loss' : 'categorical_crossentropy',\n",
        "      'optimizer' : 'adam'\n",
        "  }\n",
        "  experiment.log_parameters(parameters)"
      ],
      "metadata": {
        "id": "Nt6SR_7Cv-8g"
      },
      "execution_count": 36,
      "outputs": []
    },
    {
      "cell_type": "code",
      "source": [
        "# Creación del modelo\n",
        "model = Sequential()\n",
        "# Es como una \"primera capa\" de tres capas\n",
        "model.add(Input(shape = (28,28))) # Matrices de entrada de 28x28 (imáegenes)\n",
        "model.add(Flatten()) # Convierte las matrices de 28x28 en matrices de 784x1\n",
        "model.add(Dense(784, activation = 'sigmoid'))\n",
        "model.add(Dropout(0.5))\n",
        "model.add(Dense(30, activation = 'relu', kernel_regularizer = regularizers.L1(0.01))) # Segunda capa\n",
        "model.add(Dense(10, activation = 'softmax')) # Tercera capa\n",
        "\n",
        "model.summary()"
      ],
      "metadata": {
        "colab": {
          "base_uri": "https://localhost:8080/"
        },
        "id": "AP1jXJ7Mx5N2",
        "outputId": "a867f2b2-f524-4124-da73-ab5770a1a296"
      },
      "execution_count": 37,
      "outputs": [
        {
          "output_type": "stream",
          "name": "stdout",
          "text": [
            "Model: \"sequential_3\"\n",
            "_________________________________________________________________\n",
            " Layer (type)                Output Shape              Param #   \n",
            "=================================================================\n",
            " flatten_3 (Flatten)         (None, 784)               0         \n",
            "                                                                 \n",
            " dense_7 (Dense)             (None, 784)               615440    \n",
            "                                                                 \n",
            " dropout_3 (Dropout)         (None, 784)               0         \n",
            "                                                                 \n",
            " dense_8 (Dense)             (None, 30)                23550     \n",
            "                                                                 \n",
            " dense_9 (Dense)             (None, 10)                310       \n",
            "                                                                 \n",
            "=================================================================\n",
            "Total params: 639300 (2.44 MB)\n",
            "Trainable params: 639300 (2.44 MB)\n",
            "Non-trainable params: 0 (0.00 Byte)\n",
            "_________________________________________________________________\n"
          ]
        }
      ]
    },
    {
      "cell_type": "code",
      "source": [
        "# Checkpoint que guarda el mejor modelo (cuando la función de costo alcanza un mínimo)\n",
        "checkpoint = ModelCheckpoint(filepath = 'best_model.hdf5', monitor = 'val_loss', verbose = 1, save_best_only = True, mode = 'min')"
      ],
      "metadata": {
        "id": "6X-WyYYzBjQI"
      },
      "execution_count": 38,
      "outputs": []
    },
    {
      "cell_type": "code",
      "source": [
        "# optimizer = RMSprop(learning_rate = 0.0005)\n",
        "optimizer = 'adam'\n",
        "model.compile(loss = parameters['loss'], optimizer = optimizer, metrics = ['accuracy'])\n",
        "model.fit(x_train, y_trainc, batch_size = parameters['batch_size'], epochs = parameters['epochs'], verbose = 1, validation_data = (x_test, y_testc), callbacks = [checkpoint])"
      ],
      "metadata": {
        "colab": {
          "base_uri": "https://localhost:8080/"
        },
        "id": "tI9RGkPFCLSH",
        "outputId": "c66bb907-a8a2-4337-8fe1-2780e38c7727"
      },
      "execution_count": 39,
      "outputs": [
        {
          "output_type": "stream",
          "name": "stdout",
          "text": [
            "Epoch 1/20\n",
            "5996/6000 [============================>.] - ETA: 0s - loss: 1.1472 - accuracy: 0.8495\n",
            "Epoch 1: val_loss improved from inf to 0.69832, saving model to best_model.hdf5\n",
            "6000/6000 [==============================] - 67s 11ms/step - loss: 1.1470 - accuracy: 0.8495 - val_loss: 0.6983 - val_accuracy: 0.9102\n",
            "Epoch 2/20\n",
            "   1/6000 [..............................] - ETA: 2:04 - loss: 0.7114 - accuracy: 0.9000"
          ]
        },
        {
          "output_type": "stream",
          "name": "stderr",
          "text": [
            "/usr/local/lib/python3.10/dist-packages/keras/src/engine/training.py:3000: UserWarning: You are saving your model as an HDF5 file via `model.save()`. This file format is considered legacy. We recommend using instead the native Keras format, e.g. `model.save('my_model.keras')`.\n",
            "  saving_api.save_model(\n"
          ]
        },
        {
          "output_type": "stream",
          "name": "stdout",
          "text": [
            "6000/6000 [==============================] - ETA: 0s - loss: 0.6936 - accuracy: 0.9075\n",
            "Epoch 2: val_loss improved from 0.69832 to 0.58149, saving model to best_model.hdf5\n",
            "6000/6000 [==============================] - 61s 10ms/step - loss: 0.6936 - accuracy: 0.9075 - val_loss: 0.5815 - val_accuracy: 0.9344\n",
            "Epoch 3/20\n",
            "5998/6000 [============================>.] - ETA: 0s - loss: 0.6188 - accuracy: 0.9218\n",
            "Epoch 3: val_loss did not improve from 0.58149\n",
            "6000/6000 [==============================] - 62s 10ms/step - loss: 0.6188 - accuracy: 0.9218 - val_loss: 0.6148 - val_accuracy: 0.9261\n",
            "Epoch 4/20\n",
            "6000/6000 [==============================] - ETA: 0s - loss: 0.5774 - accuracy: 0.9299\n",
            "Epoch 4: val_loss improved from 0.58149 to 0.51078, saving model to best_model.hdf5\n",
            "6000/6000 [==============================] - 60s 10ms/step - loss: 0.5774 - accuracy: 0.9299 - val_loss: 0.5108 - val_accuracy: 0.9476\n",
            "Epoch 5/20\n",
            "5995/6000 [============================>.] - ETA: 0s - loss: 0.5486 - accuracy: 0.9370\n",
            "Epoch 5: val_loss improved from 0.51078 to 0.47744, saving model to best_model.hdf5\n",
            "6000/6000 [==============================] - 60s 10ms/step - loss: 0.5486 - accuracy: 0.9370 - val_loss: 0.4774 - val_accuracy: 0.9469\n",
            "Epoch 6/20\n",
            "5998/6000 [============================>.] - ETA: 0s - loss: 0.5290 - accuracy: 0.9408\n",
            "Epoch 6: val_loss improved from 0.47744 to 0.44013, saving model to best_model.hdf5\n",
            "6000/6000 [==============================] - 62s 10ms/step - loss: 0.5290 - accuracy: 0.9408 - val_loss: 0.4401 - val_accuracy: 0.9522\n",
            "Epoch 7/20\n",
            "5995/6000 [============================>.] - ETA: 0s - loss: 0.5083 - accuracy: 0.9447\n",
            "Epoch 7: val_loss did not improve from 0.44013\n",
            "6000/6000 [==============================] - 60s 10ms/step - loss: 0.5083 - accuracy: 0.9447 - val_loss: 0.4629 - val_accuracy: 0.9537\n",
            "Epoch 8/20\n",
            "5997/6000 [============================>.] - ETA: 0s - loss: 0.4952 - accuracy: 0.9462\n",
            "Epoch 8: val_loss did not improve from 0.44013\n",
            "6000/6000 [==============================] - 60s 10ms/step - loss: 0.4953 - accuracy: 0.9462 - val_loss: 0.4635 - val_accuracy: 0.9583\n",
            "Epoch 9/20\n",
            "5995/6000 [============================>.] - ETA: 0s - loss: 0.4852 - accuracy: 0.9485\n",
            "Epoch 9: val_loss improved from 0.44013 to 0.43665, saving model to best_model.hdf5\n",
            "6000/6000 [==============================] - 62s 10ms/step - loss: 0.4853 - accuracy: 0.9485 - val_loss: 0.4367 - val_accuracy: 0.9578\n",
            "Epoch 10/20\n",
            "5996/6000 [============================>.] - ETA: 0s - loss: 0.4770 - accuracy: 0.9504\n",
            "Epoch 10: val_loss did not improve from 0.43665\n",
            "6000/6000 [==============================] - 62s 10ms/step - loss: 0.4770 - accuracy: 0.9504 - val_loss: 0.4478 - val_accuracy: 0.9605\n",
            "Epoch 11/20\n",
            "6000/6000 [==============================] - ETA: 0s - loss: 0.4681 - accuracy: 0.9520\n",
            "Epoch 11: val_loss did not improve from 0.43665\n",
            "6000/6000 [==============================] - 63s 10ms/step - loss: 0.4681 - accuracy: 0.9520 - val_loss: 0.4586 - val_accuracy: 0.9627\n",
            "Epoch 12/20\n",
            "5998/6000 [============================>.] - ETA: 0s - loss: 0.4612 - accuracy: 0.9538\n",
            "Epoch 12: val_loss improved from 0.43665 to 0.40186, saving model to best_model.hdf5\n",
            "6000/6000 [==============================] - 63s 11ms/step - loss: 0.4612 - accuracy: 0.9537 - val_loss: 0.4019 - val_accuracy: 0.9614\n",
            "Epoch 13/20\n",
            "5998/6000 [============================>.] - ETA: 0s - loss: 0.4515 - accuracy: 0.9546\n",
            "Epoch 13: val_loss did not improve from 0.40186\n",
            "6000/6000 [==============================] - 63s 10ms/step - loss: 0.4516 - accuracy: 0.9546 - val_loss: 0.4576 - val_accuracy: 0.9658\n",
            "Epoch 14/20\n",
            "6000/6000 [==============================] - ETA: 0s - loss: 0.4461 - accuracy: 0.9570\n",
            "Epoch 14: val_loss did not improve from 0.40186\n",
            "6000/6000 [==============================] - 61s 10ms/step - loss: 0.4461 - accuracy: 0.9570 - val_loss: 0.4423 - val_accuracy: 0.9635\n",
            "Epoch 15/20\n",
            "5999/6000 [============================>.] - ETA: 0s - loss: 0.4413 - accuracy: 0.9560\n",
            "Epoch 15: val_loss did not improve from 0.40186\n",
            "6000/6000 [==============================] - 60s 10ms/step - loss: 0.4413 - accuracy: 0.9560 - val_loss: 0.4368 - val_accuracy: 0.9661\n",
            "Epoch 16/20\n",
            "6000/6000 [==============================] - ETA: 0s - loss: 0.4371 - accuracy: 0.9572\n",
            "Epoch 16: val_loss did not improve from 0.40186\n",
            "6000/6000 [==============================] - 65s 11ms/step - loss: 0.4371 - accuracy: 0.9572 - val_loss: 0.4126 - val_accuracy: 0.9664\n",
            "Epoch 17/20\n",
            "5998/6000 [============================>.] - ETA: 0s - loss: 0.4341 - accuracy: 0.9582\n",
            "Epoch 17: val_loss did not improve from 0.40186\n",
            "6000/6000 [==============================] - 60s 10ms/step - loss: 0.4342 - accuracy: 0.9582 - val_loss: 0.4127 - val_accuracy: 0.9655\n",
            "Epoch 18/20\n",
            "5996/6000 [============================>.] - ETA: 0s - loss: 0.4257 - accuracy: 0.9590\n",
            "Epoch 18: val_loss improved from 0.40186 to 0.35990, saving model to best_model.hdf5\n",
            "6000/6000 [==============================] - 65s 11ms/step - loss: 0.4258 - accuracy: 0.9590 - val_loss: 0.3599 - val_accuracy: 0.9680\n",
            "Epoch 19/20\n",
            "5999/6000 [============================>.] - ETA: 0s - loss: 0.4237 - accuracy: 0.9600\n",
            "Epoch 19: val_loss did not improve from 0.35990\n",
            "6000/6000 [==============================] - 61s 10ms/step - loss: 0.4236 - accuracy: 0.9600 - val_loss: 0.3961 - val_accuracy: 0.9633\n",
            "Epoch 20/20\n",
            "6000/6000 [==============================] - ETA: 0s - loss: 0.4214 - accuracy: 0.9605\n",
            "Epoch 20: val_loss did not improve from 0.35990\n",
            "6000/6000 [==============================] - 65s 11ms/step - loss: 0.4214 - accuracy: 0.9605 - val_loss: 0.3799 - val_accuracy: 0.9639\n"
          ]
        },
        {
          "output_type": "execute_result",
          "data": {
            "text/plain": [
              "<keras.src.callbacks.History at 0x7f9da3fc1600>"
            ]
          },
          "metadata": {},
          "execution_count": 39
        }
      ]
    },
    {
      "cell_type": "code",
      "source": [],
      "metadata": {
        "id": "lwnKSuYqPNxH"
      },
      "execution_count": 39,
      "outputs": []
    },
    {
      "cell_type": "code",
      "source": [
        "experiment.log_model('MNIST1', 'best_model.hdf5')\n",
        "experiment.end()"
      ],
      "metadata": {
        "colab": {
          "base_uri": "https://localhost:8080/"
        },
        "id": "QUyEuyczEF6s",
        "outputId": "a64c4d0a-c3a6-4c20-f3f6-ed2b29513004"
      },
      "execution_count": 40,
      "outputs": [
        {
          "output_type": "stream",
          "name": "stderr",
          "text": [
            "\u001b[1;38;5;39mCOMET INFO:\u001b[0m ---------------------------------------------------------------------------------------\n",
            "\u001b[1;38;5;39mCOMET INFO:\u001b[0m Comet.ml Experiment Summary\n",
            "\u001b[1;38;5;39mCOMET INFO:\u001b[0m ---------------------------------------------------------------------------------------\n",
            "\u001b[1;38;5;39mCOMET INFO:\u001b[0m   Data:\n",
            "\u001b[1;38;5;39mCOMET INFO:\u001b[0m     display_summary_level : 1\n",
            "\u001b[1;38;5;39mCOMET INFO:\u001b[0m     url                   : https://www.comet.com/gurumasterahb/tarea-03/97660c807ff5458799e94714612a779d\n",
            "\u001b[1;38;5;39mCOMET INFO:\u001b[0m   Metrics [count] (min, max):\n",
            "\u001b[1;38;5;39mCOMET INFO:\u001b[0m     accuracy [20]                  : (0.8494833111763, 0.9604833126068115)\n",
            "\u001b[1;38;5;39mCOMET INFO:\u001b[0m     batch_accuracy [12000]         : (0.10000000149011612, 1.0)\n",
            "\u001b[1;38;5;39mCOMET INFO:\u001b[0m     batch_loss [12000]             : (0.30545541644096375, 12.991772651672363)\n",
            "\u001b[1;38;5;39mCOMET INFO:\u001b[0m     epoch_duration [20]            : (59.40397269899995, 67.62160066800016)\n",
            "\u001b[1;38;5;39mCOMET INFO:\u001b[0m     loss [20]                      : (0.42144277691841125, 1.1470459699630737)\n",
            "\u001b[1;38;5;39mCOMET INFO:\u001b[0m     val_accuracy [20]              : (0.9101999998092651, 0.9679999947547913)\n",
            "\u001b[1;38;5;39mCOMET INFO:\u001b[0m     val_loss [20]                  : (0.3598959147930145, 0.6983234882354736)\n",
            "\u001b[1;38;5;39mCOMET INFO:\u001b[0m     validate_batch_accuracy [2000] : (0.8815498352050781, 1.0)\n",
            "\u001b[1;38;5;39mCOMET INFO:\u001b[0m     validate_batch_loss [2000]     : (0.2845210134983063, 0.8066675066947937)\n",
            "\u001b[1;38;5;39mCOMET INFO:\u001b[0m   Others:\n",
            "\u001b[1;38;5;39mCOMET INFO:\u001b[0m     Name             : Regularización_L1\n",
            "\u001b[1;38;5;39mCOMET INFO:\u001b[0m     trainable_params : 639300\n",
            "\u001b[1;38;5;39mCOMET INFO:\u001b[0m   Parameters:\n",
            "\u001b[1;38;5;39mCOMET INFO:\u001b[0m     Adam_amsgrad                 : False\n",
            "\u001b[1;38;5;39mCOMET INFO:\u001b[0m     Adam_beta_1                  : 0.9\n",
            "\u001b[1;38;5;39mCOMET INFO:\u001b[0m     Adam_beta_2                  : 0.999\n",
            "\u001b[1;38;5;39mCOMET INFO:\u001b[0m     Adam_clipnorm                : 1\n",
            "\u001b[1;38;5;39mCOMET INFO:\u001b[0m     Adam_clipvalue               : 1\n",
            "\u001b[1;38;5;39mCOMET INFO:\u001b[0m     Adam_ema_momentum            : 0.99\n",
            "\u001b[1;38;5;39mCOMET INFO:\u001b[0m     Adam_ema_overwrite_frequency : 1\n",
            "\u001b[1;38;5;39mCOMET INFO:\u001b[0m     Adam_epsilon                 : 1e-07\n",
            "\u001b[1;38;5;39mCOMET INFO:\u001b[0m     Adam_global_clipnorm         : 1\n",
            "\u001b[1;38;5;39mCOMET INFO:\u001b[0m     Adam_is_legacy_optimizer     : False\n",
            "\u001b[1;38;5;39mCOMET INFO:\u001b[0m     Adam_jit_compile             : False\n",
            "\u001b[1;38;5;39mCOMET INFO:\u001b[0m     Adam_learning_rate           : 0.0010000000474974513\n",
            "\u001b[1;38;5;39mCOMET INFO:\u001b[0m     Adam_name                    : Adam\n",
            "\u001b[1;38;5;39mCOMET INFO:\u001b[0m     Adam_use_ema                 : False\n",
            "\u001b[1;38;5;39mCOMET INFO:\u001b[0m     Adam_weight_decay            : 1\n",
            "\u001b[1;38;5;39mCOMET INFO:\u001b[0m     batch_size                   : 10\n",
            "\u001b[1;38;5;39mCOMET INFO:\u001b[0m     epochs                       : 20\n",
            "\u001b[1;38;5;39mCOMET INFO:\u001b[0m     learning_rate                : 0.01\n",
            "\u001b[1;38;5;39mCOMET INFO:\u001b[0m     loss                         : categorical_crossentropy\n",
            "\u001b[1;38;5;39mCOMET INFO:\u001b[0m     optimizer                    : adam\n",
            "\u001b[1;38;5;39mCOMET INFO:\u001b[0m     steps                        : 6000\n",
            "\u001b[1;38;5;39mCOMET INFO:\u001b[0m   Uploads:\n",
            "\u001b[1;38;5;39mCOMET INFO:\u001b[0m     environment details : 1\n",
            "\u001b[1;38;5;39mCOMET INFO:\u001b[0m     filename            : 1\n",
            "\u001b[1;38;5;39mCOMET INFO:\u001b[0m     histogram3d         : 189\n",
            "\u001b[1;38;5;39mCOMET INFO:\u001b[0m     installed packages  : 1\n",
            "\u001b[1;38;5;39mCOMET INFO:\u001b[0m     model graph         : 1\n",
            "\u001b[1;38;5;39mCOMET INFO:\u001b[0m     model-element       : 1 (7.35 MB)\n",
            "\u001b[1;38;5;39mCOMET INFO:\u001b[0m     notebook            : 2\n",
            "\u001b[1;38;5;39mCOMET INFO:\u001b[0m     os packages         : 1\n",
            "\u001b[1;38;5;39mCOMET INFO:\u001b[0m     source_code         : 1\n",
            "\u001b[1;38;5;39mCOMET INFO:\u001b[0m \n",
            "\u001b[1;38;5;39mCOMET INFO:\u001b[0m Uploading 1 metrics, params and output messages\n"
          ]
        }
      ]
    }
  ]
}