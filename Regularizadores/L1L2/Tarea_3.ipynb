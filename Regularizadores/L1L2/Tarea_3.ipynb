{
  "nbformat": 4,
  "nbformat_minor": 0,
  "metadata": {
    "colab": {
      "provenance": []
    },
    "kernelspec": {
      "name": "python3",
      "display_name": "Python 3"
    },
    "language_info": {
      "name": "python"
    }
  },
  "cells": [
    {
      "cell_type": "code",
      "execution_count": 71,
      "metadata": {
        "id": "PLwl1LzBl3A5"
      },
      "outputs": [],
      "source": [
        "# Para llevar un registro de los cambios\n",
        "%pip install -q comet_ml\n",
        "import comet_ml\n",
        "comet_ml.init(project_name='Tarea 03')"
      ]
    },
    {
      "cell_type": "code",
      "source": [
        "# Librerías\n",
        "import tensorflow as tf\n",
        "from tensorflow import keras\n",
        "from tensorflow.keras.datasets import mnist\n",
        "from tensorflow.keras.models import Sequential\n",
        "from tensorflow.keras.layers import Dense, Dropout, Activation, Flatten, Input\n",
        "from tensorflow.keras.optimizers import RMSprop, SGD\n",
        "from tensorflow.keras import regularizers\n",
        "from keras.callbacks import ModelCheckpoint"
      ],
      "metadata": {
        "id": "khfjh-UbkyZX"
      },
      "execution_count": 72,
      "outputs": []
    },
    {
      "cell_type": "code",
      "source": [
        "experiment = comet_ml.Experiment(\n",
        "    auto_histogram_weight_logging=True,\n",
        "    auto_histogram_gradient_logging=True,\n",
        "    auto_histogram_activation_logging=True,\n",
        "    log_code=True,\n",
        ")\n",
        "experiment.set_name(\"Regularización_L1L2\")"
      ],
      "metadata": {
        "colab": {
          "base_uri": "https://localhost:8080/"
        },
        "id": "3u9sQxMLsAst",
        "outputId": "effc2f29-2847-4d5b-b75d-529ac4420c68"
      },
      "execution_count": 73,
      "outputs": [
        {
          "output_type": "stream",
          "name": "stderr",
          "text": [
            "\u001b[1;38;5;39mCOMET INFO:\u001b[0m ---------------------------------------------------------------------------------------\n",
            "\u001b[1;38;5;39mCOMET INFO:\u001b[0m Comet.ml Experiment Summary\n",
            "\u001b[1;38;5;39mCOMET INFO:\u001b[0m ---------------------------------------------------------------------------------------\n",
            "\u001b[1;38;5;39mCOMET INFO:\u001b[0m   Data:\n",
            "\u001b[1;38;5;39mCOMET INFO:\u001b[0m     display_summary_level : 1\n",
            "\u001b[1;38;5;39mCOMET INFO:\u001b[0m     url                   : https://www.comet.com/gurumasterahb/tarea-03/d0c4c43efebc43f9afe8c5fb0ac65275\n",
            "\u001b[1;38;5;39mCOMET INFO:\u001b[0m   Others:\n",
            "\u001b[1;38;5;39mCOMET INFO:\u001b[0m     Name : Regularización_L1L2\n",
            "\u001b[1;38;5;39mCOMET INFO:\u001b[0m   Parameters:\n",
            "\u001b[1;38;5;39mCOMET INFO:\u001b[0m     batch_size    : 10\n",
            "\u001b[1;38;5;39mCOMET INFO:\u001b[0m     epochs        : 20\n",
            "\u001b[1;38;5;39mCOMET INFO:\u001b[0m     learning_rate : 0.01\n",
            "\u001b[1;38;5;39mCOMET INFO:\u001b[0m     loss          : categorical_crossentropy\n",
            "\u001b[1;38;5;39mCOMET INFO:\u001b[0m     optimizer     : adam\n",
            "\u001b[1;38;5;39mCOMET INFO:\u001b[0m   Uploads:\n",
            "\u001b[1;38;5;39mCOMET INFO:\u001b[0m     environment details : 1\n",
            "\u001b[1;38;5;39mCOMET INFO:\u001b[0m     filename            : 1\n",
            "\u001b[1;38;5;39mCOMET INFO:\u001b[0m     installed packages  : 1\n",
            "\u001b[1;38;5;39mCOMET INFO:\u001b[0m     notebook            : 2\n",
            "\u001b[1;38;5;39mCOMET INFO:\u001b[0m     os packages         : 1\n",
            "\u001b[1;38;5;39mCOMET INFO:\u001b[0m     source_code         : 1\n",
            "\u001b[1;38;5;39mCOMET INFO:\u001b[0m \n",
            "\u001b[1;38;5;214mCOMET WARNING:\u001b[0m As you are running in a Jupyter environment, you will need to call `experiment.end()` when finished to ensure all metrics and code are logged before exiting.\n",
            "\u001b[1;38;5;39mCOMET INFO:\u001b[0m Couldn't find a Git repository in '/content' nor in any parent directory. Set `COMET_GIT_DIRECTORY` if your Git Repository is elsewhere.\n",
            "\u001b[1;38;5;39mCOMET INFO:\u001b[0m Experiment is live on comet.com https://www.comet.com/gurumasterahb/tarea-03/b1a1794e2ddf457e81bec41a7b7e027c\n",
            "\n"
          ]
        }
      ]
    },
    {
      "cell_type": "code",
      "source": [
        "# Carga el dataset de MNIST\n",
        "(x_train, y_train), (x_test, y_test) = mnist.load_data()"
      ],
      "metadata": {
        "id": "5GhobFrzsKp0"
      },
      "execution_count": 74,
      "outputs": []
    },
    {
      "cell_type": "code",
      "source": [
        "# Convierte y normaliza los datos de entrada\n",
        "x_train = x_train.astype('float32')\n",
        "x_test = x_test.astype('float32')\n",
        "x_train /= 255\n",
        "x_test /= 255"
      ],
      "metadata": {
        "id": "7GpqRRmGuDve"
      },
      "execution_count": 75,
      "outputs": []
    },
    {
      "cell_type": "code",
      "source": [
        "# to_categorical convierte las etiquetas (train, test) en matrices one-hot\n",
        "num_classes = 10\n",
        "y_trainc = keras.utils.to_categorical(y_train, num_classes)\n",
        "y_testc = keras.utils.to_categorical(y_test, num_classes)"
      ],
      "metadata": {
        "id": "K0df0m67vFHQ"
      },
      "execution_count": 76,
      "outputs": []
    },
    {
      "cell_type": "code",
      "source": [
        "  # Diccionario con los parámetros que se registrarán en comet\n",
        "  parameters = {\n",
        "      'epochs' : 20,\n",
        "      'batch_size' : 10,\n",
        "      'learning_rate' : 0.010,\n",
        "      'loss' : 'categorical_crossentropy',\n",
        "      'optimizer' : 'adam'\n",
        "  }\n",
        "  experiment.log_parameters(parameters)"
      ],
      "metadata": {
        "id": "Nt6SR_7Cv-8g"
      },
      "execution_count": 77,
      "outputs": []
    },
    {
      "cell_type": "code",
      "source": [
        "# Creación del modelo\n",
        "model = Sequential()\n",
        "# Es como una \"primera capa\" de tres capas\n",
        "model.add(Input(shape = (28,28))) # Matrices de entrada de 28x28 (imáegenes)\n",
        "model.add(Flatten()) # Convierte las matrices de 28x28 en matrices de 784x1\n",
        "model.add(Dense(784, activation = 'sigmoid'))\n",
        "model.add(Dropout(0.5))\n",
        "model.add(Dense(30, activation = 'relu', kernel_regularizer = regularizers.L1L2(0.01, 0.01))) # Segunda capa\n",
        "model.add(Dense(10, activation = 'softmax')) # Tercera capa\n",
        "\n",
        "model.summary()"
      ],
      "metadata": {
        "colab": {
          "base_uri": "https://localhost:8080/"
        },
        "id": "AP1jXJ7Mx5N2",
        "outputId": "421cb1fa-b2b7-4176-85a7-cd8d2943c14a"
      },
      "execution_count": 78,
      "outputs": [
        {
          "output_type": "stream",
          "name": "stdout",
          "text": [
            "Model: \"sequential_7\"\n",
            "_________________________________________________________________\n",
            " Layer (type)                Output Shape              Param #   \n",
            "=================================================================\n",
            " flatten_7 (Flatten)         (None, 784)               0         \n",
            "                                                                 \n",
            " dense_17 (Dense)            (None, 784)               615440    \n",
            "                                                                 \n",
            " dropout_7 (Dropout)         (None, 784)               0         \n",
            "                                                                 \n",
            " dense_18 (Dense)            (None, 30)                23550     \n",
            "                                                                 \n",
            " dense_19 (Dense)            (None, 10)                310       \n",
            "                                                                 \n",
            "=================================================================\n",
            "Total params: 639300 (2.44 MB)\n",
            "Trainable params: 639300 (2.44 MB)\n",
            "Non-trainable params: 0 (0.00 Byte)\n",
            "_________________________________________________________________\n"
          ]
        }
      ]
    },
    {
      "cell_type": "code",
      "source": [
        "# Checkpoint que guarda el mejor modelo (cuando la función de costo alcanza un mínimo)\n",
        "checkpoint = ModelCheckpoint(filepath = 'best_model.hdf5', monitor = 'val_loss', verbose = 1, save_best_only = True, mode = 'min')"
      ],
      "metadata": {
        "id": "6X-WyYYzBjQI"
      },
      "execution_count": 79,
      "outputs": []
    },
    {
      "cell_type": "code",
      "source": [
        "# optimizer = RMSprop(learning_rate = 0.0005)\n",
        "optimizer = 'adam'\n",
        "model.compile(loss = parameters['loss'], optimizer = optimizer, metrics = ['accuracy'])\n",
        "model.fit(x_train, y_trainc, batch_size = parameters['batch_size'], epochs = parameters['epochs'], verbose = 1, validation_data = (x_test, y_testc), callbacks = [checkpoint])"
      ],
      "metadata": {
        "colab": {
          "base_uri": "https://localhost:8080/"
        },
        "id": "tI9RGkPFCLSH",
        "outputId": "1c962020-10af-48f5-d836-9687a4803f3d"
      },
      "execution_count": 80,
      "outputs": [
        {
          "output_type": "stream",
          "name": "stdout",
          "text": [
            "Epoch 1/20\n",
            "5998/6000 [============================>.] - ETA: 0s - loss: 1.1929 - accuracy: 0.8372\n",
            "Epoch 1: val_loss improved from inf to 0.77120, saving model to best_model.hdf5\n",
            "6000/6000 [==============================] - 71s 12ms/step - loss: 1.1928 - accuracy: 0.8373 - val_loss: 0.7712 - val_accuracy: 0.9101\n",
            "Epoch 2/20\n"
          ]
        },
        {
          "output_type": "stream",
          "name": "stderr",
          "text": [
            "/usr/local/lib/python3.10/dist-packages/keras/src/engine/training.py:3000: UserWarning: You are saving your model as an HDF5 file via `model.save()`. This file format is considered legacy. We recommend using instead the native Keras format, e.g. `model.save('my_model.keras')`.\n",
            "  saving_api.save_model(\n"
          ]
        },
        {
          "output_type": "stream",
          "name": "stdout",
          "text": [
            "5997/6000 [============================>.] - ETA: 0s - loss: 0.7288 - accuracy: 0.9060\n",
            "Epoch 2: val_loss improved from 0.77120 to 0.62476, saving model to best_model.hdf5\n",
            "6000/6000 [==============================] - 65s 11ms/step - loss: 0.7287 - accuracy: 0.9060 - val_loss: 0.6248 - val_accuracy: 0.9236\n",
            "Epoch 3/20\n",
            "5997/6000 [============================>.] - ETA: 0s - loss: 0.6518 - accuracy: 0.9193\n",
            "Epoch 3: val_loss improved from 0.62476 to 0.62277, saving model to best_model.hdf5\n",
            "6000/6000 [==============================] - 64s 11ms/step - loss: 0.6518 - accuracy: 0.9193 - val_loss: 0.6228 - val_accuracy: 0.9257\n",
            "Epoch 4/20\n",
            "5999/6000 [============================>.] - ETA: 0s - loss: 0.6078 - accuracy: 0.9286\n",
            "Epoch 4: val_loss improved from 0.62277 to 0.53375, saving model to best_model.hdf5\n",
            "6000/6000 [==============================] - 61s 10ms/step - loss: 0.6079 - accuracy: 0.9286 - val_loss: 0.5338 - val_accuracy: 0.9400\n",
            "Epoch 5/20\n",
            "5997/6000 [============================>.] - ETA: 0s - loss: 0.5817 - accuracy: 0.9340\n",
            "Epoch 5: val_loss did not improve from 0.53375\n",
            "6000/6000 [==============================] - 66s 11ms/step - loss: 0.5818 - accuracy: 0.9340 - val_loss: 0.5478 - val_accuracy: 0.9471\n",
            "Epoch 6/20\n",
            "5996/6000 [============================>.] - ETA: 0s - loss: 0.5562 - accuracy: 0.9381\n",
            "Epoch 6: val_loss improved from 0.53375 to 0.51582, saving model to best_model.hdf5\n",
            "6000/6000 [==============================] - 62s 10ms/step - loss: 0.5563 - accuracy: 0.9380 - val_loss: 0.5158 - val_accuracy: 0.9504\n",
            "Epoch 7/20\n",
            "5997/6000 [============================>.] - ETA: 0s - loss: 0.5402 - accuracy: 0.9409\n",
            "Epoch 7: val_loss improved from 0.51582 to 0.50360, saving model to best_model.hdf5\n",
            "6000/6000 [==============================] - 63s 10ms/step - loss: 0.5402 - accuracy: 0.9409 - val_loss: 0.5036 - val_accuracy: 0.9528\n",
            "Epoch 8/20\n",
            "5997/6000 [============================>.] - ETA: 0s - loss: 0.5198 - accuracy: 0.9446\n",
            "Epoch 8: val_loss improved from 0.50360 to 0.50054, saving model to best_model.hdf5\n",
            "6000/6000 [==============================] - 61s 10ms/step - loss: 0.5198 - accuracy: 0.9446 - val_loss: 0.5005 - val_accuracy: 0.9526\n",
            "Epoch 9/20\n",
            "6000/6000 [==============================] - ETA: 0s - loss: 0.5082 - accuracy: 0.9463\n",
            "Epoch 9: val_loss improved from 0.50054 to 0.47269, saving model to best_model.hdf5\n",
            "6000/6000 [==============================] - 65s 11ms/step - loss: 0.5082 - accuracy: 0.9463 - val_loss: 0.4727 - val_accuracy: 0.9586\n",
            "Epoch 10/20\n",
            "5998/6000 [============================>.] - ETA: 0s - loss: 0.5006 - accuracy: 0.9479\n",
            "Epoch 10: val_loss did not improve from 0.47269\n",
            "6000/6000 [==============================] - 65s 11ms/step - loss: 0.5005 - accuracy: 0.9479 - val_loss: 0.5045 - val_accuracy: 0.9557\n",
            "Epoch 11/20\n",
            "6000/6000 [==============================] - ETA: 0s - loss: 0.4889 - accuracy: 0.9516\n",
            "Epoch 11: val_loss improved from 0.47269 to 0.45123, saving model to best_model.hdf5\n",
            "6000/6000 [==============================] - 62s 10ms/step - loss: 0.4889 - accuracy: 0.9516 - val_loss: 0.4512 - val_accuracy: 0.9592\n",
            "Epoch 12/20\n",
            "5999/6000 [============================>.] - ETA: 0s - loss: 0.4794 - accuracy: 0.9523\n",
            "Epoch 12: val_loss did not improve from 0.45123\n",
            "6000/6000 [==============================] - 62s 10ms/step - loss: 0.4794 - accuracy: 0.9523 - val_loss: 0.5405 - val_accuracy: 0.9628\n",
            "Epoch 13/20\n",
            "5999/6000 [============================>.] - ETA: 0s - loss: 0.4757 - accuracy: 0.9531\n",
            "Epoch 13: val_loss did not improve from 0.45123\n",
            "6000/6000 [==============================] - 62s 10ms/step - loss: 0.4757 - accuracy: 0.9531 - val_loss: 0.4612 - val_accuracy: 0.9580\n",
            "Epoch 14/20\n",
            "5998/6000 [============================>.] - ETA: 0s - loss: 0.4703 - accuracy: 0.9542\n",
            "Epoch 14: val_loss improved from 0.45123 to 0.42885, saving model to best_model.hdf5\n",
            "6000/6000 [==============================] - 61s 10ms/step - loss: 0.4702 - accuracy: 0.9542 - val_loss: 0.4288 - val_accuracy: 0.9648\n",
            "Epoch 15/20\n",
            "5998/6000 [============================>.] - ETA: 0s - loss: 0.4686 - accuracy: 0.9546\n",
            "Epoch 15: val_loss did not improve from 0.42885\n",
            "6000/6000 [==============================] - 61s 10ms/step - loss: 0.4686 - accuracy: 0.9546 - val_loss: 0.4456 - val_accuracy: 0.9565\n",
            "Epoch 16/20\n",
            "5995/6000 [============================>.] - ETA: 0s - loss: 0.4609 - accuracy: 0.9559\n",
            "Epoch 16: val_loss did not improve from 0.42885\n",
            "6000/6000 [==============================] - 63s 11ms/step - loss: 0.4609 - accuracy: 0.9560 - val_loss: 0.4640 - val_accuracy: 0.9620\n",
            "Epoch 17/20\n",
            "5999/6000 [============================>.] - ETA: 0s - loss: 0.4567 - accuracy: 0.9571\n",
            "Epoch 17: val_loss did not improve from 0.42885\n",
            "6000/6000 [==============================] - 61s 10ms/step - loss: 0.4568 - accuracy: 0.9571 - val_loss: 0.4625 - val_accuracy: 0.9583\n",
            "Epoch 18/20\n",
            "5997/6000 [============================>.] - ETA: 0s - loss: 0.4571 - accuracy: 0.9569\n",
            "Epoch 18: val_loss did not improve from 0.42885\n",
            "6000/6000 [==============================] - 61s 10ms/step - loss: 0.4571 - accuracy: 0.9569 - val_loss: 0.4628 - val_accuracy: 0.9647\n",
            "Epoch 19/20\n",
            "5997/6000 [============================>.] - ETA: 0s - loss: 0.4514 - accuracy: 0.9580\n",
            "Epoch 19: val_loss improved from 0.42885 to 0.39133, saving model to best_model.hdf5\n",
            "6000/6000 [==============================] - 63s 10ms/step - loss: 0.4513 - accuracy: 0.9580 - val_loss: 0.3913 - val_accuracy: 0.9650\n",
            "Epoch 20/20\n",
            "5999/6000 [============================>.] - ETA: 0s - loss: 0.4467 - accuracy: 0.9593\n",
            "Epoch 20: val_loss did not improve from 0.39133\n",
            "6000/6000 [==============================] - 61s 10ms/step - loss: 0.4468 - accuracy: 0.9593 - val_loss: 0.4989 - val_accuracy: 0.9622\n"
          ]
        },
        {
          "output_type": "execute_result",
          "data": {
            "text/plain": [
              "<keras.src.callbacks.History at 0x7f9da6663790>"
            ]
          },
          "metadata": {},
          "execution_count": 80
        }
      ]
    },
    {
      "cell_type": "code",
      "source": [],
      "metadata": {
        "id": "lwnKSuYqPNxH"
      },
      "execution_count": 80,
      "outputs": []
    },
    {
      "cell_type": "code",
      "source": [
        "experiment.log_model('MNIST1', 'best_model.hdf5')\n",
        "experiment.end()"
      ],
      "metadata": {
        "colab": {
          "base_uri": "https://localhost:8080/"
        },
        "id": "QUyEuyczEF6s",
        "outputId": "1f35f7a6-a4b7-4a72-f1d8-a78e05325b7c"
      },
      "execution_count": 81,
      "outputs": [
        {
          "output_type": "stream",
          "name": "stderr",
          "text": [
            "\u001b[1;38;5;39mCOMET INFO:\u001b[0m ---------------------------------------------------------------------------------------\n",
            "\u001b[1;38;5;39mCOMET INFO:\u001b[0m Comet.ml Experiment Summary\n",
            "\u001b[1;38;5;39mCOMET INFO:\u001b[0m ---------------------------------------------------------------------------------------\n",
            "\u001b[1;38;5;39mCOMET INFO:\u001b[0m   Data:\n",
            "\u001b[1;38;5;39mCOMET INFO:\u001b[0m     display_summary_level : 1\n",
            "\u001b[1;38;5;39mCOMET INFO:\u001b[0m     url                   : https://www.comet.com/gurumasterahb/tarea-03/b1a1794e2ddf457e81bec41a7b7e027c\n",
            "\u001b[1;38;5;39mCOMET INFO:\u001b[0m   Metrics [count] (min, max):\n",
            "\u001b[1;38;5;39mCOMET INFO:\u001b[0m     accuracy [20]                  : (0.8372666835784912, 0.9592666625976562)\n",
            "\u001b[1;38;5;39mCOMET INFO:\u001b[0m     batch_accuracy [12000]         : (0.10000000149011612, 1.0)\n",
            "\u001b[1;38;5;39mCOMET INFO:\u001b[0m     batch_loss [12000]             : (0.29590702056884766, 13.603830337524414)\n",
            "\u001b[1;38;5;39mCOMET INFO:\u001b[0m     epoch_duration [20]            : (60.42000262599868, 71.8793612010013)\n",
            "\u001b[1;38;5;39mCOMET INFO:\u001b[0m     loss [20]                      : (0.4467546343803406, 1.1927858591079712)\n",
            "\u001b[1;38;5;39mCOMET INFO:\u001b[0m     val_accuracy [20]              : (0.910099983215332, 0.9649999737739563)\n",
            "\u001b[1;38;5;39mCOMET INFO:\u001b[0m     val_loss [20]                  : (0.39132556319236755, 0.7711952924728394)\n",
            "\u001b[1;38;5;39mCOMET INFO:\u001b[0m     validate_batch_accuracy [2000] : (0.8864271640777588, 1.0)\n",
            "\u001b[1;38;5;39mCOMET INFO:\u001b[0m     validate_batch_loss [2000]     : (0.31351301074028015, 0.9161484837532043)\n",
            "\u001b[1;38;5;39mCOMET INFO:\u001b[0m   Others:\n",
            "\u001b[1;38;5;39mCOMET INFO:\u001b[0m     Name             : Regularización_L1L2\n",
            "\u001b[1;38;5;39mCOMET INFO:\u001b[0m     trainable_params : 639300\n",
            "\u001b[1;38;5;39mCOMET INFO:\u001b[0m   Parameters:\n",
            "\u001b[1;38;5;39mCOMET INFO:\u001b[0m     Adam_amsgrad                 : False\n",
            "\u001b[1;38;5;39mCOMET INFO:\u001b[0m     Adam_beta_1                  : 0.9\n",
            "\u001b[1;38;5;39mCOMET INFO:\u001b[0m     Adam_beta_2                  : 0.999\n",
            "\u001b[1;38;5;39mCOMET INFO:\u001b[0m     Adam_clipnorm                : 1\n",
            "\u001b[1;38;5;39mCOMET INFO:\u001b[0m     Adam_clipvalue               : 1\n",
            "\u001b[1;38;5;39mCOMET INFO:\u001b[0m     Adam_ema_momentum            : 0.99\n",
            "\u001b[1;38;5;39mCOMET INFO:\u001b[0m     Adam_ema_overwrite_frequency : 1\n",
            "\u001b[1;38;5;39mCOMET INFO:\u001b[0m     Adam_epsilon                 : 1e-07\n",
            "\u001b[1;38;5;39mCOMET INFO:\u001b[0m     Adam_global_clipnorm         : 1\n",
            "\u001b[1;38;5;39mCOMET INFO:\u001b[0m     Adam_is_legacy_optimizer     : False\n",
            "\u001b[1;38;5;39mCOMET INFO:\u001b[0m     Adam_jit_compile             : False\n",
            "\u001b[1;38;5;39mCOMET INFO:\u001b[0m     Adam_learning_rate           : 0.0010000000474974513\n",
            "\u001b[1;38;5;39mCOMET INFO:\u001b[0m     Adam_name                    : Adam\n",
            "\u001b[1;38;5;39mCOMET INFO:\u001b[0m     Adam_use_ema                 : False\n",
            "\u001b[1;38;5;39mCOMET INFO:\u001b[0m     Adam_weight_decay            : 1\n",
            "\u001b[1;38;5;39mCOMET INFO:\u001b[0m     batch_size                   : 10\n",
            "\u001b[1;38;5;39mCOMET INFO:\u001b[0m     epochs                       : 20\n",
            "\u001b[1;38;5;39mCOMET INFO:\u001b[0m     learning_rate                : 0.01\n",
            "\u001b[1;38;5;39mCOMET INFO:\u001b[0m     loss                         : categorical_crossentropy\n",
            "\u001b[1;38;5;39mCOMET INFO:\u001b[0m     optimizer                    : adam\n",
            "\u001b[1;38;5;39mCOMET INFO:\u001b[0m     steps                        : 6000\n",
            "\u001b[1;38;5;39mCOMET INFO:\u001b[0m   Uploads:\n",
            "\u001b[1;38;5;39mCOMET INFO:\u001b[0m     environment details : 1\n",
            "\u001b[1;38;5;39mCOMET INFO:\u001b[0m     filename            : 1\n",
            "\u001b[1;38;5;39mCOMET INFO:\u001b[0m     histogram3d         : 189\n",
            "\u001b[1;38;5;39mCOMET INFO:\u001b[0m     installed packages  : 1\n",
            "\u001b[1;38;5;39mCOMET INFO:\u001b[0m     model graph         : 1\n",
            "\u001b[1;38;5;39mCOMET INFO:\u001b[0m     model-element       : 1 (7.35 MB)\n",
            "\u001b[1;38;5;39mCOMET INFO:\u001b[0m     notebook            : 2\n",
            "\u001b[1;38;5;39mCOMET INFO:\u001b[0m     os packages         : 1\n",
            "\u001b[1;38;5;39mCOMET INFO:\u001b[0m     source_code         : 1\n",
            "\u001b[1;38;5;39mCOMET INFO:\u001b[0m \n",
            "\u001b[1;38;5;39mCOMET INFO:\u001b[0m Uploading 1 metrics, params and output messages\n"
          ]
        }
      ]
    }
  ]
}