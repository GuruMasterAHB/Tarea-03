{
  "nbformat": 4,
  "nbformat_minor": 0,
  "metadata": {
    "colab": {
      "provenance": []
    },
    "kernelspec": {
      "name": "python3",
      "display_name": "Python 3"
    },
    "language_info": {
      "name": "python"
    }
  },
  "cells": [
    {
      "cell_type": "code",
      "execution_count": 9,
      "metadata": {
        "id": "PLwl1LzBl3A5"
      },
      "outputs": [],
      "source": [
        "# Para llevar un registro de los cambios\n",
        "%pip install -q comet_ml\n",
        "import comet_ml\n",
        "comet_ml.init(project_name='Tarea 03')"
      ]
    },
    {
      "cell_type": "code",
      "source": [
        "# Librerías\n",
        "import tensorflow as tf\n",
        "from tensorflow import keras\n",
        "from tensorflow.keras.datasets import mnist\n",
        "from tensorflow.keras.models import Sequential\n",
        "from tensorflow.keras.layers import Dense, Dropout, Activation, Flatten, Input\n",
        "from tensorflow.keras.optimizers import RMSprop, SGD\n",
        "from tensorflow.keras import regularizers\n",
        "from keras.callbacks import ModelCheckpoint"
      ],
      "metadata": {
        "id": "khfjh-UbkyZX"
      },
      "execution_count": 10,
      "outputs": []
    },
    {
      "cell_type": "code",
      "source": [
        "experiment = comet_ml.Experiment(\n",
        "    auto_histogram_weight_logging=True,\n",
        "    auto_histogram_gradient_logging=True,\n",
        "    auto_histogram_activation_logging=True,\n",
        "    log_code=True,\n",
        ")"
      ],
      "metadata": {
        "colab": {
          "base_uri": "https://localhost:8080/"
        },
        "id": "3u9sQxMLsAst",
        "outputId": "face370e-320d-4f06-9b61-79f1c9424976"
      },
      "execution_count": 11,
      "outputs": [
        {
          "output_type": "stream",
          "name": "stderr",
          "text": [
            "\u001b[1;38;5;39mCOMET INFO:\u001b[0m ---------------------------------------------------------------------------------------\n",
            "\u001b[1;38;5;39mCOMET INFO:\u001b[0m Comet.ml Experiment Summary\n",
            "\u001b[1;38;5;39mCOMET INFO:\u001b[0m ---------------------------------------------------------------------------------------\n",
            "\u001b[1;38;5;39mCOMET INFO:\u001b[0m   Data:\n",
            "\u001b[1;38;5;39mCOMET INFO:\u001b[0m     display_summary_level : 1\n",
            "\u001b[1;38;5;39mCOMET INFO:\u001b[0m     url                   : https://www.comet.com/gurumasterahb/tarea-03/741d1a3cba7644e3921ef116374a2b34\n",
            "\u001b[1;38;5;39mCOMET INFO:\u001b[0m   Uploads:\n",
            "\u001b[1;38;5;39mCOMET INFO:\u001b[0m     environment details : 1\n",
            "\u001b[1;38;5;39mCOMET INFO:\u001b[0m     filename            : 1\n",
            "\u001b[1;38;5;39mCOMET INFO:\u001b[0m     installed packages  : 1\n",
            "\u001b[1;38;5;39mCOMET INFO:\u001b[0m     notebook            : 2\n",
            "\u001b[1;38;5;39mCOMET INFO:\u001b[0m     os packages         : 1\n",
            "\u001b[1;38;5;39mCOMET INFO:\u001b[0m     source_code         : 1\n",
            "\u001b[1;38;5;39mCOMET INFO:\u001b[0m \n",
            "\u001b[1;38;5;214mCOMET WARNING:\u001b[0m As you are running in a Jupyter environment, you will need to call `experiment.end()` when finished to ensure all metrics and code are logged before exiting.\n",
            "\u001b[1;38;5;39mCOMET INFO:\u001b[0m Couldn't find a Git repository in '/content' nor in any parent directory. Set `COMET_GIT_DIRECTORY` if your Git Repository is elsewhere.\n",
            "\u001b[1;38;5;39mCOMET INFO:\u001b[0m Experiment is live on comet.com https://www.comet.com/gurumasterahb/tarea-03/51b34f9074aa49ad8e20ca5e3a1525c1\n",
            "\n"
          ]
        }
      ]
    },
    {
      "cell_type": "code",
      "source": [
        "# Carga el dataset de MNIST\n",
        "(x_train, y_train), (x_test, y_test) = mnist.load_data()"
      ],
      "metadata": {
        "id": "5GhobFrzsKp0"
      },
      "execution_count": 12,
      "outputs": []
    },
    {
      "cell_type": "code",
      "source": [
        "# Convierte y normaliza los datos de entrada\n",
        "x_train = x_train.astype('float32')\n",
        "x_test = x_test.astype('float32')\n",
        "x_train /= 255\n",
        "x_test /= 255"
      ],
      "metadata": {
        "id": "7GpqRRmGuDve"
      },
      "execution_count": 13,
      "outputs": []
    },
    {
      "cell_type": "code",
      "source": [
        "# to_categorical convierte las etiquetas (train, test) en matrices one-hot\n",
        "num_classes = 10\n",
        "y_trainc = keras.utils.to_categorical(y_train, num_classes)\n",
        "y_testc = keras.utils.to_categorical(y_test, num_classes)"
      ],
      "metadata": {
        "id": "K0df0m67vFHQ"
      },
      "execution_count": 14,
      "outputs": []
    },
    {
      "cell_type": "code",
      "source": [
        "  # Diccionario con los parámetros que se registrarán en comet\n",
        "  parameters = {\n",
        "      'epochs' : 30,\n",
        "      'batch_size' : 10,\n",
        "      'learning_rate' : 0.010,\n",
        "      'optimizer' : 'RMSprop',\n",
        "      'loss' : 'categorical_crossentropy'\n",
        "  }\n",
        "  experiment.log_parameters(parameters)"
      ],
      "metadata": {
        "id": "Nt6SR_7Cv-8g"
      },
      "execution_count": null,
      "outputs": []
    },
    {
      "cell_type": "code",
      "source": [
        "# Creación del modelo\n",
        "model = Sequential()\n",
        "# Es como una \"primera capa\" de tres capas\n",
        "model.add(Input(shape = (28,28))) # Matrices de entrada de 28x28 (imáegenes)\n",
        "model.add(Flatten()) # Convierte las matrices de 28x28 en matrices de 784x1\n",
        "model.add(Dense(784, activation = 'sigmoid'))\n",
        "model.add(Dense(30, activation = 'sigmoid')) # Segunda capa\n",
        "model.add(Dense(10, activation = 'softmax')) # Tercera capa\n",
        "\n",
        "model.summary()"
      ],
      "metadata": {
        "colab": {
          "base_uri": "https://localhost:8080/"
        },
        "id": "AP1jXJ7Mx5N2",
        "outputId": "d17d329e-269f-4c79-874d-3e993c1f2308"
      },
      "execution_count": 16,
      "outputs": [
        {
          "output_type": "stream",
          "name": "stdout",
          "text": [
            "Model: \"sequential\"\n",
            "_________________________________________________________________\n",
            " Layer (type)                Output Shape              Param #   \n",
            "=================================================================\n",
            " flatten (Flatten)           (None, 784)               0         \n",
            "                                                                 \n",
            " dense (Dense)               (None, 784)               615440    \n",
            "                                                                 \n",
            " dense_1 (Dense)             (None, 30)                23550     \n",
            "                                                                 \n",
            " dense_2 (Dense)             (None, 10)                310       \n",
            "                                                                 \n",
            "=================================================================\n",
            "Total params: 639300 (2.44 MB)\n",
            "Trainable params: 639300 (2.44 MB)\n",
            "Non-trainable params: 0 (0.00 Byte)\n",
            "_________________________________________________________________\n"
          ]
        }
      ]
    },
    {
      "cell_type": "code",
      "source": [
        "# Checkpoint que guarda el mejor modelo (cuando la función de costo alcanza un mínimo)\n",
        "checkpoint = ModelCheckpoint(filepath = 'best_model.hdf5', monitor = 'val_loss', verbose = 1, save_best_only = True, mode = 'min')\n",
        "# Guarda el modelo cuando la precisión alcanza un máximo\n",
        "# checkpoint = ModelCheckpoint(filepath = 'best_model.hdf5', monitor = 'val_acc', verbose = 1, save_best_only = True, mode = 'max')"
      ],
      "metadata": {
        "id": "6X-WyYYzBjQI"
      },
      "execution_count": 17,
      "outputs": []
    },
    {
      "cell_type": "code",
      "source": [
        "model.compile(loss = parameters['loss'], optimizer = parameters['optimizer'], metrics = ['accuracy'])\n",
        "model.fit(x_train, y_trainc, batch_size = parameters['batch_size'], epochs = parameters['epochs'], verbose = 1, validation_data = (x_test, y_testc), callbacks = [checkpoint])"
      ],
      "metadata": {
        "colab": {
          "base_uri": "https://localhost:8080/"
        },
        "id": "tI9RGkPFCLSH",
        "outputId": "681f7816-bab9-4fe6-c6e7-2cac6b47a771"
      },
      "execution_count": 18,
      "outputs": [
        {
          "output_type": "stream",
          "name": "stderr",
          "text": [
            "\u001b[1;38;5;39mCOMET INFO:\u001b[0m Ignoring automatic log_parameter('verbose') because 'keras:verbose' is in COMET_LOGGING_PARAMETERS_IGNORE\n"
          ]
        },
        {
          "output_type": "stream",
          "name": "stdout",
          "text": [
            "Epoch 1/30\n",
            "6000/6000 [==============================] - ETA: 0s - loss: 0.3552 - accuracy: 0.9038\n",
            "Epoch 1: val_loss improved from inf to 0.18077, saving model to best_model.hdf5\n",
            "6000/6000 [==============================] - 71s 12ms/step - loss: 0.3552 - accuracy: 0.9038 - val_loss: 0.1808 - val_accuracy: 0.9460\n",
            "Epoch 2/30\n",
            "   1/6000 [..............................] - ETA: 1:15 - loss: 0.0443 - accuracy: 1.0000"
          ]
        },
        {
          "output_type": "stream",
          "name": "stderr",
          "text": [
            "/usr/local/lib/python3.10/dist-packages/keras/src/engine/training.py:3000: UserWarning: You are saving your model as an HDF5 file via `model.save()`. This file format is considered legacy. We recommend using instead the native Keras format, e.g. `model.save('my_model.keras')`.\n",
            "  saving_api.save_model(\n"
          ]
        },
        {
          "output_type": "stream",
          "name": "stdout",
          "text": [
            "6000/6000 [==============================] - ETA: 0s - loss: 0.1403 - accuracy: 0.9585\n",
            "Epoch 2: val_loss improved from 0.18077 to 0.12603, saving model to best_model.hdf5\n",
            "6000/6000 [==============================] - 58s 10ms/step - loss: 0.1403 - accuracy: 0.9585 - val_loss: 0.1260 - val_accuracy: 0.9614\n",
            "Epoch 3/30\n",
            "5998/6000 [============================>.] - ETA: 0s - loss: 0.0956 - accuracy: 0.9717\n",
            "Epoch 3: val_loss improved from 0.12603 to 0.09505, saving model to best_model.hdf5\n",
            "6000/6000 [==============================] - 62s 10ms/step - loss: 0.0956 - accuracy: 0.9717 - val_loss: 0.0951 - val_accuracy: 0.9707\n",
            "Epoch 4/30\n",
            "5996/6000 [============================>.] - ETA: 0s - loss: 0.0740 - accuracy: 0.9781\n",
            "Epoch 4: val_loss improved from 0.09505 to 0.08842, saving model to best_model.hdf5\n",
            "6000/6000 [==============================] - 59s 10ms/step - loss: 0.0739 - accuracy: 0.9781 - val_loss: 0.0884 - val_accuracy: 0.9749\n",
            "Epoch 5/30\n",
            "6000/6000 [==============================] - ETA: 0s - loss: 0.0599 - accuracy: 0.9821\n",
            "Epoch 5: val_loss improved from 0.08842 to 0.08082, saving model to best_model.hdf5\n",
            "6000/6000 [==============================] - 58s 10ms/step - loss: 0.0599 - accuracy: 0.9821 - val_loss: 0.0808 - val_accuracy: 0.9776\n",
            "Epoch 6/30\n",
            "5995/6000 [============================>.] - ETA: 0s - loss: 0.0496 - accuracy: 0.9858\n",
            "Epoch 6: val_loss did not improve from 0.08082\n",
            "6000/6000 [==============================] - 58s 10ms/step - loss: 0.0496 - accuracy: 0.9858 - val_loss: 0.0928 - val_accuracy: 0.9750\n",
            "Epoch 7/30\n",
            "5997/6000 [============================>.] - ETA: 0s - loss: 0.0422 - accuracy: 0.9877\n",
            "Epoch 7: val_loss improved from 0.08082 to 0.07098, saving model to best_model.hdf5\n",
            "6000/6000 [==============================] - 59s 10ms/step - loss: 0.0422 - accuracy: 0.9877 - val_loss: 0.0710 - val_accuracy: 0.9808\n",
            "Epoch 8/30\n",
            "5995/6000 [============================>.] - ETA: 0s - loss: 0.0339 - accuracy: 0.9903\n",
            "Epoch 8: val_loss did not improve from 0.07098\n",
            "6000/6000 [==============================] - 59s 10ms/step - loss: 0.0339 - accuracy: 0.9902 - val_loss: 0.0744 - val_accuracy: 0.9798\n",
            "Epoch 9/30\n",
            "5998/6000 [============================>.] - ETA: 0s - loss: 0.0290 - accuracy: 0.9918\n",
            "Epoch 9: val_loss did not improve from 0.07098\n",
            "6000/6000 [==============================] - 59s 10ms/step - loss: 0.0290 - accuracy: 0.9918 - val_loss: 0.0817 - val_accuracy: 0.9797\n",
            "Epoch 10/30\n",
            "5994/6000 [============================>.] - ETA: 0s - loss: 0.0246 - accuracy: 0.9928\n",
            "Epoch 10: val_loss did not improve from 0.07098\n",
            "6000/6000 [==============================] - 59s 10ms/step - loss: 0.0246 - accuracy: 0.9928 - val_loss: 0.0752 - val_accuracy: 0.9830\n",
            "Epoch 11/30\n",
            "6000/6000 [==============================] - ETA: 0s - loss: 0.0196 - accuracy: 0.9943\n",
            "Epoch 11: val_loss did not improve from 0.07098\n",
            "6000/6000 [==============================] - 61s 10ms/step - loss: 0.0196 - accuracy: 0.9943 - val_loss: 0.0781 - val_accuracy: 0.9821\n",
            "Epoch 12/30\n",
            "5999/6000 [============================>.] - ETA: 0s - loss: 0.0168 - accuracy: 0.9953\n",
            "Epoch 12: val_loss did not improve from 0.07098\n",
            "6000/6000 [==============================] - 59s 10ms/step - loss: 0.0169 - accuracy: 0.9953 - val_loss: 0.0801 - val_accuracy: 0.9827\n",
            "Epoch 13/30\n",
            "5998/6000 [============================>.] - ETA: 0s - loss: 0.0141 - accuracy: 0.9959\n",
            "Epoch 13: val_loss did not improve from 0.07098\n",
            "6000/6000 [==============================] - 58s 10ms/step - loss: 0.0141 - accuracy: 0.9959 - val_loss: 0.0754 - val_accuracy: 0.9842\n",
            "Epoch 14/30\n",
            "5997/6000 [============================>.] - ETA: 0s - loss: 0.0113 - accuracy: 0.9970\n",
            "Epoch 14: val_loss did not improve from 0.07098\n",
            "6000/6000 [==============================] - 59s 10ms/step - loss: 0.0113 - accuracy: 0.9970 - val_loss: 0.0894 - val_accuracy: 0.9806\n",
            "Epoch 15/30\n",
            "5996/6000 [============================>.] - ETA: 0s - loss: 0.0090 - accuracy: 0.9973\n",
            "Epoch 15: val_loss did not improve from 0.07098\n",
            "6000/6000 [==============================] - 61s 10ms/step - loss: 0.0090 - accuracy: 0.9973 - val_loss: 0.0899 - val_accuracy: 0.9813\n",
            "Epoch 16/30\n",
            "5998/6000 [============================>.] - ETA: 0s - loss: 0.0080 - accuracy: 0.9980\n",
            "Epoch 16: val_loss did not improve from 0.07098\n",
            "6000/6000 [==============================] - 59s 10ms/step - loss: 0.0080 - accuracy: 0.9980 - val_loss: 0.0792 - val_accuracy: 0.9826\n",
            "Epoch 17/30\n",
            "5995/6000 [============================>.] - ETA: 0s - loss: 0.0063 - accuracy: 0.9983\n",
            "Epoch 17: val_loss did not improve from 0.07098\n",
            "6000/6000 [==============================] - 59s 10ms/step - loss: 0.0063 - accuracy: 0.9983 - val_loss: 0.0827 - val_accuracy: 0.9840\n",
            "Epoch 18/30\n",
            "6000/6000 [==============================] - ETA: 0s - loss: 0.0054 - accuracy: 0.9985\n",
            "Epoch 18: val_loss did not improve from 0.07098\n",
            "6000/6000 [==============================] - 59s 10ms/step - loss: 0.0054 - accuracy: 0.9985 - val_loss: 0.0994 - val_accuracy: 0.9822\n",
            "Epoch 19/30\n",
            "5998/6000 [============================>.] - ETA: 0s - loss: 0.0043 - accuracy: 0.9988\n",
            "Epoch 19: val_loss did not improve from 0.07098\n",
            "6000/6000 [==============================] - 61s 10ms/step - loss: 0.0043 - accuracy: 0.9988 - val_loss: 0.0899 - val_accuracy: 0.9824\n",
            "Epoch 20/30\n",
            "5998/6000 [============================>.] - ETA: 0s - loss: 0.0035 - accuracy: 0.9991\n",
            "Epoch 20: val_loss did not improve from 0.07098\n",
            "6000/6000 [==============================] - 58s 10ms/step - loss: 0.0035 - accuracy: 0.9991 - val_loss: 0.0904 - val_accuracy: 0.9827\n",
            "Epoch 21/30\n",
            "5997/6000 [============================>.] - ETA: 0s - loss: 0.0027 - accuracy: 0.9992\n",
            "Epoch 21: val_loss did not improve from 0.07098\n",
            "6000/6000 [==============================] - 58s 10ms/step - loss: 0.0027 - accuracy: 0.9992 - val_loss: 0.0862 - val_accuracy: 0.9836\n",
            "Epoch 22/30\n",
            "5995/6000 [============================>.] - ETA: 0s - loss: 0.0023 - accuracy: 0.9994\n",
            "Epoch 22: val_loss did not improve from 0.07098\n",
            "6000/6000 [==============================] - 57s 10ms/step - loss: 0.0023 - accuracy: 0.9995 - val_loss: 0.0865 - val_accuracy: 0.9836\n",
            "Epoch 23/30\n",
            "5997/6000 [============================>.] - ETA: 0s - loss: 0.0020 - accuracy: 0.9994\n",
            "Epoch 23: val_loss did not improve from 0.07098\n",
            "6000/6000 [==============================] - 58s 10ms/step - loss: 0.0020 - accuracy: 0.9994 - val_loss: 0.0859 - val_accuracy: 0.9838\n",
            "Epoch 24/30\n",
            "5997/6000 [============================>.] - ETA: 0s - loss: 0.0015 - accuracy: 0.9996\n",
            "Epoch 24: val_loss did not improve from 0.07098\n",
            "6000/6000 [==============================] - 60s 10ms/step - loss: 0.0015 - accuracy: 0.9996 - val_loss: 0.0867 - val_accuracy: 0.9842\n",
            "Epoch 25/30\n",
            "6000/6000 [==============================] - ETA: 0s - loss: 0.0010 - accuracy: 0.9998\n",
            "Epoch 25: val_loss did not improve from 0.07098\n",
            "6000/6000 [==============================] - 59s 10ms/step - loss: 0.0010 - accuracy: 0.9998 - val_loss: 0.0922 - val_accuracy: 0.9827\n",
            "Epoch 26/30\n",
            "5994/6000 [============================>.] - ETA: 0s - loss: 9.8064e-04 - accuracy: 0.9997\n",
            "Epoch 26: val_loss did not improve from 0.07098\n",
            "6000/6000 [==============================] - 57s 10ms/step - loss: 9.7968e-04 - accuracy: 0.9997 - val_loss: 0.0979 - val_accuracy: 0.9821\n",
            "Epoch 27/30\n",
            "5998/6000 [============================>.] - ETA: 0s - loss: 6.7851e-04 - accuracy: 0.9998\n",
            "Epoch 27: val_loss did not improve from 0.07098\n",
            "6000/6000 [==============================] - 59s 10ms/step - loss: 6.7846e-04 - accuracy: 0.9998 - val_loss: 0.0912 - val_accuracy: 0.9839\n",
            "Epoch 28/30\n",
            "5996/6000 [============================>.] - ETA: 0s - loss: 5.0783e-04 - accuracy: 0.9999\n",
            "Epoch 28: val_loss did not improve from 0.07098\n",
            "6000/6000 [==============================] - 60s 10ms/step - loss: 5.0749e-04 - accuracy: 0.9999 - val_loss: 0.0950 - val_accuracy: 0.9824\n",
            "Epoch 29/30\n",
            "5998/6000 [============================>.] - ETA: 0s - loss: 3.1756e-04 - accuracy: 0.9999\n",
            "Epoch 29: val_loss did not improve from 0.07098\n",
            "6000/6000 [==============================] - 58s 10ms/step - loss: 3.1746e-04 - accuracy: 0.9999 - val_loss: 0.0925 - val_accuracy: 0.9833\n",
            "Epoch 30/30\n",
            "5998/6000 [============================>.] - ETA: 0s - loss: 2.5071e-04 - accuracy: 0.9999\n",
            "Epoch 30: val_loss did not improve from 0.07098\n",
            "6000/6000 [==============================] - 58s 10ms/step - loss: 2.5064e-04 - accuracy: 0.9999 - val_loss: 0.0949 - val_accuracy: 0.9835\n"
          ]
        },
        {
          "output_type": "execute_result",
          "data": {
            "text/plain": [
              "<keras.src.callbacks.History at 0x79a43af9a9b0>"
            ]
          },
          "metadata": {},
          "execution_count": 18
        }
      ]
    },
    {
      "cell_type": "code",
      "source": [
        "experiment.log_model('MNIST1', 'best_model.hdf5')\n",
        "experiment.end()"
      ],
      "metadata": {
        "colab": {
          "base_uri": "https://localhost:8080/"
        },
        "id": "QUyEuyczEF6s",
        "outputId": "d1cdabb6-9879-4fac-f366-4ed2cdb0cf98"
      },
      "execution_count": 19,
      "outputs": [
        {
          "output_type": "stream",
          "name": "stderr",
          "text": [
            "\u001b[1;38;5;39mCOMET INFO:\u001b[0m ---------------------------------------------------------------------------------------\n",
            "\u001b[1;38;5;39mCOMET INFO:\u001b[0m Comet.ml Experiment Summary\n",
            "\u001b[1;38;5;39mCOMET INFO:\u001b[0m ---------------------------------------------------------------------------------------\n",
            "\u001b[1;38;5;39mCOMET INFO:\u001b[0m   Data:\n",
            "\u001b[1;38;5;39mCOMET INFO:\u001b[0m     display_summary_level : 1\n",
            "\u001b[1;38;5;39mCOMET INFO:\u001b[0m     url                   : https://www.comet.com/gurumasterahb/tarea-03/51b34f9074aa49ad8e20ca5e3a1525c1\n",
            "\u001b[1;38;5;39mCOMET INFO:\u001b[0m   Metrics [count] (min, max):\n",
            "\u001b[1;38;5;39mCOMET INFO:\u001b[0m     accuracy [30]                  : (0.9038333296775818, 0.9999333620071411)\n",
            "\u001b[1;38;5;39mCOMET INFO:\u001b[0m     batch_accuracy [18000]         : (0.10000000149011612, 1.0)\n",
            "\u001b[1;38;5;39mCOMET INFO:\u001b[0m     batch_loss [18000]             : (4.1723228605405893e-07, 2.58369517326355)\n",
            "\u001b[1;38;5;39mCOMET INFO:\u001b[0m     epoch_duration [30]            : (57.15656397700013, 71.85111222299997)\n",
            "\u001b[1;38;5;39mCOMET INFO:\u001b[0m     loss [30]                      : (0.0002506444579921663, 0.35521626472473145)\n",
            "\u001b[1;38;5;39mCOMET INFO:\u001b[0m     val_accuracy [30]              : (0.9459999799728394, 0.9842000007629395)\n",
            "\u001b[1;38;5;39mCOMET INFO:\u001b[0m     val_loss [30]                  : (0.07098086923360825, 0.18077343702316284)\n",
            "\u001b[1;38;5;39mCOMET INFO:\u001b[0m     validate_batch_accuracy [3000] : (0.8999999761581421, 1.0)\n",
            "\u001b[1;38;5;39mCOMET INFO:\u001b[0m     validate_batch_loss [3000]     : (1.1967927093792241e-05, 0.25176605582237244)\n",
            "\u001b[1;38;5;39mCOMET INFO:\u001b[0m   Others:\n",
            "\u001b[1;38;5;39mCOMET INFO:\u001b[0m     trainable_params : 639300\n",
            "\u001b[1;38;5;39mCOMET INFO:\u001b[0m   Parameters:\n",
            "\u001b[1;38;5;39mCOMET INFO:\u001b[0m     RMSprop_centered                : False\n",
            "\u001b[1;38;5;39mCOMET INFO:\u001b[0m     RMSprop_clipnorm                : 1\n",
            "\u001b[1;38;5;39mCOMET INFO:\u001b[0m     RMSprop_clipvalue               : 1\n",
            "\u001b[1;38;5;39mCOMET INFO:\u001b[0m     RMSprop_ema_momentum            : 0.99\n",
            "\u001b[1;38;5;39mCOMET INFO:\u001b[0m     RMSprop_ema_overwrite_frequency : 100\n",
            "\u001b[1;38;5;39mCOMET INFO:\u001b[0m     RMSprop_epsilon                 : 1e-07\n",
            "\u001b[1;38;5;39mCOMET INFO:\u001b[0m     RMSprop_global_clipnorm         : 1\n",
            "\u001b[1;38;5;39mCOMET INFO:\u001b[0m     RMSprop_is_legacy_optimizer     : False\n",
            "\u001b[1;38;5;39mCOMET INFO:\u001b[0m     RMSprop_jit_compile             : False\n",
            "\u001b[1;38;5;39mCOMET INFO:\u001b[0m     RMSprop_learning_rate           : 0.0010000000474974513\n",
            "\u001b[1;38;5;39mCOMET INFO:\u001b[0m     RMSprop_momentum                : 0.0\n",
            "\u001b[1;38;5;39mCOMET INFO:\u001b[0m     RMSprop_name                    : RMSprop\n",
            "\u001b[1;38;5;39mCOMET INFO:\u001b[0m     RMSprop_rho                     : 0.9\n",
            "\u001b[1;38;5;39mCOMET INFO:\u001b[0m     RMSprop_use_ema                 : False\n",
            "\u001b[1;38;5;39mCOMET INFO:\u001b[0m     RMSprop_weight_decay            : 1\n",
            "\u001b[1;38;5;39mCOMET INFO:\u001b[0m     batch_size                      : 10\n",
            "\u001b[1;38;5;39mCOMET INFO:\u001b[0m     epochs                          : 30\n",
            "\u001b[1;38;5;39mCOMET INFO:\u001b[0m     learning_rate                   : 0.01\n",
            "\u001b[1;38;5;39mCOMET INFO:\u001b[0m     loss                            : categorical_crossentropy\n",
            "\u001b[1;38;5;39mCOMET INFO:\u001b[0m     optimizer                       : RMSprop\n",
            "\u001b[1;38;5;39mCOMET INFO:\u001b[0m     steps                           : 6000\n",
            "\u001b[1;38;5;39mCOMET INFO:\u001b[0m   Uploads:\n",
            "\u001b[1;38;5;39mCOMET INFO:\u001b[0m     environment details : 1\n",
            "\u001b[1;38;5;39mCOMET INFO:\u001b[0m     filename            : 1\n",
            "\u001b[1;38;5;39mCOMET INFO:\u001b[0m     histogram3d         : 279\n",
            "\u001b[1;38;5;39mCOMET INFO:\u001b[0m     installed packages  : 1\n",
            "\u001b[1;38;5;39mCOMET INFO:\u001b[0m     model graph         : 1\n",
            "\u001b[1;38;5;39mCOMET INFO:\u001b[0m     model-element       : 1 (4.90 MB)\n",
            "\u001b[1;38;5;39mCOMET INFO:\u001b[0m     notebook            : 2\n",
            "\u001b[1;38;5;39mCOMET INFO:\u001b[0m     os packages         : 1\n",
            "\u001b[1;38;5;39mCOMET INFO:\u001b[0m     source_code         : 1\n",
            "\u001b[1;38;5;39mCOMET INFO:\u001b[0m \n",
            "\u001b[1;38;5;39mCOMET INFO:\u001b[0m Please wait for metadata to finish uploading (timeout is 3600 seconds)\n"
          ]
        }
      ]
    }
  ]
}