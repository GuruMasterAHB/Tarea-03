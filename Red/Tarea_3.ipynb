{
  "nbformat": 4,
  "nbformat_minor": 0,
  "metadata": {
    "colab": {
      "provenance": []
    },
    "kernelspec": {
      "name": "python3",
      "display_name": "Python 3"
    },
    "language_info": {
      "name": "python"
    }
  },
  "cells": [
    {
      "cell_type": "code",
      "execution_count": 11,
      "metadata": {
        "id": "PLwl1LzBl3A5"
      },
      "outputs": [],
      "source": [
        "# Para llevar un registro de los cambios\n",
        "%pip install -q comet_ml\n",
        "import comet_ml\n",
        "comet_ml.init(project_name='Tarea 03')"
      ]
    },
    {
      "cell_type": "code",
      "source": [
        "# Librerías\n",
        "import tensorflow as tf\n",
        "from tensorflow import keras\n",
        "from tensorflow.keras.datasets import mnist\n",
        "from tensorflow.keras.models import Sequential\n",
        "from tensorflow.keras.layers import Dense, Dropout, Activation, Flatten, Input\n",
        "from tensorflow.keras.optimizers import RMSprop, SGD\n",
        "from tensorflow.keras import regularizers\n",
        "from keras.callbacks import ModelCheckpoint"
      ],
      "metadata": {
        "id": "khfjh-UbkyZX"
      },
      "execution_count": 12,
      "outputs": []
    },
    {
      "cell_type": "code",
      "source": [
        "experiment = comet_ml.Experiment(\n",
        "    auto_histogram_weight_logging=True,\n",
        "    auto_histogram_gradient_logging=True,\n",
        "    auto_histogram_activation_logging=True,\n",
        "    log_code=True,\n",
        ")\n",
        "experiment.set_name(\"Prueba 02\")"
      ],
      "metadata": {
        "colab": {
          "base_uri": "https://localhost:8080/"
        },
        "id": "3u9sQxMLsAst",
        "outputId": "62333a38-476e-4f70-bdb8-48b615741533"
      },
      "execution_count": 13,
      "outputs": [
        {
          "output_type": "stream",
          "name": "stderr",
          "text": [
            "\u001b[1;38;5;214mCOMET WARNING:\u001b[0m As you are running in a Jupyter environment, you will need to call `experiment.end()` when finished to ensure all metrics and code are logged before exiting.\n",
            "\u001b[1;38;5;39mCOMET INFO:\u001b[0m Couldn't find a Git repository in '/content' nor in any parent directory. Set `COMET_GIT_DIRECTORY` if your Git Repository is elsewhere.\n",
            "\u001b[1;38;5;39mCOMET INFO:\u001b[0m Experiment is live on comet.com https://www.comet.com/gurumasterahb/tarea-03/c4859157f91b4d25b330da4b251fa055\n",
            "\n"
          ]
        }
      ]
    },
    {
      "cell_type": "code",
      "source": [
        "# Carga el dataset de MNIST\n",
        "(x_train, y_train), (x_test, y_test) = mnist.load_data()"
      ],
      "metadata": {
        "id": "5GhobFrzsKp0",
        "colab": {
          "base_uri": "https://localhost:8080/"
        },
        "outputId": "4fd37909-ba76-49d1-c188-4096d2c68867"
      },
      "execution_count": 14,
      "outputs": [
        {
          "output_type": "stream",
          "name": "stdout",
          "text": [
            "Downloading data from https://storage.googleapis.com/tensorflow/tf-keras-datasets/mnist.npz\n",
            "11490434/11490434 [==============================] - 0s 0us/step\n"
          ]
        }
      ]
    },
    {
      "cell_type": "code",
      "source": [
        "# Convierte y normaliza los datos de entrada\n",
        "x_train = x_train.astype('float32')\n",
        "x_test = x_test.astype('float32')\n",
        "x_train /= 255\n",
        "x_test /= 255"
      ],
      "metadata": {
        "id": "7GpqRRmGuDve"
      },
      "execution_count": 15,
      "outputs": []
    },
    {
      "cell_type": "code",
      "source": [
        "# to_categorical convierte las etiquetas (train, test) en matrices one-hot\n",
        "num_classes = 10\n",
        "y_trainc = keras.utils.to_categorical(y_train, num_classes)\n",
        "y_testc = keras.utils.to_categorical(y_test, num_classes)"
      ],
      "metadata": {
        "id": "K0df0m67vFHQ"
      },
      "execution_count": 16,
      "outputs": []
    },
    {
      "cell_type": "code",
      "source": [
        "  # Diccionario con los parámetros que se registrarán en comet\n",
        "  parameters = {\n",
        "      'epochs' : 30,\n",
        "      'batch_size' : 10,\n",
        "      'learning_rate' : 0.010,\n",
        "      'loss' : 'categorical_crossentropy'\n",
        "  }\n",
        "  experiment.log_parameters(parameters)"
      ],
      "metadata": {
        "id": "Nt6SR_7Cv-8g"
      },
      "execution_count": 17,
      "outputs": []
    },
    {
      "cell_type": "code",
      "source": [
        "# Creación del modelo\n",
        "model = Sequential()\n",
        "# Es como una \"primera capa\" de tres capas\n",
        "model.add(Input(shape = (28,28))) # Matrices de entrada de 28x28 (imáegenes)\n",
        "model.add(Flatten()) # Convierte las matrices de 28x28 en matrices de 784x1\n",
        "model.add(Dense(784, activation = 'sigmoid'))\n",
        "model.add(Dense(30, activation = 'sigmoid')) # Segunda capa\n",
        "model.add(Dense(10, activation = 'softmax')) # Tercera capa\n",
        "\n",
        "model.summary()"
      ],
      "metadata": {
        "colab": {
          "base_uri": "https://localhost:8080/"
        },
        "id": "AP1jXJ7Mx5N2",
        "outputId": "dde5cd41-3216-41ee-f65c-5975e598e5d4"
      },
      "execution_count": 18,
      "outputs": [
        {
          "output_type": "stream",
          "name": "stdout",
          "text": [
            "Model: \"sequential\"\n",
            "_________________________________________________________________\n",
            " Layer (type)                Output Shape              Param #   \n",
            "=================================================================\n",
            " flatten (Flatten)           (None, 784)               0         \n",
            "                                                                 \n",
            " dense (Dense)               (None, 784)               615440    \n",
            "                                                                 \n",
            " dense_1 (Dense)             (None, 30)                23550     \n",
            "                                                                 \n",
            " dense_2 (Dense)             (None, 10)                310       \n",
            "                                                                 \n",
            "=================================================================\n",
            "Total params: 639300 (2.44 MB)\n",
            "Trainable params: 639300 (2.44 MB)\n",
            "Non-trainable params: 0 (0.00 Byte)\n",
            "_________________________________________________________________\n"
          ]
        }
      ]
    },
    {
      "cell_type": "code",
      "source": [
        "# Checkpoint que guarda el mejor modelo (cuando la función de costo alcanza un mínimo)\n",
        "checkpoint = ModelCheckpoint(filepath = 'best_model.hdf5', monitor = 'val_loss', verbose = 1, save_best_only = True, mode = 'min')"
      ],
      "metadata": {
        "id": "6X-WyYYzBjQI"
      },
      "execution_count": 19,
      "outputs": []
    },
    {
      "cell_type": "code",
      "source": [
        "optimizer = RMSprop(learning_rate = 3.0)\n",
        "model.compile(loss = parameters['loss'], optimizer = optimizer, metrics = ['accuracy'])\n",
        "model.fit(x_train, y_trainc, batch_size = parameters['batch_size'], epochs = parameters['epochs'], verbose = 1, validation_data = (x_test, y_testc), callbacks = [checkpoint])"
      ],
      "metadata": {
        "colab": {
          "base_uri": "https://localhost:8080/"
        },
        "id": "tI9RGkPFCLSH",
        "outputId": "b36a5a21-ef3a-4f8e-df99-ab09602ba798"
      },
      "execution_count": 20,
      "outputs": [
        {
          "output_type": "stream",
          "name": "stderr",
          "text": [
            "\u001b[1;38;5;39mCOMET INFO:\u001b[0m Ignoring automatic log_parameter('verbose') because 'keras:verbose' is in COMET_LOGGING_PARAMETERS_IGNORE\n"
          ]
        },
        {
          "output_type": "stream",
          "name": "stdout",
          "text": [
            "Epoch 1/30\n",
            "5992/6000 [============================>.] - ETA: 0s - loss: 55.7665 - accuracy: 0.0991\n",
            "Epoch 1: val_loss improved from inf to 85.40594, saving model to best_model.hdf5\n",
            "6000/6000 [==============================] - 31s 5ms/step - loss: 55.7736 - accuracy: 0.0991 - val_loss: 85.4059 - val_accuracy: 0.0958\n",
            "Epoch 2/30\n",
            "  12/6000 [..............................] - ETA: 28s - loss: 55.2174 - accuracy: 0.1000"
          ]
        },
        {
          "output_type": "stream",
          "name": "stderr",
          "text": [
            "/usr/local/lib/python3.10/dist-packages/keras/src/engine/training.py:3000: UserWarning: You are saving your model as an HDF5 file via `model.save()`. This file format is considered legacy. We recommend using instead the native Keras format, e.g. `model.save('my_model.keras')`.\n",
            "  saving_api.save_model(\n"
          ]
        },
        {
          "output_type": "stream",
          "name": "stdout",
          "text": [
            "5999/6000 [============================>.] - ETA: 0s - loss: 55.7770 - accuracy: 0.0987\n",
            "Epoch 2: val_loss improved from 85.40594 to 58.95736, saving model to best_model.hdf5\n",
            "6000/6000 [==============================] - 27s 5ms/step - loss: 55.7742 - accuracy: 0.0987 - val_loss: 58.9574 - val_accuracy: 0.0974\n",
            "Epoch 3/30\n",
            "5988/6000 [============================>.] - ETA: 0s - loss: 55.6579 - accuracy: 0.1006\n",
            "Epoch 3: val_loss improved from 58.95736 to 56.27194, saving model to best_model.hdf5\n",
            "6000/6000 [==============================] - 28s 5ms/step - loss: 55.6538 - accuracy: 0.1007 - val_loss: 56.2719 - val_accuracy: 0.1010\n",
            "Epoch 4/30\n",
            "5993/6000 [============================>.] - ETA: 0s - loss: 55.8136 - accuracy: 0.0990\n",
            "Epoch 4: val_loss improved from 56.27194 to 46.99394, saving model to best_model.hdf5\n",
            "6000/6000 [==============================] - 26s 4ms/step - loss: 55.8158 - accuracy: 0.0990 - val_loss: 46.9939 - val_accuracy: 0.0892\n",
            "Epoch 5/30\n",
            "5991/6000 [============================>.] - ETA: 0s - loss: 55.8421 - accuracy: 0.0990\n",
            "Epoch 5: val_loss improved from 46.99394 to 39.61197, saving model to best_model.hdf5\n",
            "6000/6000 [==============================] - 27s 4ms/step - loss: 55.8459 - accuracy: 0.0990 - val_loss: 39.6120 - val_accuracy: 0.0980\n",
            "Epoch 6/30\n",
            "5998/6000 [============================>.] - ETA: 0s - loss: 55.6529 - accuracy: 0.1005\n",
            "Epoch 6: val_loss did not improve from 39.61197\n",
            "6000/6000 [==============================] - 30s 5ms/step - loss: 55.6535 - accuracy: 0.1005 - val_loss: 41.3517 - val_accuracy: 0.0982\n",
            "Epoch 7/30\n",
            "5991/6000 [============================>.] - ETA: 0s - loss: 55.5322 - accuracy: 0.0999\n",
            "Epoch 7: val_loss improved from 39.61197 to 32.00902, saving model to best_model.hdf5\n",
            "6000/6000 [==============================] - 27s 4ms/step - loss: 55.5382 - accuracy: 0.1000 - val_loss: 32.0090 - val_accuracy: 0.0982\n",
            "Epoch 8/30\n",
            "5994/6000 [============================>.] - ETA: 0s - loss: 55.6297 - accuracy: 0.1003\n",
            "Epoch 8: val_loss did not improve from 32.00902\n",
            "6000/6000 [==============================] - 28s 5ms/step - loss: 55.6288 - accuracy: 0.1003 - val_loss: 41.7896 - val_accuracy: 0.0892\n",
            "Epoch 9/30\n",
            "5999/6000 [============================>.] - ETA: 0s - loss: 55.7394 - accuracy: 0.0984\n",
            "Epoch 9: val_loss did not improve from 32.00902\n",
            "6000/6000 [==============================] - 27s 4ms/step - loss: 55.7399 - accuracy: 0.0984 - val_loss: 67.9073 - val_accuracy: 0.0980\n",
            "Epoch 10/30\n",
            "5995/6000 [============================>.] - ETA: 0s - loss: 55.7117 - accuracy: 0.1003\n",
            "Epoch 10: val_loss did not improve from 32.00902\n",
            "6000/6000 [==============================] - 28s 5ms/step - loss: 55.7195 - accuracy: 0.1002 - val_loss: 63.1922 - val_accuracy: 0.0974\n",
            "Epoch 11/30\n",
            "5995/6000 [============================>.] - ETA: 0s - loss: 55.8535 - accuracy: 0.0997\n",
            "Epoch 11: val_loss did not improve from 32.00902\n",
            "6000/6000 [==============================] - 27s 4ms/step - loss: 55.8532 - accuracy: 0.0997 - val_loss: 68.7706 - val_accuracy: 0.0974\n",
            "Epoch 12/30\n",
            "5996/6000 [============================>.] - ETA: 0s - loss: 55.6696 - accuracy: 0.0998\n",
            "Epoch 12: val_loss did not improve from 32.00902\n",
            "6000/6000 [==============================] - 27s 4ms/step - loss: 55.6634 - accuracy: 0.0998 - val_loss: 59.0909 - val_accuracy: 0.1010\n",
            "Epoch 13/30\n",
            "5999/6000 [============================>.] - ETA: 0s - loss: 55.5771 - accuracy: 0.1008\n",
            "Epoch 13: val_loss did not improve from 32.00902\n",
            "6000/6000 [==============================] - 27s 5ms/step - loss: 55.5736 - accuracy: 0.1008 - val_loss: 50.3964 - val_accuracy: 0.1010\n",
            "Epoch 14/30\n",
            "5993/6000 [============================>.] - ETA: 0s - loss: 55.6543 - accuracy: 0.1010\n",
            "Epoch 14: val_loss did not improve from 32.00902\n",
            "6000/6000 [==============================] - 26s 4ms/step - loss: 55.6630 - accuracy: 0.1009 - val_loss: 72.1471 - val_accuracy: 0.0958\n",
            "Epoch 15/30\n",
            "5994/6000 [============================>.] - ETA: 0s - loss: 55.5854 - accuracy: 0.1028\n",
            "Epoch 15: val_loss did not improve from 32.00902\n",
            "6000/6000 [==============================] - 28s 5ms/step - loss: 55.5907 - accuracy: 0.1028 - val_loss: 42.0677 - val_accuracy: 0.1010\n",
            "Epoch 16/30\n",
            "5996/6000 [============================>.] - ETA: 0s - loss: 55.7089 - accuracy: 0.1009\n",
            "Epoch 16: val_loss did not improve from 32.00902\n",
            "6000/6000 [==============================] - 28s 5ms/step - loss: 55.7026 - accuracy: 0.1009 - val_loss: 53.0544 - val_accuracy: 0.0958\n",
            "Epoch 17/30\n",
            "5990/6000 [============================>.] - ETA: 0s - loss: 55.8376 - accuracy: 0.0977\n",
            "Epoch 17: val_loss did not improve from 32.00902\n",
            "6000/6000 [==============================] - 27s 4ms/step - loss: 55.8362 - accuracy: 0.0977 - val_loss: 60.7188 - val_accuracy: 0.1009\n",
            "Epoch 18/30\n",
            "5994/6000 [============================>.] - ETA: 0s - loss: 55.6688 - accuracy: 0.0997\n",
            "Epoch 18: val_loss did not improve from 32.00902\n",
            "6000/6000 [==============================] - 27s 4ms/step - loss: 55.6735 - accuracy: 0.0997 - val_loss: 55.3351 - val_accuracy: 0.0982\n",
            "Epoch 19/30\n",
            "5996/6000 [============================>.] - ETA: 0s - loss: 55.5994 - accuracy: 0.1025\n",
            "Epoch 19: val_loss did not improve from 32.00902\n",
            "6000/6000 [==============================] - 28s 5ms/step - loss: 55.5957 - accuracy: 0.1025 - val_loss: 52.7316 - val_accuracy: 0.0958\n",
            "Epoch 20/30\n",
            "5999/6000 [============================>.] - ETA: 0s - loss: 55.7346 - accuracy: 0.1006\n",
            "Epoch 20: val_loss did not improve from 32.00902\n",
            "6000/6000 [==============================] - 27s 4ms/step - loss: 55.7342 - accuracy: 0.1006 - val_loss: 40.3286 - val_accuracy: 0.0974\n",
            "Epoch 21/30\n",
            "5996/6000 [============================>.] - ETA: 0s - loss: 55.6873 - accuracy: 0.0995\n",
            "Epoch 21: val_loss did not improve from 32.00902\n",
            "6000/6000 [==============================] - 28s 5ms/step - loss: 55.6882 - accuracy: 0.0996 - val_loss: 50.5605 - val_accuracy: 0.1010\n",
            "Epoch 22/30\n",
            "5997/6000 [============================>.] - ETA: 0s - loss: 55.6172 - accuracy: 0.1007\n",
            "Epoch 22: val_loss did not improve from 32.00902\n",
            "6000/6000 [==============================] - 27s 4ms/step - loss: 55.6124 - accuracy: 0.1008 - val_loss: 48.8351 - val_accuracy: 0.1028\n",
            "Epoch 23/30\n",
            "5991/6000 [============================>.] - ETA: 0s - loss: 55.5739 - accuracy: 0.1026\n",
            "Epoch 23: val_loss did not improve from 32.00902\n",
            "6000/6000 [==============================] - 28s 5ms/step - loss: 55.5688 - accuracy: 0.1026 - val_loss: 49.7298 - val_accuracy: 0.0980\n",
            "Epoch 24/30\n",
            "5997/6000 [============================>.] - ETA: 0s - loss: 55.5842 - accuracy: 0.1012\n",
            "Epoch 24: val_loss did not improve from 32.00902\n",
            "6000/6000 [==============================] - 28s 5ms/step - loss: 55.5854 - accuracy: 0.1012 - val_loss: 50.6936 - val_accuracy: 0.0892\n",
            "Epoch 25/30\n",
            "5989/6000 [============================>.] - ETA: 0s - loss: 55.7307 - accuracy: 0.0987\n",
            "Epoch 25: val_loss did not improve from 32.00902\n",
            "6000/6000 [==============================] - 27s 5ms/step - loss: 55.7203 - accuracy: 0.0987 - val_loss: 61.8782 - val_accuracy: 0.0982\n",
            "Epoch 26/30\n",
            "5996/6000 [============================>.] - ETA: 0s - loss: 55.7507 - accuracy: 0.0980\n",
            "Epoch 26: val_loss did not improve from 32.00902\n",
            "6000/6000 [==============================] - 29s 5ms/step - loss: 55.7475 - accuracy: 0.0980 - val_loss: 38.5081 - val_accuracy: 0.1010\n",
            "Epoch 27/30\n",
            "5990/6000 [============================>.] - ETA: 0s - loss: 55.6116 - accuracy: 0.1005\n",
            "Epoch 27: val_loss did not improve from 32.00902\n",
            "6000/6000 [==============================] - 29s 5ms/step - loss: 55.6102 - accuracy: 0.1006 - val_loss: 46.1004 - val_accuracy: 0.1010\n",
            "Epoch 28/30\n",
            "5992/6000 [============================>.] - ETA: 0s - loss: 55.6750 - accuracy: 0.1003\n",
            "Epoch 28: val_loss did not improve from 32.00902\n",
            "6000/6000 [==============================] - 27s 4ms/step - loss: 55.6645 - accuracy: 0.1004 - val_loss: 60.3585 - val_accuracy: 0.1010\n",
            "Epoch 29/30\n",
            "5995/6000 [============================>.] - ETA: 0s - loss: 55.8425 - accuracy: 0.0985\n",
            "Epoch 29: val_loss did not improve from 32.00902\n",
            "6000/6000 [==============================] - 29s 5ms/step - loss: 55.8298 - accuracy: 0.0986 - val_loss: 55.3510 - val_accuracy: 0.0958\n",
            "Epoch 30/30\n",
            "5996/6000 [============================>.] - ETA: 0s - loss: 55.6138 - accuracy: 0.1007\n",
            "Epoch 30: val_loss did not improve from 32.00902\n",
            "6000/6000 [==============================] - 27s 5ms/step - loss: 55.6169 - accuracy: 0.1007 - val_loss: 42.8501 - val_accuracy: 0.1009\n"
          ]
        },
        {
          "output_type": "execute_result",
          "data": {
            "text/plain": [
              "<keras.src.callbacks.History at 0x7cd72c433c40>"
            ]
          },
          "metadata": {},
          "execution_count": 20
        }
      ]
    },
    {
      "cell_type": "code",
      "source": [
        "experiment.log_model('MNIST1', 'best_model.hdf5')\n",
        "experiment.end()"
      ],
      "metadata": {
        "colab": {
          "base_uri": "https://localhost:8080/"
        },
        "id": "QUyEuyczEF6s",
        "outputId": "6a905343-61c4-4cb2-fa90-c11b2216b503"
      },
      "execution_count": 21,
      "outputs": [
        {
          "output_type": "stream",
          "name": "stderr",
          "text": [
            "\u001b[1;38;5;39mCOMET INFO:\u001b[0m ---------------------------------------------------------------------------------------\n",
            "\u001b[1;38;5;39mCOMET INFO:\u001b[0m Comet.ml Experiment Summary\n",
            "\u001b[1;38;5;39mCOMET INFO:\u001b[0m ---------------------------------------------------------------------------------------\n",
            "\u001b[1;38;5;39mCOMET INFO:\u001b[0m   Data:\n",
            "\u001b[1;38;5;39mCOMET INFO:\u001b[0m     display_summary_level : 1\n",
            "\u001b[1;38;5;39mCOMET INFO:\u001b[0m     url                   : https://www.comet.com/gurumasterahb/tarea-03/c4859157f91b4d25b330da4b251fa055\n",
            "\u001b[1;38;5;39mCOMET INFO:\u001b[0m   Metrics [count] (min, max):\n",
            "\u001b[1;38;5;39mCOMET INFO:\u001b[0m     accuracy [30]                  : (0.09771666675806046, 0.10278332978487015)\n",
            "\u001b[1;38;5;39mCOMET INFO:\u001b[0m     batch_accuracy [18000]         : (0.0, 0.4000000059604645)\n",
            "\u001b[1;38;5;39mCOMET INFO:\u001b[0m     batch_loss [18000]             : (2.5121889114379883, 93.85111236572266)\n",
            "\u001b[1;38;5;39mCOMET INFO:\u001b[0m     epoch_duration [30]            : (26.27716798000006, 30.845775239999966)\n",
            "\u001b[1;38;5;39mCOMET INFO:\u001b[0m     loss [30]                      : (55.5382194519043, 55.85319137573242)\n",
            "\u001b[1;38;5;39mCOMET INFO:\u001b[0m     val_accuracy [30]              : (0.08919999748468399, 0.10279999673366547)\n",
            "\u001b[1;38;5;39mCOMET INFO:\u001b[0m     val_loss [30]                  : (32.00901794433594, 85.40594482421875)\n",
            "\u001b[1;38;5;39mCOMET INFO:\u001b[0m     validate_batch_accuracy [3000] : (0.0, 0.20000000298023224)\n",
            "\u001b[1;38;5;39mCOMET INFO:\u001b[0m     validate_batch_loss [3000]     : (30.111719131469727, 96.69462585449219)\n",
            "\u001b[1;38;5;39mCOMET INFO:\u001b[0m   Others:\n",
            "\u001b[1;38;5;39mCOMET INFO:\u001b[0m     Name             : Prueba 02\n",
            "\u001b[1;38;5;39mCOMET INFO:\u001b[0m     trainable_params : 639300\n",
            "\u001b[1;38;5;39mCOMET INFO:\u001b[0m   Parameters:\n",
            "\u001b[1;38;5;39mCOMET INFO:\u001b[0m     RMSprop_centered                : False\n",
            "\u001b[1;38;5;39mCOMET INFO:\u001b[0m     RMSprop_clipnorm                : 1\n",
            "\u001b[1;38;5;39mCOMET INFO:\u001b[0m     RMSprop_clipvalue               : 1\n",
            "\u001b[1;38;5;39mCOMET INFO:\u001b[0m     RMSprop_ema_momentum            : 0.99\n",
            "\u001b[1;38;5;39mCOMET INFO:\u001b[0m     RMSprop_ema_overwrite_frequency : 100\n",
            "\u001b[1;38;5;39mCOMET INFO:\u001b[0m     RMSprop_epsilon                 : 1e-07\n",
            "\u001b[1;38;5;39mCOMET INFO:\u001b[0m     RMSprop_global_clipnorm         : 1\n",
            "\u001b[1;38;5;39mCOMET INFO:\u001b[0m     RMSprop_is_legacy_optimizer     : False\n",
            "\u001b[1;38;5;39mCOMET INFO:\u001b[0m     RMSprop_jit_compile             : False\n",
            "\u001b[1;38;5;39mCOMET INFO:\u001b[0m     RMSprop_learning_rate           : 3.0\n",
            "\u001b[1;38;5;39mCOMET INFO:\u001b[0m     RMSprop_momentum                : 0.0\n",
            "\u001b[1;38;5;39mCOMET INFO:\u001b[0m     RMSprop_name                    : RMSprop\n",
            "\u001b[1;38;5;39mCOMET INFO:\u001b[0m     RMSprop_rho                     : 0.9\n",
            "\u001b[1;38;5;39mCOMET INFO:\u001b[0m     RMSprop_use_ema                 : False\n",
            "\u001b[1;38;5;39mCOMET INFO:\u001b[0m     RMSprop_weight_decay            : 1\n",
            "\u001b[1;38;5;39mCOMET INFO:\u001b[0m     batch_size                      : 10\n",
            "\u001b[1;38;5;39mCOMET INFO:\u001b[0m     epochs                          : 30\n",
            "\u001b[1;38;5;39mCOMET INFO:\u001b[0m     learning_rate                   : 0.01\n",
            "\u001b[1;38;5;39mCOMET INFO:\u001b[0m     loss                            : categorical_crossentropy\n",
            "\u001b[1;38;5;39mCOMET INFO:\u001b[0m     steps                           : 6000\n",
            "\u001b[1;38;5;39mCOMET INFO:\u001b[0m   Uploads:\n",
            "\u001b[1;38;5;39mCOMET INFO:\u001b[0m     environment details : 1\n",
            "\u001b[1;38;5;39mCOMET INFO:\u001b[0m     filename            : 1\n",
            "\u001b[1;38;5;39mCOMET INFO:\u001b[0m     histogram3d         : 279\n",
            "\u001b[1;38;5;39mCOMET INFO:\u001b[0m     installed packages  : 1\n",
            "\u001b[1;38;5;39mCOMET INFO:\u001b[0m     model graph         : 1\n",
            "\u001b[1;38;5;39mCOMET INFO:\u001b[0m     model-element       : 1 (4.90 MB)\n",
            "\u001b[1;38;5;39mCOMET INFO:\u001b[0m     notebook            : 2\n",
            "\u001b[1;38;5;39mCOMET INFO:\u001b[0m     os packages         : 1\n",
            "\u001b[1;38;5;39mCOMET INFO:\u001b[0m     source_code         : 1\n",
            "\u001b[1;38;5;39mCOMET INFO:\u001b[0m \n",
            "\u001b[1;38;5;39mCOMET INFO:\u001b[0m Uploading 1 metrics, params and output messages\n"
          ]
        }
      ]
    }
  ]
}