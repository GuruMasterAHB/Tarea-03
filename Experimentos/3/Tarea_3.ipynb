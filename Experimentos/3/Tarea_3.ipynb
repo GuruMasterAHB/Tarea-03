{
  "nbformat": 4,
  "nbformat_minor": 0,
  "metadata": {
    "colab": {
      "provenance": []
    },
    "kernelspec": {
      "name": "python3",
      "display_name": "Python 3"
    },
    "language_info": {
      "name": "python"
    }
  },
  "cells": [
    {
      "cell_type": "code",
      "execution_count": 51,
      "metadata": {
        "id": "PLwl1LzBl3A5"
      },
      "outputs": [],
      "source": [
        "# Para llevar un registro de los cambios\n",
        "%pip install -q comet_ml\n",
        "import comet_ml\n",
        "comet_ml.init(project_name='Tarea 03')"
      ]
    },
    {
      "cell_type": "code",
      "source": [
        "# Librerías\n",
        "import tensorflow as tf\n",
        "from tensorflow import keras\n",
        "from tensorflow.keras.datasets import mnist\n",
        "from tensorflow.keras.models import Sequential\n",
        "from tensorflow.keras.layers import Dense, Dropout, Activation, Flatten, Input\n",
        "from tensorflow.keras.optimizers import RMSprop, SGD\n",
        "from tensorflow.keras import regularizers\n",
        "from keras.callbacks import ModelCheckpoint"
      ],
      "metadata": {
        "id": "khfjh-UbkyZX"
      },
      "execution_count": 52,
      "outputs": []
    },
    {
      "cell_type": "code",
      "source": [
        "experiment = comet_ml.Experiment(\n",
        "    auto_histogram_weight_logging=True,\n",
        "    auto_histogram_gradient_logging=True,\n",
        "    auto_histogram_activation_logging=True,\n",
        "    log_code=True,\n",
        ")\n",
        "experiment.set_name(\"Prueba 03.4\")"
      ],
      "metadata": {
        "colab": {
          "base_uri": "https://localhost:8080/"
        },
        "id": "3u9sQxMLsAst",
        "outputId": "af463661-ec96-42f7-880a-8fa7864a54d6"
      },
      "execution_count": 53,
      "outputs": [
        {
          "output_type": "stream",
          "name": "stderr",
          "text": [
            "\u001b[1;38;5;39mCOMET INFO:\u001b[0m ---------------------------------------------------------------------------------------\n",
            "\u001b[1;38;5;39mCOMET INFO:\u001b[0m Comet.ml Experiment Summary\n",
            "\u001b[1;38;5;39mCOMET INFO:\u001b[0m ---------------------------------------------------------------------------------------\n",
            "\u001b[1;38;5;39mCOMET INFO:\u001b[0m   Data:\n",
            "\u001b[1;38;5;39mCOMET INFO:\u001b[0m     display_summary_level : 1\n",
            "\u001b[1;38;5;39mCOMET INFO:\u001b[0m     url                   : https://www.comet.com/gurumasterahb/tarea-03/4d46973aed3641daaf5c38a9134319ce\n",
            "\u001b[1;38;5;39mCOMET INFO:\u001b[0m   Others:\n",
            "\u001b[1;38;5;39mCOMET INFO:\u001b[0m     Name : Prueba 03.4\n",
            "\u001b[1;38;5;39mCOMET INFO:\u001b[0m   Parameters:\n",
            "\u001b[1;38;5;39mCOMET INFO:\u001b[0m     batch_size    : 15\n",
            "\u001b[1;38;5;39mCOMET INFO:\u001b[0m     epochs        : 30\n",
            "\u001b[1;38;5;39mCOMET INFO:\u001b[0m     learning_rate : 0.01\n",
            "\u001b[1;38;5;39mCOMET INFO:\u001b[0m     loss          : categorical_crossentropy\n",
            "\u001b[1;38;5;39mCOMET INFO:\u001b[0m     optimizer     : adam\n",
            "\u001b[1;38;5;39mCOMET INFO:\u001b[0m   Uploads:\n",
            "\u001b[1;38;5;39mCOMET INFO:\u001b[0m     environment details : 1\n",
            "\u001b[1;38;5;39mCOMET INFO:\u001b[0m     filename            : 1\n",
            "\u001b[1;38;5;39mCOMET INFO:\u001b[0m     installed packages  : 1\n",
            "\u001b[1;38;5;39mCOMET INFO:\u001b[0m     notebook            : 2\n",
            "\u001b[1;38;5;39mCOMET INFO:\u001b[0m     os packages         : 1\n",
            "\u001b[1;38;5;39mCOMET INFO:\u001b[0m     source_code         : 1\n",
            "\u001b[1;38;5;39mCOMET INFO:\u001b[0m \n",
            "\u001b[1;38;5;214mCOMET WARNING:\u001b[0m As you are running in a Jupyter environment, you will need to call `experiment.end()` when finished to ensure all metrics and code are logged before exiting.\n",
            "\u001b[1;38;5;39mCOMET INFO:\u001b[0m Couldn't find a Git repository in '/content' nor in any parent directory. Set `COMET_GIT_DIRECTORY` if your Git Repository is elsewhere.\n",
            "\u001b[1;38;5;39mCOMET INFO:\u001b[0m Experiment is live on comet.com https://www.comet.com/gurumasterahb/tarea-03/1dc758845865416ba0a43984586592dc\n",
            "\n"
          ]
        }
      ]
    },
    {
      "cell_type": "code",
      "source": [
        "# Carga el dataset de MNIST\n",
        "(x_train, y_train), (x_test, y_test) = mnist.load_data()"
      ],
      "metadata": {
        "id": "5GhobFrzsKp0"
      },
      "execution_count": 54,
      "outputs": []
    },
    {
      "cell_type": "code",
      "source": [
        "# Convierte y normaliza los datos de entrada\n",
        "x_train = x_train.astype('float32')\n",
        "x_test = x_test.astype('float32')\n",
        "x_train /= 255\n",
        "x_test /= 255"
      ],
      "metadata": {
        "id": "7GpqRRmGuDve"
      },
      "execution_count": 55,
      "outputs": []
    },
    {
      "cell_type": "code",
      "source": [
        "# to_categorical convierte las etiquetas (train, test) en matrices one-hot\n",
        "num_classes = 10\n",
        "y_trainc = keras.utils.to_categorical(y_train, num_classes)\n",
        "y_testc = keras.utils.to_categorical(y_test, num_classes)"
      ],
      "metadata": {
        "id": "K0df0m67vFHQ"
      },
      "execution_count": 56,
      "outputs": []
    },
    {
      "cell_type": "code",
      "source": [
        "  # Diccionario con los parámetros que se registrarán en comet\n",
        "  parameters = {\n",
        "      'epochs' : 30,                                                            # 10 épocas menos\n",
        "      'batch_size' : 15,\n",
        "      'learning_rate' : 0.010,\n",
        "      'loss' : 'categorical_crossentropy',\n",
        "      'optimizer' : 'adam'\n",
        "  }\n",
        "  experiment.log_parameters(parameters)"
      ],
      "metadata": {
        "id": "Nt6SR_7Cv-8g"
      },
      "execution_count": 57,
      "outputs": []
    },
    {
      "cell_type": "code",
      "source": [
        "# Creación del modelo\n",
        "model = Sequential()\n",
        "# Es como una \"primera capa\" de tres capas\n",
        "model.add(Input(shape = (28,28))) # Matrices de entrada de 28x28 (imáegenes)\n",
        "model.add(Flatten()) # Convierte las matrices de 28x28 en matrices de 784x1\n",
        "model.add(Dense(784, activation = 'sigmoid'))                                   # ya estaba\n",
        "model.add(Dropout(0.5))                                                         # ya estaba\n",
        "model.add(Dense(500, activation = 'relu'))\n",
        "model.add(Dropout(0.2))\n",
        "model.add(Dense(500, activation = 'relu'))\n",
        "model.add(Dropout(0.4))\n",
        "model.add(Dense(200, activation = 'elu'))\n",
        "model.add(Dense(100, activation = 'relu')) # Segunda capa                       # cambio de 30 a 100 neuronas\n",
        "model.add(Dense(10, activation = 'softmax')) # Tercera capa\n",
        "\n",
        "model.summary()"
      ],
      "metadata": {
        "colab": {
          "base_uri": "https://localhost:8080/"
        },
        "id": "AP1jXJ7Mx5N2",
        "outputId": "03d78d34-9f03-45d3-9850-970c5c77fe8a"
      },
      "execution_count": 58,
      "outputs": [
        {
          "output_type": "stream",
          "name": "stdout",
          "text": [
            "Model: \"sequential_5\"\n",
            "_________________________________________________________________\n",
            " Layer (type)                Output Shape              Param #   \n",
            "=================================================================\n",
            " flatten_5 (Flatten)         (None, 784)               0         \n",
            "                                                                 \n",
            " dense_15 (Dense)            (None, 784)               615440    \n",
            "                                                                 \n",
            " dropout_7 (Dropout)         (None, 784)               0         \n",
            "                                                                 \n",
            " dense_16 (Dense)            (None, 500)               392500    \n",
            "                                                                 \n",
            " dropout_8 (Dropout)         (None, 500)               0         \n",
            "                                                                 \n",
            " dense_17 (Dense)            (None, 500)               250500    \n",
            "                                                                 \n",
            " dropout_9 (Dropout)         (None, 500)               0         \n",
            "                                                                 \n",
            " dense_18 (Dense)            (None, 200)               100200    \n",
            "                                                                 \n",
            " dense_19 (Dense)            (None, 100)               20100     \n",
            "                                                                 \n",
            " dense_20 (Dense)            (None, 10)                1010      \n",
            "                                                                 \n",
            "=================================================================\n",
            "Total params: 1379750 (5.26 MB)\n",
            "Trainable params: 1379750 (5.26 MB)\n",
            "Non-trainable params: 0 (0.00 Byte)\n",
            "_________________________________________________________________\n"
          ]
        }
      ]
    },
    {
      "cell_type": "code",
      "source": [
        "# Checkpoint que guarda el mejor modelo (cuando la función de costo alcanza un mínimo)\n",
        "checkpoint = ModelCheckpoint(filepath = 'best_model.hdf5', monitor = 'val_loss', verbose = 1, save_best_only = True, mode = 'min')"
      ],
      "metadata": {
        "id": "6X-WyYYzBjQI"
      },
      "execution_count": 59,
      "outputs": []
    },
    {
      "cell_type": "code",
      "source": [
        "# optimizer = RMSprop(learning_rate = 0.0005)\n",
        "optimizer = 'adam'\n",
        "model.compile(loss = parameters['loss'], optimizer = optimizer, metrics = ['accuracy'])\n",
        "model.fit(x_train, y_trainc, batch_size = parameters['batch_size'], epochs = parameters['epochs'], verbose = 1, validation_data = (x_test, y_testc), callbacks = [checkpoint])"
      ],
      "metadata": {
        "colab": {
          "base_uri": "https://localhost:8080/"
        },
        "id": "tI9RGkPFCLSH",
        "outputId": "19b1cfa4-483f-4010-b8a4-04f79677991f"
      },
      "execution_count": 60,
      "outputs": [
        {
          "output_type": "stream",
          "name": "stdout",
          "text": [
            "Epoch 1/30\n",
            "3999/4000 [============================>.] - ETA: 0s - loss: 0.4358 - accuracy: 0.8603\n",
            "Epoch 1: val_loss improved from inf to 0.16606, saving model to best_model.hdf5\n"
          ]
        },
        {
          "output_type": "stream",
          "name": "stderr",
          "text": [
            "/usr/local/lib/python3.10/dist-packages/keras/src/engine/training.py:3000: UserWarning: You are saving your model as an HDF5 file via `model.save()`. This file format is considered legacy. We recommend using instead the native Keras format, e.g. `model.save('my_model.keras')`.\n",
            "  saving_api.save_model(\n"
          ]
        },
        {
          "output_type": "stream",
          "name": "stdout",
          "text": [
            "\b\b\b\b\b\b\b\b\b\b\b\b\b\b\b\b\b\b\b\b\b\b\b\b\b\b\b\b\b\b\b\b\b\b\b\b\b\b\b\b\b\b\b\b\b\b\b\b\b\b\b\b\b\b\b\b\b\b\b\b\b\b\b\b\b\b\b\b\b\b\b\b\b\b\b\b\b\b\b\b\b\b\b\b\b\b\r4000/4000 [==============================] - 72s 18ms/step - loss: 0.4357 - accuracy: 0.8604 - val_loss: 0.1661 - val_accuracy: 0.9530\n",
            "Epoch 2/30\n",
            "4000/4000 [==============================] - ETA: 0s - loss: 0.2039 - accuracy: 0.9418\n",
            "Epoch 2: val_loss improved from 0.16606 to 0.12246, saving model to best_model.hdf5\n",
            "4000/4000 [==============================] - 66s 17ms/step - loss: 0.2039 - accuracy: 0.9418 - val_loss: 0.1225 - val_accuracy: 0.9660\n",
            "Epoch 3/30\n",
            "4000/4000 [==============================] - ETA: 0s - loss: 0.1622 - accuracy: 0.9545\n",
            "Epoch 3: val_loss improved from 0.12246 to 0.10829, saving model to best_model.hdf5\n",
            "4000/4000 [==============================] - 64s 16ms/step - loss: 0.1622 - accuracy: 0.9545 - val_loss: 0.1083 - val_accuracy: 0.9690\n",
            "Epoch 4/30\n",
            "3998/4000 [============================>.] - ETA: 0s - loss: 0.1366 - accuracy: 0.9623\n",
            "Epoch 4: val_loss improved from 0.10829 to 0.10553, saving model to best_model.hdf5\n",
            "4000/4000 [==============================] - 66s 16ms/step - loss: 0.1366 - accuracy: 0.9623 - val_loss: 0.1055 - val_accuracy: 0.9707\n",
            "Epoch 5/30\n",
            "3999/4000 [============================>.] - ETA: 0s - loss: 0.1238 - accuracy: 0.9668\n",
            "Epoch 5: val_loss improved from 0.10553 to 0.10424, saving model to best_model.hdf5\n",
            "4000/4000 [==============================] - 65s 16ms/step - loss: 0.1239 - accuracy: 0.9668 - val_loss: 0.1042 - val_accuracy: 0.9745\n",
            "Epoch 6/30\n",
            "3999/4000 [============================>.] - ETA: 0s - loss: 0.1106 - accuracy: 0.9697\n",
            "Epoch 6: val_loss improved from 0.10424 to 0.09298, saving model to best_model.hdf5\n",
            "4000/4000 [==============================] - 67s 17ms/step - loss: 0.1106 - accuracy: 0.9697 - val_loss: 0.0930 - val_accuracy: 0.9766\n",
            "Epoch 7/30\n",
            "3998/4000 [============================>.] - ETA: 0s - loss: 0.1044 - accuracy: 0.9721\n",
            "Epoch 7: val_loss improved from 0.09298 to 0.08660, saving model to best_model.hdf5\n",
            "4000/4000 [==============================] - 69s 17ms/step - loss: 0.1044 - accuracy: 0.9721 - val_loss: 0.0866 - val_accuracy: 0.9779\n",
            "Epoch 8/30\n",
            "3999/4000 [============================>.] - ETA: 0s - loss: 0.0953 - accuracy: 0.9749\n",
            "Epoch 8: val_loss improved from 0.08660 to 0.07597, saving model to best_model.hdf5\n",
            "4000/4000 [==============================] - 66s 16ms/step - loss: 0.0953 - accuracy: 0.9749 - val_loss: 0.0760 - val_accuracy: 0.9788\n",
            "Epoch 9/30\n",
            "3999/4000 [============================>.] - ETA: 0s - loss: 0.0894 - accuracy: 0.9765\n",
            "Epoch 9: val_loss did not improve from 0.07597\n",
            "4000/4000 [==============================] - 66s 16ms/step - loss: 0.0894 - accuracy: 0.9765 - val_loss: 0.1006 - val_accuracy: 0.9779\n",
            "Epoch 10/30\n",
            "3999/4000 [============================>.] - ETA: 0s - loss: 0.0836 - accuracy: 0.9781\n",
            "Epoch 10: val_loss did not improve from 0.07597\n",
            "4000/4000 [==============================] - 67s 17ms/step - loss: 0.0837 - accuracy: 0.9781 - val_loss: 0.0821 - val_accuracy: 0.9784\n",
            "Epoch 11/30\n",
            "3998/4000 [============================>.] - ETA: 0s - loss: 0.0823 - accuracy: 0.9794\n",
            "Epoch 11: val_loss did not improve from 0.07597\n",
            "4000/4000 [==============================] - 66s 16ms/step - loss: 0.0822 - accuracy: 0.9794 - val_loss: 0.0784 - val_accuracy: 0.9816\n",
            "Epoch 12/30\n",
            "4000/4000 [==============================] - ETA: 0s - loss: 0.0757 - accuracy: 0.9804\n",
            "Epoch 12: val_loss did not improve from 0.07597\n",
            "4000/4000 [==============================] - 65s 16ms/step - loss: 0.0757 - accuracy: 0.9804 - val_loss: 0.0827 - val_accuracy: 0.9817\n",
            "Epoch 13/30\n",
            "3999/4000 [============================>.] - ETA: 0s - loss: 0.0761 - accuracy: 0.9810\n",
            "Epoch 13: val_loss did not improve from 0.07597\n",
            "4000/4000 [==============================] - 64s 16ms/step - loss: 0.0761 - accuracy: 0.9811 - val_loss: 0.0905 - val_accuracy: 0.9801\n",
            "Epoch 14/30\n",
            "3998/4000 [============================>.] - ETA: 0s - loss: 0.0742 - accuracy: 0.9811\n",
            "Epoch 14: val_loss did not improve from 0.07597\n",
            "4000/4000 [==============================] - 66s 16ms/step - loss: 0.0742 - accuracy: 0.9811 - val_loss: 0.0777 - val_accuracy: 0.9818\n",
            "Epoch 15/30\n",
            "3998/4000 [============================>.] - ETA: 0s - loss: 0.0694 - accuracy: 0.9824\n",
            "Epoch 15: val_loss did not improve from 0.07597\n",
            "4000/4000 [==============================] - 66s 17ms/step - loss: 0.0694 - accuracy: 0.9824 - val_loss: 0.0850 - val_accuracy: 0.9812\n",
            "Epoch 16/30\n",
            "3999/4000 [============================>.] - ETA: 0s - loss: 0.0667 - accuracy: 0.9835\n",
            "Epoch 16: val_loss did not improve from 0.07597\n",
            "4000/4000 [==============================] - 68s 17ms/step - loss: 0.0667 - accuracy: 0.9835 - val_loss: 0.0962 - val_accuracy: 0.9804\n",
            "Epoch 17/30\n",
            "4000/4000 [==============================] - ETA: 0s - loss: 0.0646 - accuracy: 0.9840\n",
            "Epoch 17: val_loss did not improve from 0.07597\n",
            "4000/4000 [==============================] - 68s 17ms/step - loss: 0.0646 - accuracy: 0.9840 - val_loss: 0.0784 - val_accuracy: 0.9823\n",
            "Epoch 18/30\n",
            "3998/4000 [============================>.] - ETA: 0s - loss: 0.0670 - accuracy: 0.9839\n",
            "Epoch 18: val_loss did not improve from 0.07597\n",
            "4000/4000 [==============================] - 69s 17ms/step - loss: 0.0669 - accuracy: 0.9839 - val_loss: 0.0951 - val_accuracy: 0.9799\n",
            "Epoch 19/30\n",
            "3998/4000 [============================>.] - ETA: 0s - loss: 0.0668 - accuracy: 0.9849\n",
            "Epoch 19: val_loss did not improve from 0.07597\n",
            "4000/4000 [==============================] - 67s 17ms/step - loss: 0.0669 - accuracy: 0.9849 - val_loss: 0.0805 - val_accuracy: 0.9822\n",
            "Epoch 20/30\n",
            "3999/4000 [============================>.] - ETA: 0s - loss: 0.0622 - accuracy: 0.9858\n",
            "Epoch 20: val_loss did not improve from 0.07597\n",
            "4000/4000 [==============================] - 68s 17ms/step - loss: 0.0622 - accuracy: 0.9858 - val_loss: 0.0837 - val_accuracy: 0.9825\n",
            "Epoch 21/30\n",
            "3997/4000 [============================>.] - ETA: 0s - loss: 0.0567 - accuracy: 0.9859\n",
            "Epoch 21: val_loss did not improve from 0.07597\n",
            "4000/4000 [==============================] - 68s 17ms/step - loss: 0.0567 - accuracy: 0.9859 - val_loss: 0.0857 - val_accuracy: 0.9836\n",
            "Epoch 22/30\n",
            "3997/4000 [============================>.] - ETA: 0s - loss: 0.0591 - accuracy: 0.9866\n",
            "Epoch 22: val_loss improved from 0.07597 to 0.07360, saving model to best_model.hdf5\n",
            "4000/4000 [==============================] - 68s 17ms/step - loss: 0.0591 - accuracy: 0.9866 - val_loss: 0.0736 - val_accuracy: 0.9831\n",
            "Epoch 23/30\n",
            "3998/4000 [============================>.] - ETA: 0s - loss: 0.0591 - accuracy: 0.9869\n",
            "Epoch 23: val_loss did not improve from 0.07360\n",
            "4000/4000 [==============================] - 68s 17ms/step - loss: 0.0591 - accuracy: 0.9869 - val_loss: 0.0908 - val_accuracy: 0.9826\n",
            "Epoch 24/30\n",
            "3997/4000 [============================>.] - ETA: 0s - loss: 0.0562 - accuracy: 0.9868\n",
            "Epoch 24: val_loss did not improve from 0.07360\n",
            "4000/4000 [==============================] - 68s 17ms/step - loss: 0.0562 - accuracy: 0.9868 - val_loss: 0.1167 - val_accuracy: 0.9828\n",
            "Epoch 25/30\n",
            "4000/4000 [==============================] - ETA: 0s - loss: 0.0560 - accuracy: 0.9872\n",
            "Epoch 25: val_loss did not improve from 0.07360\n",
            "4000/4000 [==============================] - 68s 17ms/step - loss: 0.0560 - accuracy: 0.9872 - val_loss: 0.1025 - val_accuracy: 0.9834\n",
            "Epoch 26/30\n",
            "3997/4000 [============================>.] - ETA: 0s - loss: 0.0595 - accuracy: 0.9871\n",
            "Epoch 26: val_loss did not improve from 0.07360\n",
            "4000/4000 [==============================] - 68s 17ms/step - loss: 0.0595 - accuracy: 0.9871 - val_loss: 0.0885 - val_accuracy: 0.9844\n",
            "Epoch 27/30\n",
            "3998/4000 [============================>.] - ETA: 0s - loss: 0.0560 - accuracy: 0.9879\n",
            "Epoch 27: val_loss did not improve from 0.07360\n",
            "4000/4000 [==============================] - 69s 17ms/step - loss: 0.0559 - accuracy: 0.9879 - val_loss: 0.1219 - val_accuracy: 0.9826\n",
            "Epoch 28/30\n",
            "4000/4000 [==============================] - ETA: 0s - loss: 0.0551 - accuracy: 0.9878\n",
            "Epoch 28: val_loss did not improve from 0.07360\n",
            "4000/4000 [==============================] - 67s 17ms/step - loss: 0.0551 - accuracy: 0.9878 - val_loss: 0.1043 - val_accuracy: 0.9844\n",
            "Epoch 29/30\n",
            "3999/4000 [============================>.] - ETA: 0s - loss: 0.0566 - accuracy: 0.9883\n",
            "Epoch 29: val_loss did not improve from 0.07360\n",
            "4000/4000 [==============================] - 68s 17ms/step - loss: 0.0566 - accuracy: 0.9883 - val_loss: 0.1250 - val_accuracy: 0.9824\n",
            "Epoch 30/30\n",
            "3998/4000 [============================>.] - ETA: 0s - loss: 0.0593 - accuracy: 0.9876\n",
            "Epoch 30: val_loss did not improve from 0.07360\n",
            "4000/4000 [==============================] - 72s 18ms/step - loss: 0.0594 - accuracy: 0.9876 - val_loss: 0.0917 - val_accuracy: 0.9840\n"
          ]
        },
        {
          "output_type": "execute_result",
          "data": {
            "text/plain": [
              "<keras.src.callbacks.History at 0x7cba15645120>"
            ]
          },
          "metadata": {},
          "execution_count": 60
        }
      ]
    },
    {
      "cell_type": "code",
      "source": [
        "experiment.log_model('MNIST1', 'best_model.hdf5')\n",
        "experiment.end()"
      ],
      "metadata": {
        "colab": {
          "base_uri": "https://localhost:8080/"
        },
        "id": "QUyEuyczEF6s",
        "outputId": "f9ea59ab-ec27-43bf-f95f-cf2fbc7d66e6"
      },
      "execution_count": 61,
      "outputs": [
        {
          "output_type": "stream",
          "name": "stderr",
          "text": [
            "\u001b[1;38;5;39mCOMET INFO:\u001b[0m ---------------------------------------------------------------------------------------\n",
            "\u001b[1;38;5;39mCOMET INFO:\u001b[0m Comet.ml Experiment Summary\n",
            "\u001b[1;38;5;39mCOMET INFO:\u001b[0m ---------------------------------------------------------------------------------------\n",
            "\u001b[1;38;5;39mCOMET INFO:\u001b[0m   Data:\n",
            "\u001b[1;38;5;39mCOMET INFO:\u001b[0m     display_summary_level : 1\n",
            "\u001b[1;38;5;39mCOMET INFO:\u001b[0m     url                   : https://www.comet.com/gurumasterahb/tarea-03/1dc758845865416ba0a43984586592dc\n",
            "\u001b[1;38;5;39mCOMET INFO:\u001b[0m   Metrics [count] (min, max):\n",
            "\u001b[1;38;5;39mCOMET INFO:\u001b[0m     accuracy [30]                  : (0.8603833317756653, 0.98826664686203)\n",
            "\u001b[1;38;5;39mCOMET INFO:\u001b[0m     batch_accuracy [12000]         : (0.0, 1.0)\n",
            "\u001b[1;38;5;39mCOMET INFO:\u001b[0m     batch_loss [12000]             : (7.40229879738763e-05, 2.5300133228302)\n",
            "\u001b[1;38;5;39mCOMET INFO:\u001b[0m     epoch_duration [30]            : (63.97844239799997, 73.10252708100052)\n",
            "\u001b[1;38;5;39mCOMET INFO:\u001b[0m     loss [30]                      : (0.05506934970617294, 0.4357285499572754)\n",
            "\u001b[1;38;5;39mCOMET INFO:\u001b[0m     val_accuracy [30]              : (0.953000009059906, 0.9843999743461609)\n",
            "\u001b[1;38;5;39mCOMET INFO:\u001b[0m     val_loss [30]                  : (0.07359679043292999, 0.16605542600154877)\n",
            "\u001b[1;38;5;39mCOMET INFO:\u001b[0m     validate_batch_accuracy [2010] : (0.9333333373069763, 1.0)\n",
            "\u001b[1;38;5;39mCOMET INFO:\u001b[0m     validate_batch_loss [2010]     : (4.076654295204207e-05, 0.27822205424308777)\n",
            "\u001b[1;38;5;39mCOMET INFO:\u001b[0m   Others:\n",
            "\u001b[1;38;5;39mCOMET INFO:\u001b[0m     Name             : Prueba 03.4\n",
            "\u001b[1;38;5;39mCOMET INFO:\u001b[0m     trainable_params : 1379750\n",
            "\u001b[1;38;5;39mCOMET INFO:\u001b[0m   Parameters:\n",
            "\u001b[1;38;5;39mCOMET INFO:\u001b[0m     Adam_amsgrad                 : False\n",
            "\u001b[1;38;5;39mCOMET INFO:\u001b[0m     Adam_beta_1                  : 0.9\n",
            "\u001b[1;38;5;39mCOMET INFO:\u001b[0m     Adam_beta_2                  : 0.999\n",
            "\u001b[1;38;5;39mCOMET INFO:\u001b[0m     Adam_clipnorm                : 1\n",
            "\u001b[1;38;5;39mCOMET INFO:\u001b[0m     Adam_clipvalue               : 1\n",
            "\u001b[1;38;5;39mCOMET INFO:\u001b[0m     Adam_ema_momentum            : 0.99\n",
            "\u001b[1;38;5;39mCOMET INFO:\u001b[0m     Adam_ema_overwrite_frequency : 1\n",
            "\u001b[1;38;5;39mCOMET INFO:\u001b[0m     Adam_epsilon                 : 1e-07\n",
            "\u001b[1;38;5;39mCOMET INFO:\u001b[0m     Adam_global_clipnorm         : 1\n",
            "\u001b[1;38;5;39mCOMET INFO:\u001b[0m     Adam_is_legacy_optimizer     : False\n",
            "\u001b[1;38;5;39mCOMET INFO:\u001b[0m     Adam_jit_compile             : False\n",
            "\u001b[1;38;5;39mCOMET INFO:\u001b[0m     Adam_learning_rate           : 0.0010000000474974513\n",
            "\u001b[1;38;5;39mCOMET INFO:\u001b[0m     Adam_name                    : Adam\n",
            "\u001b[1;38;5;39mCOMET INFO:\u001b[0m     Adam_use_ema                 : False\n",
            "\u001b[1;38;5;39mCOMET INFO:\u001b[0m     Adam_weight_decay            : 1\n",
            "\u001b[1;38;5;39mCOMET INFO:\u001b[0m     batch_size                   : 15\n",
            "\u001b[1;38;5;39mCOMET INFO:\u001b[0m     epochs                       : 30\n",
            "\u001b[1;38;5;39mCOMET INFO:\u001b[0m     learning_rate                : 0.01\n",
            "\u001b[1;38;5;39mCOMET INFO:\u001b[0m     loss                         : categorical_crossentropy\n",
            "\u001b[1;38;5;39mCOMET INFO:\u001b[0m     optimizer                    : adam\n",
            "\u001b[1;38;5;39mCOMET INFO:\u001b[0m     steps                        : 4000\n",
            "\u001b[1;38;5;39mCOMET INFO:\u001b[0m   Uploads:\n",
            "\u001b[1;38;5;39mCOMET INFO:\u001b[0m     environment details : 1\n",
            "\u001b[1;38;5;39mCOMET INFO:\u001b[0m     filename            : 1\n",
            "\u001b[1;38;5;39mCOMET INFO:\u001b[0m     histogram3d         : 465\n",
            "\u001b[1;38;5;39mCOMET INFO:\u001b[0m     installed packages  : 1\n",
            "\u001b[1;38;5;39mCOMET INFO:\u001b[0m     model graph         : 1\n",
            "\u001b[1;38;5;39mCOMET INFO:\u001b[0m     model-element       : 1 (15.84 MB)\n",
            "\u001b[1;38;5;39mCOMET INFO:\u001b[0m     notebook            : 2\n",
            "\u001b[1;38;5;39mCOMET INFO:\u001b[0m     os packages         : 1\n",
            "\u001b[1;38;5;39mCOMET INFO:\u001b[0m     source_code         : 1\n",
            "\u001b[1;38;5;39mCOMET INFO:\u001b[0m \n",
            "\u001b[1;38;5;39mCOMET INFO:\u001b[0m Uploading 1 metrics, params and output messages\n"
          ]
        }
      ]
    }
  ]
}