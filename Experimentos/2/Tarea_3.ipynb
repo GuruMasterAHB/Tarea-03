{
  "nbformat": 4,
  "nbformat_minor": 0,
  "metadata": {
    "colab": {
      "provenance": []
    },
    "kernelspec": {
      "name": "python3",
      "display_name": "Python 3"
    },
    "language_info": {
      "name": "python"
    }
  },
  "cells": [
    {
      "cell_type": "code",
      "execution_count": 32,
      "metadata": {
        "id": "PLwl1LzBl3A5"
      },
      "outputs": [],
      "source": [
        "# Para llevar un registro de los cambios\n",
        "%pip install -q comet_ml\n",
        "import comet_ml\n",
        "comet_ml.init(project_name='Tarea 03')"
      ]
    },
    {
      "cell_type": "code",
      "source": [
        "# Librerías\n",
        "import tensorflow as tf\n",
        "from tensorflow import keras\n",
        "from tensorflow.keras.datasets import mnist\n",
        "from tensorflow.keras.models import Sequential\n",
        "from tensorflow.keras.layers import Dense, Dropout, Activation, Flatten, Input\n",
        "from tensorflow.keras.optimizers import RMSprop, SGD\n",
        "from tensorflow.keras import regularizers\n",
        "from keras.callbacks import ModelCheckpoint"
      ],
      "metadata": {
        "id": "khfjh-UbkyZX"
      },
      "execution_count": 33,
      "outputs": []
    },
    {
      "cell_type": "code",
      "source": [
        "experiment = comet_ml.Experiment(\n",
        "    auto_histogram_weight_logging=True,\n",
        "    auto_histogram_gradient_logging=True,\n",
        "    auto_histogram_activation_logging=True,\n",
        "    log_code=True,\n",
        ")\n",
        "experiment.set_name(\"Prueba 03.3\")"
      ],
      "metadata": {
        "colab": {
          "base_uri": "https://localhost:8080/"
        },
        "id": "3u9sQxMLsAst",
        "outputId": "03a62966-67b4-49b6-d60d-bedf3cc09715"
      },
      "execution_count": 34,
      "outputs": [
        {
          "output_type": "stream",
          "name": "stderr",
          "text": [
            "\u001b[1;38;5;39mCOMET INFO:\u001b[0m ---------------------------------------------------------------------------------------\n",
            "\u001b[1;38;5;39mCOMET INFO:\u001b[0m Comet.ml Experiment Summary\n",
            "\u001b[1;38;5;39mCOMET INFO:\u001b[0m ---------------------------------------------------------------------------------------\n",
            "\u001b[1;38;5;39mCOMET INFO:\u001b[0m   Data:\n",
            "\u001b[1;38;5;39mCOMET INFO:\u001b[0m     display_summary_level : 1\n",
            "\u001b[1;38;5;39mCOMET INFO:\u001b[0m     url                   : https://www.comet.com/gurumasterahb/tarea-03/ada5eead3c8b4d94bae35248d88deb4b\n",
            "\u001b[1;38;5;39mCOMET INFO:\u001b[0m   Others:\n",
            "\u001b[1;38;5;39mCOMET INFO:\u001b[0m     Name : Prueba 03.3\n",
            "\u001b[1;38;5;39mCOMET INFO:\u001b[0m   Parameters:\n",
            "\u001b[1;38;5;39mCOMET INFO:\u001b[0m     batch_size    : 15\n",
            "\u001b[1;38;5;39mCOMET INFO:\u001b[0m     epochs        : 40\n",
            "\u001b[1;38;5;39mCOMET INFO:\u001b[0m     learning_rate : 0.01\n",
            "\u001b[1;38;5;39mCOMET INFO:\u001b[0m     loss          : categorical_crossentropy\n",
            "\u001b[1;38;5;39mCOMET INFO:\u001b[0m   Uploads:\n",
            "\u001b[1;38;5;39mCOMET INFO:\u001b[0m     environment details : 1\n",
            "\u001b[1;38;5;39mCOMET INFO:\u001b[0m     filename            : 1\n",
            "\u001b[1;38;5;39mCOMET INFO:\u001b[0m     installed packages  : 1\n",
            "\u001b[1;38;5;39mCOMET INFO:\u001b[0m     notebook            : 2\n",
            "\u001b[1;38;5;39mCOMET INFO:\u001b[0m     os packages         : 1\n",
            "\u001b[1;38;5;39mCOMET INFO:\u001b[0m     source_code         : 1\n",
            "\u001b[1;38;5;39mCOMET INFO:\u001b[0m \n",
            "\u001b[1;38;5;214mCOMET WARNING:\u001b[0m As you are running in a Jupyter environment, you will need to call `experiment.end()` when finished to ensure all metrics and code are logged before exiting.\n",
            "\u001b[1;38;5;39mCOMET INFO:\u001b[0m Couldn't find a Git repository in '/content' nor in any parent directory. Set `COMET_GIT_DIRECTORY` if your Git Repository is elsewhere.\n",
            "\u001b[1;38;5;39mCOMET INFO:\u001b[0m Experiment is live on comet.com https://www.comet.com/gurumasterahb/tarea-03/64e3d945115d42b3a08de5c4b3bd2e30\n",
            "\n"
          ]
        }
      ]
    },
    {
      "cell_type": "code",
      "source": [
        "# Carga el dataset de MNIST\n",
        "(x_train, y_train), (x_test, y_test) = mnist.load_data()"
      ],
      "metadata": {
        "id": "5GhobFrzsKp0"
      },
      "execution_count": 35,
      "outputs": []
    },
    {
      "cell_type": "code",
      "source": [
        "# Convierte y normaliza los datos de entrada\n",
        "x_train = x_train.astype('float32')\n",
        "x_test = x_test.astype('float32')\n",
        "x_train /= 255\n",
        "x_test /= 255"
      ],
      "metadata": {
        "id": "7GpqRRmGuDve"
      },
      "execution_count": 36,
      "outputs": []
    },
    {
      "cell_type": "code",
      "source": [
        "# to_categorical convierte las etiquetas (train, test) en matrices one-hot\n",
        "num_classes = 10\n",
        "y_trainc = keras.utils.to_categorical(y_train, num_classes)\n",
        "y_testc = keras.utils.to_categorical(y_test, num_classes)"
      ],
      "metadata": {
        "id": "K0df0m67vFHQ"
      },
      "execution_count": 37,
      "outputs": []
    },
    {
      "cell_type": "code",
      "source": [
        "  # Diccionario con los parámetros que se registrarán en comet\n",
        "  parameters = {\n",
        "      'epochs' : 40,\n",
        "      'batch_size' : 15,\n",
        "      'learning_rate' : 0.010,\n",
        "      'loss' : 'categorical_crossentropy',\n",
        "      'optimizer' : 'adam'\n",
        "  }\n",
        "  experiment.log_parameters(parameters)"
      ],
      "metadata": {
        "id": "Nt6SR_7Cv-8g"
      },
      "execution_count": 38,
      "outputs": []
    },
    {
      "cell_type": "code",
      "source": [
        "# Creación del modelo\n",
        "model = Sequential()\n",
        "# Es como una \"primera capa\" de tres capas\n",
        "model.add(Input(shape = (28,28))) # Matrices de entrada de 28x28 (imáegenes)\n",
        "model.add(Flatten()) # Convierte las matrices de 28x28 en matrices de 784x1\n",
        "model.add(Dense(784, activation = 'sigmoid'))\n",
        "model.add(Dropout(0.5))\n",
        "model.add(Dense(30, activation = 'relu')) # Segunda capa\n",
        "model.add(Dense(10, activation = 'softmax')) # Tercera capa\n",
        "\n",
        "model.summary()"
      ],
      "metadata": {
        "colab": {
          "base_uri": "https://localhost:8080/"
        },
        "id": "AP1jXJ7Mx5N2",
        "outputId": "26b58f42-388e-46d7-d8d6-cccdfa49ab2f"
      },
      "execution_count": 39,
      "outputs": [
        {
          "output_type": "stream",
          "name": "stdout",
          "text": [
            "Model: \"sequential_3\"\n",
            "_________________________________________________________________\n",
            " Layer (type)                Output Shape              Param #   \n",
            "=================================================================\n",
            " flatten_3 (Flatten)         (None, 784)               0         \n",
            "                                                                 \n",
            " dense_9 (Dense)             (None, 784)               615440    \n",
            "                                                                 \n",
            " dropout_3 (Dropout)         (None, 784)               0         \n",
            "                                                                 \n",
            " dense_10 (Dense)            (None, 30)                23550     \n",
            "                                                                 \n",
            " dense_11 (Dense)            (None, 10)                310       \n",
            "                                                                 \n",
            "=================================================================\n",
            "Total params: 639300 (2.44 MB)\n",
            "Trainable params: 639300 (2.44 MB)\n",
            "Non-trainable params: 0 (0.00 Byte)\n",
            "_________________________________________________________________\n"
          ]
        }
      ]
    },
    {
      "cell_type": "code",
      "source": [
        "# Checkpoint que guarda el mejor modelo (cuando la función de costo alcanza un mínimo)\n",
        "checkpoint = ModelCheckpoint(filepath = 'best_model.hdf5', monitor = 'val_loss', verbose = 1, save_best_only = True, mode = 'min')"
      ],
      "metadata": {
        "id": "6X-WyYYzBjQI"
      },
      "execution_count": 40,
      "outputs": []
    },
    {
      "cell_type": "code",
      "source": [
        "# optimizer = RMSprop(learning_rate = 0.0005)\n",
        "optimizer = 'adam'\n",
        "model.compile(loss = parameters['loss'], optimizer = optimizer, metrics = ['accuracy'])\n",
        "model.fit(x_train, y_trainc, batch_size = parameters['batch_size'], epochs = parameters['epochs'], verbose = 1, validation_data = (x_test, y_testc), callbacks = [checkpoint])"
      ],
      "metadata": {
        "colab": {
          "base_uri": "https://localhost:8080/"
        },
        "id": "tI9RGkPFCLSH",
        "outputId": "173a598e-270c-4628-b5dc-778ef7038ea1"
      },
      "execution_count": 41,
      "outputs": [
        {
          "metadata": {
            "tags": null
          },
          "name": "stderr",
          "output_type": "stream",
          "text": [
            "\u001b[1;38;5;39mCOMET INFO:\u001b[0m Ignoring automatic log_parameter('verbose') because 'keras:verbose' is in COMET_LOGGING_PARAMETERS_IGNORE\n"
          ]
        },
        {
          "metadata": {
            "tags": null
          },
          "name": "stdout",
          "output_type": "stream",
          "text": [
            "Epoch 1/40\n",
            "3997/4000 [============================>.] - ETA: 0s - loss: 0.3672 - accuracy: 0.8887\n",
            "Epoch 1: val_loss improved from inf to 0.16772, saving model to best_model.hdf5\n",
            "4000/4000 [==============================] - 41s 10ms/step - loss: 0.3673 - accuracy: 0.8887 - val_loss: 0.1677 - val_accuracy: 0.9491\n",
            "Epoch 2/40\n",
            "   1/4000 [..............................] - ETA: 51s - loss: 0.0245 - accuracy: 1.0000"
          ]
        },
        {
          "metadata": {
            "tags": null
          },
          "name": "stderr",
          "output_type": "stream",
          "text": [
            "/usr/local/lib/python3.10/dist-packages/keras/src/engine/training.py:3000: UserWarning: You are saving your model as an HDF5 file via `model.save()`. This file format is considered legacy. We recommend using instead the native Keras format, e.g. `model.save('my_model.keras')`.\n",
            "  saving_api.save_model(\n"
          ]
        },
        {
          "output_type": "stream",
          "name": "stdout",
          "text": [
            "4000/4000 [==============================] - ETA: 0s - loss: 0.1700 - accuracy: 0.9495\n",
            "Epoch 2: val_loss improved from 0.16772 to 0.11489, saving model to best_model.hdf5\n",
            "4000/4000 [==============================] - 34s 8ms/step - loss: 0.1700 - accuracy: 0.9495 - val_loss: 0.1149 - val_accuracy: 0.9642\n",
            "Epoch 3/40\n",
            "3999/4000 [============================>.] - ETA: 0s - loss: 0.1247 - accuracy: 0.9630\n",
            "Epoch 3: val_loss improved from 0.11489 to 0.09287, saving model to best_model.hdf5\n",
            "4000/4000 [==============================] - 35s 9ms/step - loss: 0.1248 - accuracy: 0.9630 - val_loss: 0.0929 - val_accuracy: 0.9724\n",
            "Epoch 4/40\n",
            "3998/4000 [============================>.] - ETA: 0s - loss: 0.0978 - accuracy: 0.9702\n",
            "Epoch 4: val_loss improved from 0.09287 to 0.08543, saving model to best_model.hdf5\n",
            "4000/4000 [==============================] - 33s 8ms/step - loss: 0.0978 - accuracy: 0.9702 - val_loss: 0.0854 - val_accuracy: 0.9745\n",
            "Epoch 5/40\n",
            "3999/4000 [============================>.] - ETA: 0s - loss: 0.0859 - accuracy: 0.9738\n",
            "Epoch 5: val_loss improved from 0.08543 to 0.06986, saving model to best_model.hdf5\n",
            "4000/4000 [==============================] - 31s 8ms/step - loss: 0.0859 - accuracy: 0.9738 - val_loss: 0.0699 - val_accuracy: 0.9789\n",
            "Epoch 6/40\n",
            "3997/4000 [============================>.] - ETA: 0s - loss: 0.0735 - accuracy: 0.9768\n",
            "Epoch 6: val_loss did not improve from 0.06986\n",
            "4000/4000 [==============================] - 34s 8ms/step - loss: 0.0734 - accuracy: 0.9768 - val_loss: 0.0706 - val_accuracy: 0.9791\n",
            "Epoch 7/40\n",
            "3996/4000 [============================>.] - ETA: 0s - loss: 0.0651 - accuracy: 0.9790\n",
            "Epoch 7: val_loss did not improve from 0.06986\n",
            "4000/4000 [==============================] - 31s 8ms/step - loss: 0.0650 - accuracy: 0.9791 - val_loss: 0.0706 - val_accuracy: 0.9790\n",
            "Epoch 8/40\n",
            "4000/4000 [==============================] - ETA: 0s - loss: 0.0587 - accuracy: 0.9811\n",
            "Epoch 8: val_loss did not improve from 0.06986\n",
            "4000/4000 [==============================] - 31s 8ms/step - loss: 0.0587 - accuracy: 0.9811 - val_loss: 0.0712 - val_accuracy: 0.9810\n",
            "Epoch 9/40\n",
            "3995/4000 [============================>.] - ETA: 0s - loss: 0.0548 - accuracy: 0.9827\n",
            "Epoch 9: val_loss improved from 0.06986 to 0.06441, saving model to best_model.hdf5\n",
            "4000/4000 [==============================] - 34s 8ms/step - loss: 0.0547 - accuracy: 0.9827 - val_loss: 0.0644 - val_accuracy: 0.9828\n",
            "Epoch 10/40\n",
            "3997/4000 [============================>.] - ETA: 0s - loss: 0.0483 - accuracy: 0.9850\n",
            "Epoch 10: val_loss did not improve from 0.06441\n",
            "4000/4000 [==============================] - 32s 8ms/step - loss: 0.0485 - accuracy: 0.9849 - val_loss: 0.0690 - val_accuracy: 0.9800\n",
            "Epoch 11/40\n",
            "3999/4000 [============================>.] - ETA: 0s - loss: 0.0444 - accuracy: 0.9854\n",
            "Epoch 11: val_loss did not improve from 0.06441\n",
            "4000/4000 [==============================] - 33s 8ms/step - loss: 0.0444 - accuracy: 0.9854 - val_loss: 0.0669 - val_accuracy: 0.9816\n",
            "Epoch 12/40\n",
            "3996/4000 [============================>.] - ETA: 0s - loss: 0.0425 - accuracy: 0.9867\n",
            "Epoch 12: val_loss did not improve from 0.06441\n",
            "4000/4000 [==============================] - 32s 8ms/step - loss: 0.0425 - accuracy: 0.9867 - val_loss: 0.0645 - val_accuracy: 0.9822\n",
            "Epoch 13/40\n",
            "3998/4000 [============================>.] - ETA: 0s - loss: 0.0404 - accuracy: 0.9865\n",
            "Epoch 13: val_loss did not improve from 0.06441\n",
            "4000/4000 [==============================] - 34s 8ms/step - loss: 0.0404 - accuracy: 0.9865 - val_loss: 0.0664 - val_accuracy: 0.9826\n",
            "Epoch 14/40\n",
            "3997/4000 [============================>.] - ETA: 0s - loss: 0.0365 - accuracy: 0.9881\n",
            "Epoch 14: val_loss did not improve from 0.06441\n",
            "4000/4000 [==============================] - 32s 8ms/step - loss: 0.0365 - accuracy: 0.9881 - val_loss: 0.0665 - val_accuracy: 0.9824\n",
            "Epoch 15/40\n",
            "3997/4000 [============================>.] - ETA: 0s - loss: 0.0355 - accuracy: 0.9888\n",
            "Epoch 15: val_loss did not improve from 0.06441\n",
            "4000/4000 [==============================] - 34s 9ms/step - loss: 0.0355 - accuracy: 0.9888 - val_loss: 0.0680 - val_accuracy: 0.9830\n",
            "Epoch 16/40\n",
            "3997/4000 [============================>.] - ETA: 0s - loss: 0.0349 - accuracy: 0.9889\n",
            "Epoch 16: val_loss did not improve from 0.06441\n",
            "4000/4000 [==============================] - 33s 8ms/step - loss: 0.0349 - accuracy: 0.9889 - val_loss: 0.0686 - val_accuracy: 0.9829\n",
            "Epoch 17/40\n",
            "3993/4000 [============================>.] - ETA: 0s - loss: 0.0306 - accuracy: 0.9902\n",
            "Epoch 17: val_loss did not improve from 0.06441\n",
            "4000/4000 [==============================] - 33s 8ms/step - loss: 0.0306 - accuracy: 0.9902 - val_loss: 0.0686 - val_accuracy: 0.9836\n",
            "Epoch 18/40\n",
            "3996/4000 [============================>.] - ETA: 0s - loss: 0.0302 - accuracy: 0.9902\n",
            "Epoch 18: val_loss did not improve from 0.06441\n",
            "4000/4000 [==============================] - 33s 8ms/step - loss: 0.0302 - accuracy: 0.9902 - val_loss: 0.0677 - val_accuracy: 0.9833\n",
            "Epoch 19/40\n",
            "3995/4000 [============================>.] - ETA: 0s - loss: 0.0295 - accuracy: 0.9907\n",
            "Epoch 19: val_loss did not improve from 0.06441\n",
            "4000/4000 [==============================] - 32s 8ms/step - loss: 0.0295 - accuracy: 0.9907 - val_loss: 0.0731 - val_accuracy: 0.9849\n",
            "Epoch 20/40\n",
            "3998/4000 [============================>.] - ETA: 0s - loss: 0.0283 - accuracy: 0.9908\n",
            "Epoch 20: val_loss did not improve from 0.06441\n",
            "4000/4000 [==============================] - 35s 9ms/step - loss: 0.0283 - accuracy: 0.9908 - val_loss: 0.0691 - val_accuracy: 0.9843\n",
            "Epoch 21/40\n",
            "3998/4000 [============================>.] - ETA: 0s - loss: 0.0271 - accuracy: 0.9912\n",
            "Epoch 21: val_loss did not improve from 0.06441\n",
            "4000/4000 [==============================] - 32s 8ms/step - loss: 0.0271 - accuracy: 0.9912 - val_loss: 0.0711 - val_accuracy: 0.9841\n",
            "Epoch 22/40\n",
            "3994/4000 [============================>.] - ETA: 0s - loss: 0.0245 - accuracy: 0.9918\n",
            "Epoch 22: val_loss did not improve from 0.06441\n",
            "4000/4000 [==============================] - 33s 8ms/step - loss: 0.0246 - accuracy: 0.9918 - val_loss: 0.0690 - val_accuracy: 0.9846\n",
            "Epoch 23/40\n",
            "3998/4000 [============================>.] - ETA: 0s - loss: 0.0259 - accuracy: 0.9919\n",
            "Epoch 23: val_loss did not improve from 0.06441\n",
            "4000/4000 [==============================] - 32s 8ms/step - loss: 0.0259 - accuracy: 0.9919 - val_loss: 0.0758 - val_accuracy: 0.9832\n",
            "Epoch 24/40\n",
            "3995/4000 [============================>.] - ETA: 0s - loss: 0.0237 - accuracy: 0.9925\n",
            "Epoch 24: val_loss did not improve from 0.06441\n",
            "4000/4000 [==============================] - 33s 8ms/step - loss: 0.0237 - accuracy: 0.9925 - val_loss: 0.0733 - val_accuracy: 0.9852\n",
            "Epoch 25/40\n",
            "3994/4000 [============================>.] - ETA: 0s - loss: 0.0238 - accuracy: 0.9923\n",
            "Epoch 25: val_loss did not improve from 0.06441\n",
            "4000/4000 [==============================] - 31s 8ms/step - loss: 0.0238 - accuracy: 0.9923 - val_loss: 0.0801 - val_accuracy: 0.9822\n",
            "Epoch 26/40\n",
            "4000/4000 [==============================] - ETA: 0s - loss: 0.0240 - accuracy: 0.9926\n",
            "Epoch 26: val_loss did not improve from 0.06441\n",
            "4000/4000 [==============================] - 33s 8ms/step - loss: 0.0240 - accuracy: 0.9926 - val_loss: 0.0683 - val_accuracy: 0.9846\n",
            "Epoch 27/40\n",
            "3999/4000 [============================>.] - ETA: 0s - loss: 0.0211 - accuracy: 0.9928\n",
            "Epoch 27: val_loss did not improve from 0.06441\n",
            "4000/4000 [==============================] - 33s 8ms/step - loss: 0.0211 - accuracy: 0.9928 - val_loss: 0.0739 - val_accuracy: 0.9842\n",
            "Epoch 28/40\n",
            "3997/4000 [============================>.] - ETA: 0s - loss: 0.0209 - accuracy: 0.9932\n",
            "Epoch 28: val_loss did not improve from 0.06441\n",
            "4000/4000 [==============================] - 32s 8ms/step - loss: 0.0209 - accuracy: 0.9932 - val_loss: 0.0880 - val_accuracy: 0.9830\n",
            "Epoch 29/40\n",
            "4000/4000 [==============================] - ETA: 0s - loss: 0.0232 - accuracy: 0.9930\n",
            "Epoch 29: val_loss did not improve from 0.06441\n",
            "4000/4000 [==============================] - 32s 8ms/step - loss: 0.0232 - accuracy: 0.9930 - val_loss: 0.0818 - val_accuracy: 0.9839\n",
            "Epoch 30/40\n",
            "4000/4000 [==============================] - ETA: 0s - loss: 0.0205 - accuracy: 0.9936\n",
            "Epoch 30: val_loss did not improve from 0.06441\n",
            "4000/4000 [==============================] - 32s 8ms/step - loss: 0.0205 - accuracy: 0.9936 - val_loss: 0.0743 - val_accuracy: 0.9848\n",
            "Epoch 31/40\n",
            "3995/4000 [============================>.] - ETA: 0s - loss: 0.0208 - accuracy: 0.9933\n",
            "Epoch 31: val_loss did not improve from 0.06441\n",
            "4000/4000 [==============================] - 33s 8ms/step - loss: 0.0208 - accuracy: 0.9933 - val_loss: 0.0748 - val_accuracy: 0.9850\n",
            "Epoch 32/40\n",
            "3996/4000 [============================>.] - ETA: 0s - loss: 0.0193 - accuracy: 0.9937\n",
            "Epoch 32: val_loss did not improve from 0.06441\n",
            "4000/4000 [==============================] - 32s 8ms/step - loss: 0.0193 - accuracy: 0.9937 - val_loss: 0.0783 - val_accuracy: 0.9853\n",
            "Epoch 33/40\n",
            "3998/4000 [============================>.] - ETA: 0s - loss: 0.0190 - accuracy: 0.9936\n",
            "Epoch 33: val_loss did not improve from 0.06441\n",
            "4000/4000 [==============================] - 33s 8ms/step - loss: 0.0190 - accuracy: 0.9936 - val_loss: 0.0787 - val_accuracy: 0.9844\n",
            "Epoch 34/40\n",
            "3999/4000 [============================>.] - ETA: 0s - loss: 0.0186 - accuracy: 0.9939\n",
            "Epoch 34: val_loss did not improve from 0.06441\n",
            "4000/4000 [==============================] - 33s 8ms/step - loss: 0.0186 - accuracy: 0.9939 - val_loss: 0.0770 - val_accuracy: 0.9853\n",
            "Epoch 35/40\n",
            "3998/4000 [============================>.] - ETA: 0s - loss: 0.0191 - accuracy: 0.9936\n",
            "Epoch 35: val_loss did not improve from 0.06441\n",
            "4000/4000 [==============================] - 32s 8ms/step - loss: 0.0191 - accuracy: 0.9936 - val_loss: 0.0807 - val_accuracy: 0.9839\n",
            "Epoch 36/40\n",
            "3996/4000 [============================>.] - ETA: 0s - loss: 0.0166 - accuracy: 0.9946\n",
            "Epoch 36: val_loss did not improve from 0.06441\n",
            "4000/4000 [==============================] - 33s 8ms/step - loss: 0.0167 - accuracy: 0.9946 - val_loss: 0.0813 - val_accuracy: 0.9845\n",
            "Epoch 37/40\n",
            "3999/4000 [============================>.] - ETA: 0s - loss: 0.0165 - accuracy: 0.9948\n",
            "Epoch 37: val_loss did not improve from 0.06441\n",
            "4000/4000 [==============================] - 33s 8ms/step - loss: 0.0164 - accuracy: 0.9948 - val_loss: 0.0815 - val_accuracy: 0.9849\n",
            "Epoch 38/40\n",
            "3998/4000 [============================>.] - ETA: 0s - loss: 0.0172 - accuracy: 0.9945\n",
            "Epoch 38: val_loss did not improve from 0.06441\n",
            "4000/4000 [==============================] - 33s 8ms/step - loss: 0.0172 - accuracy: 0.9945 - val_loss: 0.0763 - val_accuracy: 0.9857\n",
            "Epoch 39/40\n",
            "3996/4000 [============================>.] - ETA: 0s - loss: 0.0173 - accuracy: 0.9942\n",
            "Epoch 39: val_loss did not improve from 0.06441\n",
            "4000/4000 [==============================] - 31s 8ms/step - loss: 0.0173 - accuracy: 0.9942 - val_loss: 0.0862 - val_accuracy: 0.9831\n",
            "Epoch 40/40\n",
            "3996/4000 [============================>.] - ETA: 0s - loss: 0.0173 - accuracy: 0.9946\n",
            "Epoch 40: val_loss did not improve from 0.06441\n",
            "4000/4000 [==============================] - 32s 8ms/step - loss: 0.0173 - accuracy: 0.9946 - val_loss: 0.0811 - val_accuracy: 0.9841\n"
          ]
        },
        {
          "output_type": "execute_result",
          "data": {
            "text/plain": [
              "<keras.src.callbacks.History at 0x7cba28369900>"
            ]
          },
          "metadata": {},
          "execution_count": 41
        }
      ]
    },
    {
      "cell_type": "code",
      "source": [],
      "metadata": {
        "id": "lwnKSuYqPNxH"
      },
      "execution_count": 41,
      "outputs": []
    },
    {
      "cell_type": "code",
      "source": [
        "experiment.log_model('MNIST1', 'best_model.hdf5')\n",
        "experiment.end()"
      ],
      "metadata": {
        "colab": {
          "base_uri": "https://localhost:8080/"
        },
        "id": "QUyEuyczEF6s",
        "outputId": "eda2be6e-a4ca-481f-bc77-b5b0e2a205a6"
      },
      "execution_count": 42,
      "outputs": [
        {
          "output_type": "stream",
          "name": "stderr",
          "text": [
            "\u001b[1;38;5;214mCOMET WARNING:\u001b[0m Couldn't retrieve Google Colab notebook content\n",
            "\u001b[1;38;5;39mCOMET INFO:\u001b[0m ---------------------------------------------------------------------------------------\n",
            "\u001b[1;38;5;39mCOMET INFO:\u001b[0m Comet.ml Experiment Summary\n",
            "\u001b[1;38;5;39mCOMET INFO:\u001b[0m ---------------------------------------------------------------------------------------\n",
            "\u001b[1;38;5;39mCOMET INFO:\u001b[0m   Data:\n",
            "\u001b[1;38;5;39mCOMET INFO:\u001b[0m     display_summary_level : 1\n",
            "\u001b[1;38;5;39mCOMET INFO:\u001b[0m     url                   : https://www.comet.com/gurumasterahb/tarea-03/64e3d945115d42b3a08de5c4b3bd2e30\n",
            "\u001b[1;38;5;39mCOMET INFO:\u001b[0m   Metrics [count] (min, max):\n",
            "\u001b[1;38;5;39mCOMET INFO:\u001b[0m     accuracy [40]                  : (0.888700008392334, 0.994783341884613)\n",
            "\u001b[1;38;5;39mCOMET INFO:\u001b[0m     batch_accuracy [16000]         : (0.13333334028720856, 1.0)\n",
            "\u001b[1;38;5;39mCOMET INFO:\u001b[0m     batch_loss [16000]             : (1.445480484107975e-05, 2.7477200031280518)\n",
            "\u001b[1;38;5;39mCOMET INFO:\u001b[0m     epoch_duration [40]            : (30.788380681000035, 41.587299067000004)\n",
            "\u001b[1;38;5;39mCOMET INFO:\u001b[0m     loss [40]                      : (0.016448253765702248, 0.3672594428062439)\n",
            "\u001b[1;38;5;39mCOMET INFO:\u001b[0m     val_accuracy [40]              : (0.9491000175476074, 0.9857000112533569)\n",
            "\u001b[1;38;5;39mCOMET INFO:\u001b[0m     val_loss [40]                  : (0.0644133910536766, 0.16772210597991943)\n",
            "\u001b[1;38;5;39mCOMET INFO:\u001b[0m     validate_batch_accuracy [2680] : (0.929801344871521, 1.0)\n",
            "\u001b[1;38;5;39mCOMET INFO:\u001b[0m     validate_batch_loss [2680]     : (1.4105177797318902e-05, 0.2246161550283432)\n",
            "\u001b[1;38;5;39mCOMET INFO:\u001b[0m   Others:\n",
            "\u001b[1;38;5;39mCOMET INFO:\u001b[0m     Name             : Prueba 03.3\n",
            "\u001b[1;38;5;39mCOMET INFO:\u001b[0m     trainable_params : 639300\n",
            "\u001b[1;38;5;39mCOMET INFO:\u001b[0m   Parameters:\n",
            "\u001b[1;38;5;39mCOMET INFO:\u001b[0m     Adam_amsgrad                 : False\n",
            "\u001b[1;38;5;39mCOMET INFO:\u001b[0m     Adam_beta_1                  : 0.9\n",
            "\u001b[1;38;5;39mCOMET INFO:\u001b[0m     Adam_beta_2                  : 0.999\n",
            "\u001b[1;38;5;39mCOMET INFO:\u001b[0m     Adam_clipnorm                : 1\n",
            "\u001b[1;38;5;39mCOMET INFO:\u001b[0m     Adam_clipvalue               : 1\n",
            "\u001b[1;38;5;39mCOMET INFO:\u001b[0m     Adam_ema_momentum            : 0.99\n",
            "\u001b[1;38;5;39mCOMET INFO:\u001b[0m     Adam_ema_overwrite_frequency : 1\n",
            "\u001b[1;38;5;39mCOMET INFO:\u001b[0m     Adam_epsilon                 : 1e-07\n",
            "\u001b[1;38;5;39mCOMET INFO:\u001b[0m     Adam_global_clipnorm         : 1\n",
            "\u001b[1;38;5;39mCOMET INFO:\u001b[0m     Adam_is_legacy_optimizer     : False\n",
            "\u001b[1;38;5;39mCOMET INFO:\u001b[0m     Adam_jit_compile             : False\n",
            "\u001b[1;38;5;39mCOMET INFO:\u001b[0m     Adam_learning_rate           : 0.0010000000474974513\n",
            "\u001b[1;38;5;39mCOMET INFO:\u001b[0m     Adam_name                    : Adam\n",
            "\u001b[1;38;5;39mCOMET INFO:\u001b[0m     Adam_use_ema                 : False\n",
            "\u001b[1;38;5;39mCOMET INFO:\u001b[0m     Adam_weight_decay            : 1\n",
            "\u001b[1;38;5;39mCOMET INFO:\u001b[0m     batch_size                   : 15\n",
            "\u001b[1;38;5;39mCOMET INFO:\u001b[0m     epochs                       : 40\n",
            "\u001b[1;38;5;39mCOMET INFO:\u001b[0m     learning_rate                : 0.01\n",
            "\u001b[1;38;5;39mCOMET INFO:\u001b[0m     loss                         : categorical_crossentropy\n",
            "\u001b[1;38;5;39mCOMET INFO:\u001b[0m     optimizer                    : adam\n",
            "\u001b[1;38;5;39mCOMET INFO:\u001b[0m     steps                        : 4000\n",
            "\u001b[1;38;5;39mCOMET INFO:\u001b[0m   Uploads:\n",
            "\u001b[1;38;5;39mCOMET INFO:\u001b[0m     environment details : 1\n",
            "\u001b[1;38;5;39mCOMET INFO:\u001b[0m     filename            : 1\n",
            "\u001b[1;38;5;39mCOMET INFO:\u001b[0m     histogram3d         : 369\n",
            "\u001b[1;38;5;39mCOMET INFO:\u001b[0m     installed packages  : 1\n",
            "\u001b[1;38;5;39mCOMET INFO:\u001b[0m     model graph         : 1\n",
            "\u001b[1;38;5;39mCOMET INFO:\u001b[0m     model-element       : 1 (7.35 MB)\n",
            "\u001b[1;38;5;39mCOMET INFO:\u001b[0m     notebook            : 1\n",
            "\u001b[1;38;5;39mCOMET INFO:\u001b[0m     os packages         : 1\n",
            "\u001b[1;38;5;39mCOMET INFO:\u001b[0m     source_code         : 1\n",
            "\u001b[1;38;5;39mCOMET INFO:\u001b[0m \n",
            "\u001b[1;38;5;39mCOMET INFO:\u001b[0m Please wait for metadata to finish uploading (timeout is 3600 seconds)\n"
          ]
        }
      ]
    }
  ]
}