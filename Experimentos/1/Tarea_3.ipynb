{
  "nbformat": 4,
  "nbformat_minor": 0,
  "metadata": {
    "colab": {
      "provenance": []
    },
    "kernelspec": {
      "name": "python3",
      "display_name": "Python 3"
    },
    "language_info": {
      "name": "python"
    }
  },
  "cells": [
    {
      "cell_type": "code",
      "execution_count": 138,
      "metadata": {
        "id": "PLwl1LzBl3A5"
      },
      "outputs": [],
      "source": [
        "# Para llevar un registro de los cambios\n",
        "%pip install -q comet_ml\n",
        "import comet_ml\n",
        "comet_ml.init(project_name='Tarea 03')"
      ]
    },
    {
      "cell_type": "code",
      "source": [
        "# Librerías\n",
        "import tensorflow as tf\n",
        "from tensorflow import keras\n",
        "from tensorflow.keras.datasets import mnist\n",
        "from tensorflow.keras.models import Sequential\n",
        "from tensorflow.keras.layers import Dense, Dropout, Activation, Flatten, Input\n",
        "from tensorflow.keras.optimizers import RMSprop, SGD\n",
        "from tensorflow.keras import regularizers\n",
        "from keras.callbacks import ModelCheckpoint"
      ],
      "metadata": {
        "id": "khfjh-UbkyZX"
      },
      "execution_count": 139,
      "outputs": []
    },
    {
      "cell_type": "code",
      "source": [
        "experiment = comet_ml.Experiment(\n",
        "    auto_histogram_weight_logging=True,\n",
        "    auto_histogram_gradient_logging=True,\n",
        "    auto_histogram_activation_logging=True,\n",
        "    log_code=True,\n",
        ")\n",
        "experiment.set_name(\"Prueba 03.2\")"
      ],
      "metadata": {
        "colab": {
          "base_uri": "https://localhost:8080/"
        },
        "id": "3u9sQxMLsAst",
        "outputId": "66affce7-e67c-4cfd-8cc7-4ddfc66fe40c"
      },
      "execution_count": 140,
      "outputs": [
        {
          "output_type": "stream",
          "name": "stderr",
          "text": [
            "\u001b[1;38;5;39mCOMET INFO:\u001b[0m ---------------------------------------------------------------------------------------\n",
            "\u001b[1;38;5;39mCOMET INFO:\u001b[0m Comet.ml Experiment Summary\n",
            "\u001b[1;38;5;39mCOMET INFO:\u001b[0m ---------------------------------------------------------------------------------------\n",
            "\u001b[1;38;5;39mCOMET INFO:\u001b[0m   Data:\n",
            "\u001b[1;38;5;39mCOMET INFO:\u001b[0m     display_summary_level : 1\n",
            "\u001b[1;38;5;39mCOMET INFO:\u001b[0m     url                   : https://www.comet.com/gurumasterahb/tarea-03/387bbf019e624cb9901bdad1bfd0ca7c\n",
            "\u001b[1;38;5;39mCOMET INFO:\u001b[0m   Metrics [count] (min, max):\n",
            "\u001b[1;38;5;39mCOMET INFO:\u001b[0m     batch_accuracy [356] : (0.0, 0.9144278764724731)\n",
            "\u001b[1;38;5;39mCOMET INFO:\u001b[0m     batch_loss [356]     : (0.2861325442790985, 2.5217435359954834)\n",
            "\u001b[1;38;5;39mCOMET INFO:\u001b[0m   Others:\n",
            "\u001b[1;38;5;39mCOMET INFO:\u001b[0m     Name             : Prueba 03.2\n",
            "\u001b[1;38;5;39mCOMET INFO:\u001b[0m     trainable_params : 639300\n",
            "\u001b[1;38;5;39mCOMET INFO:\u001b[0m   Parameters:\n",
            "\u001b[1;38;5;39mCOMET INFO:\u001b[0m     RMSprop_centered                : False\n",
            "\u001b[1;38;5;39mCOMET INFO:\u001b[0m     RMSprop_clipnorm                : 1\n",
            "\u001b[1;38;5;39mCOMET INFO:\u001b[0m     RMSprop_clipvalue               : 1\n",
            "\u001b[1;38;5;39mCOMET INFO:\u001b[0m     RMSprop_ema_momentum            : 0.99\n",
            "\u001b[1;38;5;39mCOMET INFO:\u001b[0m     RMSprop_ema_overwrite_frequency : 100\n",
            "\u001b[1;38;5;39mCOMET INFO:\u001b[0m     RMSprop_epsilon                 : 1e-07\n",
            "\u001b[1;38;5;39mCOMET INFO:\u001b[0m     RMSprop_global_clipnorm         : 1\n",
            "\u001b[1;38;5;39mCOMET INFO:\u001b[0m     RMSprop_is_legacy_optimizer     : False\n",
            "\u001b[1;38;5;39mCOMET INFO:\u001b[0m     RMSprop_jit_compile             : False\n",
            "\u001b[1;38;5;39mCOMET INFO:\u001b[0m     RMSprop_learning_rate           : 0.0005000000237487257\n",
            "\u001b[1;38;5;39mCOMET INFO:\u001b[0m     RMSprop_momentum                : 0.0\n",
            "\u001b[1;38;5;39mCOMET INFO:\u001b[0m     RMSprop_name                    : RMSprop\n",
            "\u001b[1;38;5;39mCOMET INFO:\u001b[0m     RMSprop_rho                     : 0.9\n",
            "\u001b[1;38;5;39mCOMET INFO:\u001b[0m     RMSprop_use_ema                 : False\n",
            "\u001b[1;38;5;39mCOMET INFO:\u001b[0m     RMSprop_weight_decay            : 1\n",
            "\u001b[1;38;5;39mCOMET INFO:\u001b[0m     batch_size                      : 15\n",
            "\u001b[1;38;5;39mCOMET INFO:\u001b[0m     epochs                          : 40\n",
            "\u001b[1;38;5;39mCOMET INFO:\u001b[0m     learning_rate                   : 0.01\n",
            "\u001b[1;38;5;39mCOMET INFO:\u001b[0m     loss                            : categorical_crossentropy\n",
            "\u001b[1;38;5;39mCOMET INFO:\u001b[0m     steps                           : 4000\n",
            "\u001b[1;38;5;39mCOMET INFO:\u001b[0m   Uploads:\n",
            "\u001b[1;38;5;39mCOMET INFO:\u001b[0m     environment details : 1\n",
            "\u001b[1;38;5;39mCOMET INFO:\u001b[0m     filename            : 1\n",
            "\u001b[1;38;5;39mCOMET INFO:\u001b[0m     histogram3d         : 9\n",
            "\u001b[1;38;5;39mCOMET INFO:\u001b[0m     installed packages  : 1\n",
            "\u001b[1;38;5;39mCOMET INFO:\u001b[0m     model graph         : 1\n",
            "\u001b[1;38;5;39mCOMET INFO:\u001b[0m     notebook            : 2\n",
            "\u001b[1;38;5;39mCOMET INFO:\u001b[0m     os packages         : 1\n",
            "\u001b[1;38;5;39mCOMET INFO:\u001b[0m     source_code         : 1\n",
            "\u001b[1;38;5;39mCOMET INFO:\u001b[0m \n",
            "\u001b[1;38;5;214mCOMET WARNING:\u001b[0m As you are running in a Jupyter environment, you will need to call `experiment.end()` when finished to ensure all metrics and code are logged before exiting.\n",
            "\u001b[1;38;5;39mCOMET INFO:\u001b[0m Couldn't find a Git repository in '/content' nor in any parent directory. Set `COMET_GIT_DIRECTORY` if your Git Repository is elsewhere.\n",
            "\u001b[1;38;5;39mCOMET INFO:\u001b[0m Experiment is live on comet.com https://www.comet.com/gurumasterahb/tarea-03/723e4d25e7f346c9b1ffebd64db502c1\n",
            "\n"
          ]
        }
      ]
    },
    {
      "cell_type": "code",
      "source": [
        "# Carga el dataset de MNIST\n",
        "(x_train, y_train), (x_test, y_test) = mnist.load_data()"
      ],
      "metadata": {
        "id": "5GhobFrzsKp0"
      },
      "execution_count": 141,
      "outputs": []
    },
    {
      "cell_type": "code",
      "source": [
        "# Convierte y normaliza los datos de entrada\n",
        "x_train = x_train.astype('float32')\n",
        "x_test = x_test.astype('float32')\n",
        "x_train /= 255\n",
        "x_test /= 255"
      ],
      "metadata": {
        "id": "7GpqRRmGuDve"
      },
      "execution_count": 142,
      "outputs": []
    },
    {
      "cell_type": "code",
      "source": [
        "# to_categorical convierte las etiquetas (train, test) en matrices one-hot\n",
        "num_classes = 10\n",
        "y_trainc = keras.utils.to_categorical(y_train, num_classes)\n",
        "y_testc = keras.utils.to_categorical(y_test, num_classes)"
      ],
      "metadata": {
        "id": "K0df0m67vFHQ"
      },
      "execution_count": 143,
      "outputs": []
    },
    {
      "cell_type": "code",
      "source": [
        "  # Diccionario con los parámetros que se registrarán en comet\n",
        "  parameters = {\n",
        "      'epochs' : 40,\n",
        "      'batch_size' : 15,\n",
        "      'learning_rate' : 0.010,\n",
        "      'loss' : 'categorical_crossentropy'\n",
        "  }\n",
        "  experiment.log_parameters(parameters)"
      ],
      "metadata": {
        "id": "Nt6SR_7Cv-8g"
      },
      "execution_count": 144,
      "outputs": []
    },
    {
      "cell_type": "code",
      "source": [
        "# Creación del modelo\n",
        "model = Sequential()\n",
        "# Es como una \"primera capa\" de tres capas\n",
        "model.add(Input(shape = (28,28))) # Matrices de entrada de 28x28 (imáegenes)\n",
        "model.add(Flatten()) # Convierte las matrices de 28x28 en matrices de 784x1\n",
        "model.add(Dense(784, activation = 'sigmoid'))\n",
        "model.add(Dropout(0.5))\n",
        "model.add(Dense(30, activation = 'relu')) # Segunda capa\n",
        "model.add(Dense(10, activation = 'softmax')) # Tercera capa\n",
        "\n",
        "model.summary()"
      ],
      "metadata": {
        "colab": {
          "base_uri": "https://localhost:8080/"
        },
        "id": "AP1jXJ7Mx5N2",
        "outputId": "b76f9c52-f878-4077-f7c8-78a1551318a7"
      },
      "execution_count": 145,
      "outputs": [
        {
          "output_type": "stream",
          "name": "stdout",
          "text": [
            "Model: \"sequential_12\"\n",
            "_________________________________________________________________\n",
            " Layer (type)                Output Shape              Param #   \n",
            "=================================================================\n",
            " flatten_12 (Flatten)        (None, 784)               0         \n",
            "                                                                 \n",
            " dense_38 (Dense)            (None, 784)               615440    \n",
            "                                                                 \n",
            " dropout_9 (Dropout)         (None, 784)               0         \n",
            "                                                                 \n",
            " dense_39 (Dense)            (None, 30)                23550     \n",
            "                                                                 \n",
            " dense_40 (Dense)            (None, 10)                310       \n",
            "                                                                 \n",
            "=================================================================\n",
            "Total params: 639300 (2.44 MB)\n",
            "Trainable params: 639300 (2.44 MB)\n",
            "Non-trainable params: 0 (0.00 Byte)\n",
            "_________________________________________________________________\n"
          ]
        }
      ]
    },
    {
      "cell_type": "code",
      "source": [
        "# Checkpoint que guarda el mejor modelo (cuando la función de costo alcanza un mínimo)\n",
        "checkpoint = ModelCheckpoint(filepath = 'best_model.hdf5', monitor = 'val_loss', verbose = 1, save_best_only = True, mode = 'min')"
      ],
      "metadata": {
        "id": "6X-WyYYzBjQI"
      },
      "execution_count": 146,
      "outputs": []
    },
    {
      "cell_type": "code",
      "source": [
        "optimizer = RMSprop(learning_rate = 0.0005)\n",
        "model.compile(loss = parameters['loss'], optimizer = optimizer, metrics = ['accuracy'])\n",
        "model.fit(x_train, y_trainc, batch_size = parameters['batch_size'], epochs = parameters['epochs'], verbose = 1, validation_data = (x_test, y_testc), callbacks = [checkpoint])"
      ],
      "metadata": {
        "colab": {
          "base_uri": "https://localhost:8080/"
        },
        "id": "tI9RGkPFCLSH",
        "outputId": "a6ff7cb1-a78d-417f-fc1e-840543ca300a"
      },
      "execution_count": 147,
      "outputs": [
        {
          "output_type": "stream",
          "name": "stdout",
          "text": [
            "Epoch 1/40\n",
            "3996/4000 [============================>.] - ETA: 0s - loss: 0.4614 - accuracy: 0.8580\n",
            "Epoch 1: val_loss improved from inf to 0.24109, saving model to best_model.hdf5\n",
            "4000/4000 [==============================] - 21s 5ms/step - loss: 0.4610 - accuracy: 0.8581 - val_loss: 0.2411 - val_accuracy: 0.9285\n",
            "Epoch 2/40\n",
            "3993/4000 [============================>.] - ETA: 0s - loss: 0.2575 - accuracy: 0.9240\n",
            "Epoch 2: val_loss improved from 0.24109 to 0.19224, saving model to best_model.hdf5\n",
            "4000/4000 [==============================] - 21s 5ms/step - loss: 0.2573 - accuracy: 0.9241 - val_loss: 0.1922 - val_accuracy: 0.9451\n",
            "Epoch 3/40\n",
            "3991/4000 [============================>.] - ETA: 0s - loss: 0.2035 - accuracy: 0.9401\n",
            "Epoch 3: val_loss improved from 0.19224 to 0.15294, saving model to best_model.hdf5\n",
            "4000/4000 [==============================] - 21s 5ms/step - loss: 0.2034 - accuracy: 0.9402 - val_loss: 0.1529 - val_accuracy: 0.9542\n",
            "Epoch 4/40\n",
            "3994/4000 [============================>.] - ETA: 0s - loss: 0.1722 - accuracy: 0.9502\n",
            "Epoch 4: val_loss improved from 0.15294 to 0.13262, saving model to best_model.hdf5\n",
            "4000/4000 [==============================] - 21s 5ms/step - loss: 0.1721 - accuracy: 0.9502 - val_loss: 0.1326 - val_accuracy: 0.9601\n",
            "Epoch 5/40\n",
            "3995/4000 [============================>.] - ETA: 0s - loss: 0.1540 - accuracy: 0.9562\n",
            "Epoch 5: val_loss improved from 0.13262 to 0.12354, saving model to best_model.hdf5\n",
            "4000/4000 [==============================] - 21s 5ms/step - loss: 0.1542 - accuracy: 0.9562 - val_loss: 0.1235 - val_accuracy: 0.9656\n",
            "Epoch 6/40\n",
            "4000/4000 [==============================] - ETA: 0s - loss: 0.1389 - accuracy: 0.9607\n",
            "Epoch 6: val_loss improved from 0.12354 to 0.11307, saving model to best_model.hdf5\n",
            "4000/4000 [==============================] - 22s 5ms/step - loss: 0.1389 - accuracy: 0.9607 - val_loss: 0.1131 - val_accuracy: 0.9680\n",
            "Epoch 7/40\n",
            "3998/4000 [============================>.] - ETA: 0s - loss: 0.1316 - accuracy: 0.9636\n",
            "Epoch 7: val_loss improved from 0.11307 to 0.10902, saving model to best_model.hdf5\n",
            "4000/4000 [==============================] - 21s 5ms/step - loss: 0.1316 - accuracy: 0.9635 - val_loss: 0.1090 - val_accuracy: 0.9694\n",
            "Epoch 8/40\n",
            "4000/4000 [==============================] - ETA: 0s - loss: 0.1215 - accuracy: 0.9662\n",
            "Epoch 8: val_loss improved from 0.10902 to 0.10420, saving model to best_model.hdf5\n",
            "4000/4000 [==============================] - 21s 5ms/step - loss: 0.1215 - accuracy: 0.9662 - val_loss: 0.1042 - val_accuracy: 0.9717\n",
            "Epoch 9/40\n",
            "3996/4000 [============================>.] - ETA: 0s - loss: 0.1152 - accuracy: 0.9690\n",
            "Epoch 9: val_loss improved from 0.10420 to 0.10333, saving model to best_model.hdf5\n",
            "4000/4000 [==============================] - 22s 5ms/step - loss: 0.1152 - accuracy: 0.9690 - val_loss: 0.1033 - val_accuracy: 0.9729\n",
            "Epoch 10/40\n",
            "4000/4000 [==============================] - ETA: 0s - loss: 0.1096 - accuracy: 0.9701\n",
            "Epoch 10: val_loss improved from 0.10333 to 0.09555, saving model to best_model.hdf5\n",
            "4000/4000 [==============================] - 21s 5ms/step - loss: 0.1096 - accuracy: 0.9701 - val_loss: 0.0955 - val_accuracy: 0.9742\n",
            "Epoch 11/40\n",
            "3995/4000 [============================>.] - ETA: 0s - loss: 0.1064 - accuracy: 0.9716\n",
            "Epoch 11: val_loss improved from 0.09555 to 0.09171, saving model to best_model.hdf5\n",
            "4000/4000 [==============================] - 21s 5ms/step - loss: 0.1064 - accuracy: 0.9717 - val_loss: 0.0917 - val_accuracy: 0.9769\n",
            "Epoch 12/40\n",
            "3997/4000 [============================>.] - ETA: 0s - loss: 0.0992 - accuracy: 0.9734\n",
            "Epoch 12: val_loss did not improve from 0.09171\n",
            "4000/4000 [==============================] - 22s 6ms/step - loss: 0.0991 - accuracy: 0.9735 - val_loss: 0.0923 - val_accuracy: 0.9769\n",
            "Epoch 13/40\n",
            "3998/4000 [============================>.] - ETA: 0s - loss: 0.0994 - accuracy: 0.9740\n",
            "Epoch 13: val_loss improved from 0.09171 to 0.08999, saving model to best_model.hdf5\n",
            "4000/4000 [==============================] - 22s 6ms/step - loss: 0.0994 - accuracy: 0.9740 - val_loss: 0.0900 - val_accuracy: 0.9782\n",
            "Epoch 14/40\n",
            "3999/4000 [============================>.] - ETA: 0s - loss: 0.0932 - accuracy: 0.9755\n",
            "Epoch 14: val_loss did not improve from 0.08999\n",
            "4000/4000 [==============================] - 21s 5ms/step - loss: 0.0932 - accuracy: 0.9755 - val_loss: 0.0917 - val_accuracy: 0.9766\n",
            "Epoch 15/40\n",
            "4000/4000 [==============================] - ETA: 0s - loss: 0.0919 - accuracy: 0.9764\n",
            "Epoch 15: val_loss improved from 0.08999 to 0.08996, saving model to best_model.hdf5\n",
            "4000/4000 [==============================] - 22s 5ms/step - loss: 0.0919 - accuracy: 0.9764 - val_loss: 0.0900 - val_accuracy: 0.9786\n",
            "Epoch 16/40\n",
            "3997/4000 [============================>.] - ETA: 0s - loss: 0.0895 - accuracy: 0.9769\n",
            "Epoch 16: val_loss did not improve from 0.08996\n",
            "4000/4000 [==============================] - 21s 5ms/step - loss: 0.0897 - accuracy: 0.9769 - val_loss: 0.1007 - val_accuracy: 0.9747\n",
            "Epoch 17/40\n",
            "4000/4000 [==============================] - ETA: 0s - loss: 0.0883 - accuracy: 0.9776\n",
            "Epoch 17: val_loss did not improve from 0.08996\n",
            "4000/4000 [==============================] - 21s 5ms/step - loss: 0.0883 - accuracy: 0.9776 - val_loss: 0.0910 - val_accuracy: 0.9789\n",
            "Epoch 18/40\n",
            "3990/4000 [============================>.] - ETA: 0s - loss: 0.0849 - accuracy: 0.9779\n",
            "Epoch 18: val_loss did not improve from 0.08996\n",
            "4000/4000 [==============================] - 21s 5ms/step - loss: 0.0849 - accuracy: 0.9779 - val_loss: 0.0947 - val_accuracy: 0.9778\n",
            "Epoch 19/40\n",
            "3999/4000 [============================>.] - ETA: 0s - loss: 0.0878 - accuracy: 0.9779\n",
            "Epoch 19: val_loss improved from 0.08996 to 0.08613, saving model to best_model.hdf5\n",
            "4000/4000 [==============================] - 22s 5ms/step - loss: 0.0877 - accuracy: 0.9779 - val_loss: 0.0861 - val_accuracy: 0.9799\n",
            "Epoch 20/40\n",
            "3992/4000 [============================>.] - ETA: 0s - loss: 0.0837 - accuracy: 0.9793\n",
            "Epoch 20: val_loss did not improve from 0.08613\n",
            "4000/4000 [==============================] - 20s 5ms/step - loss: 0.0836 - accuracy: 0.9793 - val_loss: 0.0912 - val_accuracy: 0.9795\n",
            "Epoch 21/40\n",
            "3992/4000 [============================>.] - ETA: 0s - loss: 0.0832 - accuracy: 0.9785\n",
            "Epoch 21: val_loss did not improve from 0.08613\n",
            "4000/4000 [==============================] - 21s 5ms/step - loss: 0.0832 - accuracy: 0.9785 - val_loss: 0.0869 - val_accuracy: 0.9788\n",
            "Epoch 22/40\n",
            "3998/4000 [============================>.] - ETA: 0s - loss: 0.0789 - accuracy: 0.9805\n",
            "Epoch 22: val_loss did not improve from 0.08613\n",
            "4000/4000 [==============================] - 21s 5ms/step - loss: 0.0789 - accuracy: 0.9805 - val_loss: 0.0863 - val_accuracy: 0.9805\n",
            "Epoch 23/40\n",
            "3999/4000 [============================>.] - ETA: 0s - loss: 0.0805 - accuracy: 0.9801\n",
            "Epoch 23: val_loss did not improve from 0.08613\n",
            "4000/4000 [==============================] - 21s 5ms/step - loss: 0.0805 - accuracy: 0.9801 - val_loss: 0.0916 - val_accuracy: 0.9808\n",
            "Epoch 24/40\n",
            "3994/4000 [============================>.] - ETA: 0s - loss: 0.0772 - accuracy: 0.9803\n",
            "Epoch 24: val_loss improved from 0.08613 to 0.08506, saving model to best_model.hdf5\n",
            "4000/4000 [==============================] - 21s 5ms/step - loss: 0.0772 - accuracy: 0.9803 - val_loss: 0.0851 - val_accuracy: 0.9820\n",
            "Epoch 25/40\n",
            "3991/4000 [============================>.] - ETA: 0s - loss: 0.0759 - accuracy: 0.9817\n",
            "Epoch 25: val_loss improved from 0.08506 to 0.08501, saving model to best_model.hdf5\n",
            "4000/4000 [==============================] - 20s 5ms/step - loss: 0.0759 - accuracy: 0.9817 - val_loss: 0.0850 - val_accuracy: 0.9808\n",
            "Epoch 26/40\n",
            "3992/4000 [============================>.] - ETA: 0s - loss: 0.0761 - accuracy: 0.9815\n",
            "Epoch 26: val_loss improved from 0.08501 to 0.08479, saving model to best_model.hdf5\n",
            "4000/4000 [==============================] - 22s 5ms/step - loss: 0.0760 - accuracy: 0.9815 - val_loss: 0.0848 - val_accuracy: 0.9804\n",
            "Epoch 27/40\n",
            "3997/4000 [============================>.] - ETA: 0s - loss: 0.0749 - accuracy: 0.9817\n",
            "Epoch 27: val_loss did not improve from 0.08479\n",
            "4000/4000 [==============================] - 21s 5ms/step - loss: 0.0749 - accuracy: 0.9817 - val_loss: 0.0872 - val_accuracy: 0.9815\n",
            "Epoch 28/40\n",
            "3998/4000 [============================>.] - ETA: 0s - loss: 0.0702 - accuracy: 0.9833\n",
            "Epoch 28: val_loss did not improve from 0.08479\n",
            "4000/4000 [==============================] - 21s 5ms/step - loss: 0.0701 - accuracy: 0.9833 - val_loss: 0.0939 - val_accuracy: 0.9794\n",
            "Epoch 29/40\n",
            "3994/4000 [============================>.] - ETA: 0s - loss: 0.0743 - accuracy: 0.9829\n",
            "Epoch 29: val_loss did not improve from 0.08479\n",
            "4000/4000 [==============================] - 21s 5ms/step - loss: 0.0742 - accuracy: 0.9829 - val_loss: 0.0945 - val_accuracy: 0.9810\n",
            "Epoch 30/40\n",
            "3999/4000 [============================>.] - ETA: 0s - loss: 0.0704 - accuracy: 0.9834\n",
            "Epoch 30: val_loss did not improve from 0.08479\n",
            "4000/4000 [==============================] - 22s 6ms/step - loss: 0.0704 - accuracy: 0.9834 - val_loss: 0.0939 - val_accuracy: 0.9815\n",
            "Epoch 31/40\n",
            "3993/4000 [============================>.] - ETA: 0s - loss: 0.0703 - accuracy: 0.9831\n",
            "Epoch 31: val_loss did not improve from 0.08479\n",
            "4000/4000 [==============================] - 23s 6ms/step - loss: 0.0703 - accuracy: 0.9831 - val_loss: 0.0934 - val_accuracy: 0.9797\n",
            "Epoch 32/40\n",
            "3991/4000 [============================>.] - ETA: 0s - loss: 0.0715 - accuracy: 0.9834\n",
            "Epoch 32: val_loss did not improve from 0.08479\n",
            "4000/4000 [==============================] - 23s 6ms/step - loss: 0.0713 - accuracy: 0.9834 - val_loss: 0.1006 - val_accuracy: 0.9794\n",
            "Epoch 33/40\n",
            "3990/4000 [============================>.] - ETA: 0s - loss: 0.0687 - accuracy: 0.9839\n",
            "Epoch 33: val_loss did not improve from 0.08479\n",
            "4000/4000 [==============================] - 22s 5ms/step - loss: 0.0687 - accuracy: 0.9839 - val_loss: 0.0934 - val_accuracy: 0.9823\n",
            "Epoch 34/40\n",
            "3993/4000 [============================>.] - ETA: 0s - loss: 0.0692 - accuracy: 0.9840\n",
            "Epoch 34: val_loss did not improve from 0.08479\n",
            "4000/4000 [==============================] - 21s 5ms/step - loss: 0.0692 - accuracy: 0.9840 - val_loss: 0.0903 - val_accuracy: 0.9821\n",
            "Epoch 35/40\n",
            "3996/4000 [============================>.] - ETA: 0s - loss: 0.0678 - accuracy: 0.9837\n",
            "Epoch 35: val_loss did not improve from 0.08479\n",
            "4000/4000 [==============================] - 22s 5ms/step - loss: 0.0678 - accuracy: 0.9837 - val_loss: 0.0942 - val_accuracy: 0.9813\n",
            "Epoch 36/40\n",
            "3995/4000 [============================>.] - ETA: 0s - loss: 0.0689 - accuracy: 0.9843\n",
            "Epoch 36: val_loss did not improve from 0.08479\n",
            "4000/4000 [==============================] - 22s 6ms/step - loss: 0.0690 - accuracy: 0.9843 - val_loss: 0.0993 - val_accuracy: 0.9807\n",
            "Epoch 37/40\n",
            "3999/4000 [============================>.] - ETA: 0s - loss: 0.0673 - accuracy: 0.9844\n",
            "Epoch 37: val_loss did not improve from 0.08479\n",
            "4000/4000 [==============================] - 21s 5ms/step - loss: 0.0673 - accuracy: 0.9844 - val_loss: 0.0965 - val_accuracy: 0.9804\n",
            "Epoch 38/40\n",
            "3991/4000 [============================>.] - ETA: 0s - loss: 0.0707 - accuracy: 0.9843\n",
            "Epoch 38: val_loss did not improve from 0.08479\n",
            "4000/4000 [==============================] - 22s 5ms/step - loss: 0.0706 - accuracy: 0.9843 - val_loss: 0.0942 - val_accuracy: 0.9820\n",
            "Epoch 39/40\n",
            "3999/4000 [============================>.] - ETA: 0s - loss: 0.0688 - accuracy: 0.9847\n",
            "Epoch 39: val_loss did not improve from 0.08479\n",
            "4000/4000 [==============================] - 22s 5ms/step - loss: 0.0688 - accuracy: 0.9847 - val_loss: 0.0943 - val_accuracy: 0.9826\n",
            "Epoch 40/40\n",
            "3990/4000 [============================>.] - ETA: 0s - loss: 0.0664 - accuracy: 0.9847\n",
            "Epoch 40: val_loss did not improve from 0.08479\n",
            "4000/4000 [==============================] - 21s 5ms/step - loss: 0.0666 - accuracy: 0.9847 - val_loss: 0.0920 - val_accuracy: 0.9818\n"
          ]
        },
        {
          "output_type": "execute_result",
          "data": {
            "text/plain": [
              "<keras.src.callbacks.History at 0x7cd6e9a93820>"
            ]
          },
          "metadata": {},
          "execution_count": 147
        }
      ]
    },
    {
      "cell_type": "code",
      "source": [
        "experiment.log_model('MNIST1', 'best_model.hdf5')\n",
        "experiment.end()"
      ],
      "metadata": {
        "colab": {
          "base_uri": "https://localhost:8080/"
        },
        "id": "QUyEuyczEF6s",
        "outputId": "59e10b42-f467-4e0a-e149-9c14b2ffbe5c"
      },
      "execution_count": 148,
      "outputs": [
        {
          "output_type": "stream",
          "name": "stderr",
          "text": [
            "\u001b[1;38;5;39mCOMET INFO:\u001b[0m ---------------------------------------------------------------------------------------\n",
            "\u001b[1;38;5;39mCOMET INFO:\u001b[0m Comet.ml Experiment Summary\n",
            "\u001b[1;38;5;39mCOMET INFO:\u001b[0m ---------------------------------------------------------------------------------------\n",
            "\u001b[1;38;5;39mCOMET INFO:\u001b[0m   Data:\n",
            "\u001b[1;38;5;39mCOMET INFO:\u001b[0m     display_summary_level : 1\n",
            "\u001b[1;38;5;39mCOMET INFO:\u001b[0m     url                   : https://www.comet.com/gurumasterahb/tarea-03/723e4d25e7f346c9b1ffebd64db502c1\n",
            "\u001b[1;38;5;39mCOMET INFO:\u001b[0m   Metrics [count] (min, max):\n",
            "\u001b[1;38;5;39mCOMET INFO:\u001b[0m     accuracy [40]                  : (0.8581166863441467, 0.9846833348274231)\n",
            "\u001b[1;38;5;39mCOMET INFO:\u001b[0m     batch_accuracy [16000]         : (0.0, 1.0)\n",
            "\u001b[1;38;5;39mCOMET INFO:\u001b[0m     batch_loss [16000]             : (5.097576286061667e-05, 3.053478479385376)\n",
            "\u001b[1;38;5;39mCOMET INFO:\u001b[0m     epoch_duration [40]            : (20.222185921997152, 23.104500531000667)\n",
            "\u001b[1;38;5;39mCOMET INFO:\u001b[0m     loss [40]                      : (0.06658719480037689, 0.46103405952453613)\n",
            "\u001b[1;38;5;39mCOMET INFO:\u001b[0m     val_accuracy [40]              : (0.9284999966621399, 0.9825999736785889)\n",
            "\u001b[1;38;5;39mCOMET INFO:\u001b[0m     val_loss [40]                  : (0.08478657156229019, 0.24108871817588806)\n",
            "\u001b[1;38;5;39mCOMET INFO:\u001b[0m     validate_batch_accuracy [2680] : (0.9030733108520508, 1.0)\n",
            "\u001b[1;38;5;39mCOMET INFO:\u001b[0m     validate_batch_loss [2680]     : (0.0007244211155921221, 0.32327520847320557)\n",
            "\u001b[1;38;5;39mCOMET INFO:\u001b[0m   Others:\n",
            "\u001b[1;38;5;39mCOMET INFO:\u001b[0m     Name             : Prueba 03.2\n",
            "\u001b[1;38;5;39mCOMET INFO:\u001b[0m     trainable_params : 639300\n",
            "\u001b[1;38;5;39mCOMET INFO:\u001b[0m   Parameters:\n",
            "\u001b[1;38;5;39mCOMET INFO:\u001b[0m     RMSprop_centered                : False\n",
            "\u001b[1;38;5;39mCOMET INFO:\u001b[0m     RMSprop_clipnorm                : 1\n",
            "\u001b[1;38;5;39mCOMET INFO:\u001b[0m     RMSprop_clipvalue               : 1\n",
            "\u001b[1;38;5;39mCOMET INFO:\u001b[0m     RMSprop_ema_momentum            : 0.99\n",
            "\u001b[1;38;5;39mCOMET INFO:\u001b[0m     RMSprop_ema_overwrite_frequency : 100\n",
            "\u001b[1;38;5;39mCOMET INFO:\u001b[0m     RMSprop_epsilon                 : 1e-07\n",
            "\u001b[1;38;5;39mCOMET INFO:\u001b[0m     RMSprop_global_clipnorm         : 1\n",
            "\u001b[1;38;5;39mCOMET INFO:\u001b[0m     RMSprop_is_legacy_optimizer     : False\n",
            "\u001b[1;38;5;39mCOMET INFO:\u001b[0m     RMSprop_jit_compile             : False\n",
            "\u001b[1;38;5;39mCOMET INFO:\u001b[0m     RMSprop_learning_rate           : 0.0005000000237487257\n",
            "\u001b[1;38;5;39mCOMET INFO:\u001b[0m     RMSprop_momentum                : 0.0\n",
            "\u001b[1;38;5;39mCOMET INFO:\u001b[0m     RMSprop_name                    : RMSprop\n",
            "\u001b[1;38;5;39mCOMET INFO:\u001b[0m     RMSprop_rho                     : 0.9\n",
            "\u001b[1;38;5;39mCOMET INFO:\u001b[0m     RMSprop_use_ema                 : False\n",
            "\u001b[1;38;5;39mCOMET INFO:\u001b[0m     RMSprop_weight_decay            : 1\n",
            "\u001b[1;38;5;39mCOMET INFO:\u001b[0m     batch_size                      : 15\n",
            "\u001b[1;38;5;39mCOMET INFO:\u001b[0m     epochs                          : 40\n",
            "\u001b[1;38;5;39mCOMET INFO:\u001b[0m     learning_rate                   : 0.01\n",
            "\u001b[1;38;5;39mCOMET INFO:\u001b[0m     loss                            : categorical_crossentropy\n",
            "\u001b[1;38;5;39mCOMET INFO:\u001b[0m     steps                           : 4000\n",
            "\u001b[1;38;5;39mCOMET INFO:\u001b[0m   Uploads:\n",
            "\u001b[1;38;5;39mCOMET INFO:\u001b[0m     environment details : 1\n",
            "\u001b[1;38;5;39mCOMET INFO:\u001b[0m     filename            : 1\n",
            "\u001b[1;38;5;39mCOMET INFO:\u001b[0m     histogram3d         : 369\n",
            "\u001b[1;38;5;39mCOMET INFO:\u001b[0m     installed packages  : 1\n",
            "\u001b[1;38;5;39mCOMET INFO:\u001b[0m     model graph         : 1\n",
            "\u001b[1;38;5;39mCOMET INFO:\u001b[0m     model-element       : 1 (4.90 MB)\n",
            "\u001b[1;38;5;39mCOMET INFO:\u001b[0m     notebook            : 2\n",
            "\u001b[1;38;5;39mCOMET INFO:\u001b[0m     os packages         : 1\n",
            "\u001b[1;38;5;39mCOMET INFO:\u001b[0m     source_code         : 1\n",
            "\u001b[1;38;5;39mCOMET INFO:\u001b[0m \n",
            "\u001b[1;38;5;39mCOMET INFO:\u001b[0m Uploading 1 metrics, params and output messages\n"
          ]
        }
      ]
    }
  ]
}